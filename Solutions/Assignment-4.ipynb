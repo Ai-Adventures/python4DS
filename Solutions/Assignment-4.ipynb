{
 "cells": [
  {
   "cell_type": "markdown",
   "metadata": {},
   "source": [
    "# Solutions Assignment-4"
   ]
  },
  {
   "cell_type": "markdown",
   "metadata": {},
   "source": [
    "### Q1"
   ]
  },
  {
   "cell_type": "code",
   "execution_count": 1,
   "metadata": {},
   "outputs": [
    {
     "name": "stdout",
     "output_type": "stream",
     "text": [
      "7\n",
      "14\n",
      "21\n",
      "28\n",
      "35\n",
      "42\n",
      "49\n",
      "56\n",
      "63\n",
      "70\n",
      "77\n",
      "84\n",
      "91\n",
      "98\n",
      "Divisible numbers are: 14\n"
     ]
    }
   ],
   "source": [
    "def counter():\n",
    "    count = 0\n",
    "    for i in range(1,101):\n",
    "        if i % 7 == 0:\n",
    "            print(i)\n",
    "            count += 1\n",
    "    print(\"Divisible numbers are:\", count)\n",
    "counter()"
   ]
  },
  {
   "cell_type": "markdown",
   "metadata": {},
   "source": [
    "### Q2"
   ]
  },
  {
   "cell_type": "code",
   "execution_count": 4,
   "metadata": {},
   "outputs": [
    {
     "name": "stdout",
     "output_type": "stream",
     "text": [
      "86\n"
     ]
    }
   ],
   "source": [
    "li = []\n",
    "for i in range(2000,3201):\n",
    "    if (i%2==0) & (i%7==0):\n",
    "            li.append(i)\n",
    "print(len(li))"
   ]
  },
  {
   "cell_type": "markdown",
   "metadata": {},
   "source": [
    "### Q3 & Q4"
   ]
  },
  {
   "cell_type": "code",
   "execution_count": 3,
   "metadata": {},
   "outputs": [],
   "source": [
    "def collatz(num):\n",
    "    count=1\n",
    "    print(num)\n",
    "    while num > 1:\n",
    "        if num%2==0:\n",
    "            num=num//2\n",
    "            count+=1\n",
    "            \n",
    "        elif num%2==1:\n",
    "            num=(num*3)+1\n",
    "            count+=1\n",
    "        print(num)\n",
    "    print('Total Numbers',count)"
   ]
  },
  {
   "cell_type": "code",
   "execution_count": 4,
   "metadata": {},
   "outputs": [
    {
     "name": "stdout",
     "output_type": "stream",
     "text": [
      "7\n",
      "22\n",
      "11\n",
      "34\n",
      "17\n",
      "52\n",
      "26\n",
      "13\n",
      "40\n",
      "20\n",
      "10\n",
      "5\n",
      "16\n",
      "8\n",
      "4\n",
      "2\n",
      "1\n",
      "Total Numbers 17\n"
     ]
    }
   ],
   "source": [
    "collatz(7)"
   ]
  },
  {
   "cell_type": "markdown",
   "metadata": {},
   "source": [
    "### Q5"
   ]
  },
  {
   "cell_type": "code",
   "execution_count": 5,
   "metadata": {},
   "outputs": [],
   "source": [
    "radius = [3, 6.5, 10, 7, 5.5]\n",
    "def area(r):\n",
    "    pi = 3.14\n",
    "    for i in r:\n",
    "        print( i*i*pi)"
   ]
  },
  {
   "cell_type": "code",
   "execution_count": 6,
   "metadata": {},
   "outputs": [
    {
     "name": "stdout",
     "output_type": "stream",
     "text": [
      "28.26\n",
      "132.665\n",
      "314.0\n",
      "153.86\n",
      "94.985\n"
     ]
    }
   ],
   "source": [
    "area(radius)"
   ]
  },
  {
   "cell_type": "markdown",
   "metadata": {},
   "source": [
    "### Q6 & Q7"
   ]
  },
  {
   "cell_type": "code",
   "execution_count": 7,
   "metadata": {},
   "outputs": [],
   "source": [
    "def cube(n):\n",
    "    return n*n*n\n",
    "\n",
    "def by_three(n):\n",
    "    if n%3==0:\n",
    "        return cube(n)\n",
    "    else:\n",
    "        return False"
   ]
  },
  {
   "cell_type": "code",
   "execution_count": 9,
   "metadata": {},
   "outputs": [
    {
     "data": {
      "text/plain": [
       "474552"
      ]
     },
     "execution_count": 9,
     "metadata": {},
     "output_type": "execute_result"
    }
   ],
   "source": [
    "by_three(78)"
   ]
  },
  {
   "cell_type": "markdown",
   "metadata": {},
   "source": [
    "### Q8"
   ]
  },
  {
   "cell_type": "code",
   "execution_count": 14,
   "metadata": {},
   "outputs": [
    {
     "name": "stdout",
     "output_type": "stream",
     "text": [
      "([5, 1, 2, 3, 4], 5)\n"
     ]
    }
   ],
   "source": [
    "def give_unique_len(l):\n",
    "    arr = []\n",
    "    for i in l:\n",
    "        if i not in arr:\n",
    "            arr.append(i)\n",
    "    return arr,len(arr)\n",
    "\n",
    "l = [5,1,2,3,3,3,3,4,4,5,4]\n",
    "print(give_unique_len(l))"
   ]
  },
  {
   "cell_type": "markdown",
   "metadata": {},
   "source": [
    "### Q9"
   ]
  },
  {
   "cell_type": "code",
   "execution_count": 12,
   "metadata": {},
   "outputs": [],
   "source": [
    "def addtoinventory(inv,dragonloot):\n",
    "    for i in dragonloot:\n",
    "        if i in inv.keys():\n",
    "            inv[i]+=1\n",
    "        else:\n",
    "            inv[i]=1\n",
    "    return inv"
   ]
  },
  {
   "cell_type": "code",
   "execution_count": 14,
   "metadata": {},
   "outputs": [
    {
     "data": {
      "text/plain": [
       "{'gold coin': 44, 'rope': 1, 'dagger': 1, 'gold_coin': 1, 'ruby': 1}"
      ]
     },
     "execution_count": 14,
     "metadata": {},
     "output_type": "execute_result"
    }
   ],
   "source": [
    "inv = {'gold coin': 42, 'rope': 1} \n",
    "dragonLoot = ['gold coin', 'dagger', 'gold_coin', 'gold coin', 'ruby']\n",
    "\n",
    "addtoinventory(inv,dragonLoot)"
   ]
  },
  {
   "cell_type": "markdown",
   "metadata": {},
   "source": [
    "### Q10"
   ]
  },
  {
   "cell_type": "code",
   "execution_count": 17,
   "metadata": {},
   "outputs": [
    {
     "name": "stdout",
     "output_type": "stream",
     "text": [
      "['dagger', 'gold_coin', 'gold coin', 'ruby'] 4\n"
     ]
    }
   ],
   "source": [
    "for i in dragonLoot:\n",
    "    if dragonLoot.count(i)>1:\n",
    "    \n",
    "        dragonLoot.remove(i)\n",
    "print(dragonLoot,len(dragonLoot))"
   ]
  }
 ],
 "metadata": {
  "kernelspec": {
   "display_name": "Python 3",
   "language": "python",
   "name": "python3"
  },
  "language_info": {
   "codemirror_mode": {
    "name": "ipython",
    "version": 3
   },
   "file_extension": ".py",
   "mimetype": "text/x-python",
   "name": "python",
   "nbconvert_exporter": "python",
   "pygments_lexer": "ipython3",
   "version": "3.6.7"
  }
 },
 "nbformat": 4,
 "nbformat_minor": 2
}
