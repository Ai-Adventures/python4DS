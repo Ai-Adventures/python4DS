{
 "cells": [
  {
   "cell_type": "markdown",
   "metadata": {},
   "source": [
    "# Solutions Assignment-2"
   ]
  },
  {
   "cell_type": "markdown",
   "metadata": {},
   "source": [
    "### Task-1"
   ]
  },
  {
   "cell_type": "code",
   "execution_count": 1,
   "metadata": {},
   "outputs": [
    {
     "name": "stdout",
     "output_type": "stream",
     "text": [
      "Give me input to store in spam.1\n",
      "Hello\n"
     ]
    }
   ],
   "source": [
    "spam = int(input('Give me input to store in spam.'))\n",
    "\n",
    "if spam==1:\n",
    "    print('Hello')\n",
    "elif spam==2:\n",
    "    print('Howdy')\n",
    "else:\n",
    "    print('Greetings')"
   ]
  },
  {
   "cell_type": "code",
   "execution_count": 5,
   "metadata": {},
   "outputs": [
    {
     "name": "stdout",
     "output_type": "stream",
     "text": [
      "Using For Loop\n",
      "1\t2\t3\t4\t5\t6\t7\t8\t9\t10\t\n",
      "\n",
      "Using While Loop\n",
      "1\t2\t3\t4\t5\t6\t7\t8\t9\t10\t"
     ]
    }
   ],
   "source": [
    "print('Using For Loop')\n",
    "for i in range(1,11):\n",
    "    print(i,end = '\\t')\n",
    "i = 1\n",
    "print()\n",
    "print()\n",
    "print('Using While Loop')\n",
    "while i<=10:\n",
    "    print(i,end = '\\t')\n",
    "    i+=1"
   ]
  },
  {
   "cell_type": "markdown",
   "metadata": {},
   "source": [
    "### Question 1. Write code that prints all the even numbers from 13 to 28 (both numbers included)."
   ]
  },
  {
   "cell_type": "code",
   "execution_count": 3,
   "metadata": {},
   "outputs": [
    {
     "name": "stdout",
     "output_type": "stream",
     "text": [
      "8\n"
     ]
    }
   ],
   "source": [
    "count=0\n",
    "for i in range(13,29):\n",
    "    if i%2==0:\n",
    "        count+=1\n",
    "print(count)"
   ]
  },
  {
   "cell_type": "markdown",
   "metadata": {},
   "source": [
    "### Question 2. Write code which prints all the numbers that are either divisible by 5 or 3 between 13 to 28 (both numbers included). How many even numbers do you get?"
   ]
  },
  {
   "cell_type": "code",
   "execution_count": 3,
   "metadata": {},
   "outputs": [
    {
     "name": "stdout",
     "output_type": "stream",
     "text": [
      "15\n",
      "18\n",
      "20\n",
      "21\n",
      "24\n",
      "25\n",
      "27\n",
      "3\n"
     ]
    }
   ],
   "source": [
    "count=0\n",
    "for i in range(13,29):\n",
    "    if (i%5==0) or (i%3==0):\n",
    "        print(i)\n",
    "        if i%2==0:\n",
    "            count+=1\n",
    "print(count)"
   ]
  },
  {
   "cell_type": "markdown",
   "metadata": {},
   "source": [
    "### Question 3. Write a Python program to check a triangle is equilateral, isosceles or scalene."
   ]
  },
  {
   "cell_type": "code",
   "execution_count": 18,
   "metadata": {},
   "outputs": [
    {
     "name": "stdout",
     "output_type": "stream",
     "text": [
      "Scalene\n"
     ]
    }
   ],
   "source": [
    "a = 5\n",
    "b = 1\n",
    "c = 2\n",
    "\n",
    "if a == b == c:\n",
    "    print('Equilateral')\n",
    "    \n",
    "elif a == b or b == c or a == c:\n",
    "    print('Isosceles')\n",
    "    \n",
    "else:\n",
    "    print(\"Scalene\")"
   ]
  },
  {
   "cell_type": "markdown",
   "metadata": {},
   "source": [
    "### Question 4.  Is there any difference between range(10), range(0, 10), and range(0, 10, 1). write a for loop to answer."
   ]
  },
  {
   "cell_type": "code",
   "execution_count": 27,
   "metadata": {},
   "outputs": [
    {
     "name": "stdout",
     "output_type": "stream",
     "text": [
      "0\t1\t2\t3\t4\t5\t6\t7\t8\t9\t\n",
      "0\t1\t2\t3\t4\t5\t6\t7\t8\t9\t\n",
      "0\t1\t2\t3\t4\t5\t6\t7\t8\t9\t"
     ]
    }
   ],
   "source": [
    "for i in range(10):\n",
    "    print(i,end = '\\t')\n",
    "    \n",
    "print()\n",
    "\n",
    "for i in range(0,10):\n",
    "    print(i,end = '\\t')\n",
    "\n",
    "print()\n",
    "\n",
    "for i in range(0,10,1):\n",
    "    print(i,end = '\\t')"
   ]
  },
  {
   "cell_type": "markdown",
   "metadata": {},
   "source": [
    "### Question 5. \n",
    "\n",
    "You are driving a little too fast, and a police officer stops you.\n",
    "\n",
    "Write a program to print one of 3 possible results: \"No ticket\", \"Small ticket\", or \"Big Ticket\".\n",
    "\n",
    "If your speed is 60 or less, the result is \"No Ticket\".\n",
    "\n",
    "If speed is between 61 and 80 inclusive, the result is \"Small Ticket\".\n",
    "\n",
    "If speed is 81 or more, the result is \"Big Ticket\".\n",
    "\n",
    "Unless it is your birthday -- on your birthday, your speed can be 5 higher in all cases.\n",
    "\n",
    "What does your program think, if your are driving at 75 on your birthday?"
   ]
  },
  {
   "cell_type": "code",
   "execution_count": 3,
   "metadata": {},
   "outputs": [
    {
     "name": "stdout",
     "output_type": "stream",
     "text": [
      "Small ticket\n"
     ]
    }
   ],
   "source": [
    "speed = 75\n",
    "birthday = True\n",
    "\n",
    "if birthday:\n",
    "    speed -= 5\n",
    "\n",
    "if speed > 80:\n",
    "    print('Big ticket')\n",
    "elif speed > 60:\n",
    "    print('Small ticket')\n",
    "else:\n",
    "    print('No ticket')"
   ]
  },
  {
   "cell_type": "markdown",
   "metadata": {},
   "source": [
    "### Question 6. \n",
    "\n",
    "A student will not be allowed to sit in exam if his/her attendence is less than 75%.\n",
    "\n",
    "Take following input from user:\n",
    "\n",
    "Number of classes held\n",
    "\n",
    "Number of classes attended.\n",
    "\n",
    "Calculate percentage of class attended.And check whether that student is allowed to sit in the exam or not.\n",
    "\n",
    "Count the number of conditions(if-else statement pair) used in the program for it to work properly."
   ]
  },
  {
   "cell_type": "code",
   "execution_count": 20,
   "metadata": {},
   "outputs": [
    {
     "name": "stdout",
     "output_type": "stream",
     "text": [
      "25\n",
      "10\n",
      "not allowed to sit.\n"
     ]
    }
   ],
   "source": [
    "num_classes = int(input())\n",
    "num_classes_atd = int(input())\n",
    "pct = (num_classes_atd/num_classes)*100\n",
    "\n",
    "if pct>=75:\n",
    "    print('allowed to sit.')\n",
    "else:\n",
    "    print('not allowed to sit.')"
   ]
  },
  {
   "cell_type": "markdown",
   "metadata": {},
   "source": [
    "### Question 7.\n",
    "\n",
    "Write a program that takes one variable named number.\n",
    "\n",
    "(a) If number is even, then it should print number // 2 and update this value.\n",
    "\n",
    "(b) If number is odd, then it should print and update the value to 3 * number + 1.\n",
    "\n",
    "Then write a while that keeps doing this on the number until the number == 1.\n",
    "\n",
    "How many numbers do you get if number = 7? Include both 7 & 1 while counting."
   ]
  },
  {
   "cell_type": "code",
   "execution_count": 11,
   "metadata": {},
   "outputs": [
    {
     "name": "stdout",
     "output_type": "stream",
     "text": [
      "7\n",
      "22\n",
      "11\n",
      "34\n",
      "17\n",
      "52\n",
      "26\n",
      "13\n",
      "40\n",
      "20\n",
      "10\n",
      "5\n",
      "16\n",
      "8\n",
      "4\n",
      "2\n",
      "1\n",
      "Numbers if we give 7 as input\n",
      " 17\n"
     ]
    }
   ],
   "source": [
    "number = 7\n",
    "count=1\n",
    "while number != 1:\n",
    "    print(number)\n",
    "    if number % 2:\n",
    "        number = number * 3 + 1\n",
    "        count+=1\n",
    "    else:\n",
    "        number //= 2\n",
    "        count+=1\n",
    "print(number)\n",
    "print('Numbers if we give 7 as input\\n',count)"
   ]
  },
  {
   "cell_type": "markdown",
   "metadata": {},
   "source": [
    "### Question 8. Write a Python program to get the Fibonacci series.\n",
    "\n",
    "Count the number of element you get between 30 to 100."
   ]
  },
  {
   "cell_type": "code",
   "execution_count": 32,
   "metadata": {},
   "outputs": [
    {
     "name": "stdout",
     "output_type": "stream",
     "text": [
      "0\t1\t1\t2\t3\t5\t8\t13\t21\t34\t55\t89\t\n",
      "Total numbers from 30 to 100: 3\n"
     ]
    }
   ],
   "source": [
    "i = 0\n",
    "j = 1\n",
    "count = 0\n",
    "\n",
    "while i < 100:\n",
    "    print(i, end='\\t')\n",
    "    if i > 30:\n",
    "        count += 1\n",
    "    temp = i\n",
    "    i += j\n",
    "    j = temp\n",
    "    \n",
    "print('\\nTotal numbers from 30 to 100:', count)"
   ]
  }
 ],
 "metadata": {
  "kernelspec": {
   "display_name": "Python 3",
   "language": "python",
   "name": "python3"
  },
  "language_info": {
   "codemirror_mode": {
    "name": "ipython",
    "version": 3
   },
   "file_extension": ".py",
   "mimetype": "text/x-python",
   "name": "python",
   "nbconvert_exporter": "python",
   "pygments_lexer": "ipython3",
   "version": "3.6.7"
  }
 },
 "nbformat": 4,
 "nbformat_minor": 2
}
