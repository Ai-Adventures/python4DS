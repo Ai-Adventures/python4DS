{
 "cells": [
  {
   "cell_type": "markdown",
   "metadata": {},
   "source": [
    "# Flow Control"
   ]
  },
  {
   "cell_type": "markdown",
   "metadata": {},
   "source": [
    "So you know the basics of individual instructions and that a program is just a series of instructions. But the real strength of programming isn’t just running (or executing) one instruction after another like a weekend errand list. Based on how the expressions evaluate, the program can decide to skip instructions, repeat them, or choose one of several instructions to run. In fact, you almost never want your programs to start from the first line of code and simply execute every line, straight to the end. Flow control statements can decide which Python instructions to execute under which conditions.\n",
    "\n",
    "These flow control statements directly correspond to the symbols in a flowchart, so I’ll provide flowchart versions of the code discussed in this chapter. Figure 2-1 shows a flowchart for what to do if it’s raining. Follow the path made by the arrows from Start to End."
   ]
  },
  {
   "cell_type": "markdown",
   "metadata": {},
   "source": [
    "![](images/000105.jpg)"
   ]
  },
  {
   "cell_type": "markdown",
   "metadata": {},
   "source": [
    "In a flowchart, there is usually more than one way to go from the start to the end. The same is true for lines of code in a computer program. Flowcharts represent these branching points with diamonds, while the other steps are represented with rectangles. The starting and ending steps are represented with rounded rectangles.\n",
    "\n",
    "But before you learn about flow control statements, you first need to learn how to represent those yes and no options, and you need to understand how to write those branching points as Python code. To that end, let’s explore Boolean values, comparison operators, and Boolean operators."
   ]
  },
  {
   "cell_type": "markdown",
   "metadata": {},
   "source": [
    "## Boolean Values\n",
    "While the integer, floating-point, and string data types have an unlimited number of possible values, the Boolean data type has only two values: True and False. When typed as Python code, the Boolean values True and False lack the quotes you place around strings, and they always start with a capital T or F, with the rest of the word in lowercase. "
   ]
  },
  {
   "cell_type": "code",
   "execution_count": 1,
   "metadata": {},
   "outputs": [],
   "source": [
    "spam = True # (1)"
   ]
  },
  {
   "cell_type": "code",
   "execution_count": 2,
   "metadata": {},
   "outputs": [
    {
     "data": {
      "text/plain": [
       "True"
      ]
     },
     "execution_count": 2,
     "metadata": {},
     "output_type": "execute_result"
    }
   ],
   "source": [
    "spam"
   ]
  },
  {
   "cell_type": "code",
   "execution_count": 3,
   "metadata": {},
   "outputs": [
    {
     "ename": "NameError",
     "evalue": "name 'true' is not defined",
     "output_type": "error",
     "traceback": [
      "\u001b[1;31m---------------------------------------------------------------------------\u001b[0m",
      "\u001b[1;31mNameError\u001b[0m                                 Traceback (most recent call last)",
      "\u001b[1;32m<ipython-input-3-724ba28f4a9a>\u001b[0m in \u001b[0;36m<module>\u001b[1;34m\u001b[0m\n\u001b[1;32m----> 1\u001b[1;33m \u001b[0mtrue\u001b[0m\u001b[1;33m\u001b[0m\u001b[1;33m\u001b[0m\u001b[0m\n\u001b[0m",
      "\u001b[1;31mNameError\u001b[0m: name 'true' is not defined"
     ]
    }
   ],
   "source": [
    "true # (2)"
   ]
  },
  {
   "cell_type": "code",
   "execution_count": 4,
   "metadata": {},
   "outputs": [
    {
     "ename": "SyntaxError",
     "evalue": "can't assign to keyword (<ipython-input-4-5bace7e8ec4f>, line 1)",
     "output_type": "error",
     "traceback": [
      "\u001b[1;36m  File \u001b[1;32m\"<ipython-input-4-5bace7e8ec4f>\"\u001b[1;36m, line \u001b[1;32m1\u001b[0m\n\u001b[1;33m    True = 2+2\u001b[0m\n\u001b[1;37m              ^\u001b[0m\n\u001b[1;31mSyntaxError\u001b[0m\u001b[1;31m:\u001b[0m can't assign to keyword\n"
     ]
    }
   ],
   "source": [
    "True = 2+2 # (3)"
   ]
  },
  {
   "cell_type": "markdown",
   "metadata": {},
   "source": [
    "Like any other value, \n",
    "- Boolean values are used in expressions and can be stored in variables ❶. \n",
    "- If you don’t use the proper case ❷ or you try to use True and False for variable names ❸, Python will give you an error message."
   ]
  },
  {
   "cell_type": "markdown",
   "metadata": {},
   "source": [
    "### Comparison Operators\n",
    "Comparison operators compare two values and evaluate down to a single Boolean value. "
   ]
  },
  {
   "cell_type": "markdown",
   "metadata": {},
   "source": [
    "<div class=\"book\">\n",
    "<table summary=\"Comparison Operators\" class=\"calibre9\">\n",
    "<colgroup class=\"calibre10\">\n",
    "<col class=\"calibre11\">\n",
    "              \n",
    "<col class=\"calibre11\">\n",
    "              \n",
    "</colgroup>\n",
    "<thead class=\"calibre12\">\n",
    "<tr class=\"calibre13\">\n",
    "<th valign=\"top\" class=\"calibre14\">\n",
    "<p class=\"calibre4\">Operator</p>\n",
    "</th>\n",
    "<th valign=\"top\" class=\"calibre15\">\n",
    "<p class=\"calibre4\">Meaning</p>\n",
    "</th>\n",
    "</tr>\n",
    "</thead>\n",
    "<tbody class=\"calibre16\">\n",
    "<tr class=\"calibre13\">\n",
    "<td valign=\"top\" class=\"calibre17\">\n",
    "<p class=\"calibre4\"><code class=\"literal2\">==</code></p>\n",
    "</td>\n",
    "<td valign=\"top\" class=\"calibre18\">\n",
    "<p class=\"calibre4\">Equal to</p>\n",
    "</td>\n",
    "</tr>\n",
    "<tr class=\"calibre19\">\n",
    "<td valign=\"top\" class=\"calibre17\">\n",
    "<p class=\"calibre4\"><code class=\"literal2\">!=</code></p>\n",
    "</td>\n",
    "<td valign=\"top\" class=\"calibre18\">\n",
    "<p class=\"calibre4\">Not equal to</p>\n",
    "</td>\n",
    "</tr>\n",
    "<tr class=\"calibre13\">\n",
    "<td valign=\"top\" class=\"calibre17\">\n",
    "<p class=\"calibre4\"><code class=\"literal2\">&lt;</code></p>\n",
    "</td>\n",
    "<td valign=\"top\" class=\"calibre18\">\n",
    "<p class=\"calibre4\">Less than</p>\n",
    "</td>\n",
    "</tr>\n",
    "<tr class=\"calibre19\">\n",
    "<td valign=\"top\" class=\"calibre17\">\n",
    "<p class=\"calibre4\"><code class=\"literal2\">&gt;</code></p>\n",
    "</td>\n",
    "<td valign=\"top\" class=\"calibre18\">\n",
    "<p class=\"calibre4\">Greater than</p>\n",
    "</td>\n",
    "</tr>\n",
    "<tr class=\"calibre13\">\n",
    "<td valign=\"top\" class=\"calibre17\">\n",
    "<p class=\"calibre4\"><code class=\"literal2\">&lt;=</code></p>\n",
    "</td>\n",
    "<td valign=\"top\" class=\"calibre18\">\n",
    "<p class=\"calibre4\">Less than or equal to</p>\n",
    "</td>\n",
    "</tr>\n",
    "<tr class=\"calibre19\">\n",
    "<td valign=\"top\" class=\"calibre20\">\n",
    "<p class=\"calibre4\"><code class=\"literal2\">&gt;=</code></p>\n",
    "</td>\n",
    "<td valign=\"top\" class=\"calibre21\">\n",
    "<p class=\"calibre4\">Greater than or equal to</p>\n",
    "</td>\n",
    "</tr>\n",
    "</tbody>\n",
    "</table></div>"
   ]
  },
  {
   "cell_type": "markdown",
   "metadata": {},
   "source": [
    "These operators evaluate to True or False depending on the values you give them. "
   ]
  },
  {
   "cell_type": "markdown",
   "metadata": {},
   "source": [
    "#### Note: The Difference Between the == and = Operators\n",
    "\n",
    "You might have noticed that the == operator (equal to) has two equal signs, while the = operator (assignment) has just one equal sign. It’s easy to confuse these two operators with each other. Just remember these points:\n",
    "\n",
    "- The == operator (equal to) asks whether two values are the same as each other.\n",
    "\n",
    "- The = operator (assignment) puts the value on the right into the variable on the left.\n",
    "\n",
    "- To help remember which is which, notice that the == operator (equal to) consists of two characters, just like the != operator (not equal to) consists of two characters.\n",
    "\n",
    "You’ll often use comparison operators to compare a variable’s value to some other value. You’ll see more examples of this later when you learn about flow control statements."
   ]
  },
  {
   "cell_type": "markdown",
   "metadata": {},
   "source": [
    "## Boolean Operators\n",
    "The three Boolean operators (and, or, and not) are used to compare Boolean values. Like comparison operators, they evaluate these expressions down to a Boolean value. Let’s explore these operators in detail, starting with the and operator.\n",
    "\n",
    "### Binary Boolean Operators\n",
    "The and and or operators always take two Boolean values (or expressions), so they’re considered binary operators. The and operator evaluates an expression to True if both Boolean values are True; otherwise, it evaluates to False. Enter some expressions using and into the cell below to see it in action."
   ]
  },
  {
   "cell_type": "code",
   "execution_count": 1,
   "metadata": {},
   "outputs": [
    {
     "data": {
      "text/plain": [
       "True"
      ]
     },
     "execution_count": 1,
     "metadata": {},
     "output_type": "execute_result"
    }
   ],
   "source": [
    "True and True"
   ]
  },
  {
   "cell_type": "code",
   "execution_count": 2,
   "metadata": {},
   "outputs": [
    {
     "data": {
      "text/plain": [
       "False"
      ]
     },
     "execution_count": 2,
     "metadata": {},
     "output_type": "execute_result"
    }
   ],
   "source": [
    "True and False"
   ]
  },
  {
   "cell_type": "markdown",
   "metadata": {},
   "source": [
    "On the other hand, the or operator evaluates an expression to True if either of the two Boolean values is True. If both are False, it evaluates to False."
   ]
  },
  {
   "cell_type": "code",
   "execution_count": 3,
   "metadata": {},
   "outputs": [
    {
     "data": {
      "text/plain": [
       "True"
      ]
     },
     "execution_count": 3,
     "metadata": {},
     "output_type": "execute_result"
    }
   ],
   "source": [
    "False or True"
   ]
  },
  {
   "cell_type": "code",
   "execution_count": 4,
   "metadata": {},
   "outputs": [
    {
     "data": {
      "text/plain": [
       "False"
      ]
     },
     "execution_count": 4,
     "metadata": {},
     "output_type": "execute_result"
    }
   ],
   "source": [
    "False or False"
   ]
  },
  {
   "cell_type": "markdown",
   "metadata": {},
   "source": [
    "##### The not Operator\n",
    "Unlike and and or, the not operator operates on only one Boolean value (or expression). The not operator simply evaluates to the opposite Boolean value."
   ]
  },
  {
   "cell_type": "code",
   "execution_count": 5,
   "metadata": {},
   "outputs": [
    {
     "data": {
      "text/plain": [
       "True"
      ]
     },
     "execution_count": 5,
     "metadata": {},
     "output_type": "execute_result"
    }
   ],
   "source": [
    "not False"
   ]
  },
  {
   "cell_type": "code",
   "execution_count": 6,
   "metadata": {},
   "outputs": [
    {
     "data": {
      "text/plain": [
       "True"
      ]
     },
     "execution_count": 6,
     "metadata": {},
     "output_type": "execute_result"
    }
   ],
   "source": [
    "not not not not True"
   ]
  },
  {
   "cell_type": "markdown",
   "metadata": {},
   "source": [
    "Much like using double negatives in speech and writing, you can nest not operators, though there’s never not no reason to do this in real programs."
   ]
  },
  {
   "cell_type": "markdown",
   "metadata": {},
   "source": [
    "### Mixing Boolean and Comparison Operators\n",
    "Since the comparison operators evaluate to Boolean values, you can use them in expressions with the Boolean operators.\n",
    "\n",
    "Recall that the and, or, and not operators are called Boolean operators because they always operate on the Boolean values True and False. While expressions like 4 < 5 aren’t Boolean values, they are expressions that evaluate down to Boolean values. Try entering some Boolean expressions that use comparison operators into the cell.\n",
    "\n"
   ]
  },
  {
   "cell_type": "code",
   "execution_count": 7,
   "metadata": {},
   "outputs": [
    {
     "data": {
      "text/plain": [
       "True"
      ]
     },
     "execution_count": 7,
     "metadata": {},
     "output_type": "execute_result"
    }
   ],
   "source": [
    "(4 < 5) and (5 < 6)"
   ]
  },
  {
   "cell_type": "code",
   "execution_count": 8,
   "metadata": {},
   "outputs": [
    {
     "data": {
      "text/plain": [
       "False"
      ]
     },
     "execution_count": 8,
     "metadata": {},
     "output_type": "execute_result"
    }
   ],
   "source": [
    "(4 < 5) and (9 < 6)"
   ]
  },
  {
   "cell_type": "code",
   "execution_count": 9,
   "metadata": {},
   "outputs": [
    {
     "data": {
      "text/plain": [
       "True"
      ]
     },
     "execution_count": 9,
     "metadata": {},
     "output_type": "execute_result"
    }
   ],
   "source": [
    "(1 == 2) or (2 == 2)"
   ]
  },
  {
   "cell_type": "markdown",
   "metadata": {},
   "source": [
    "The computer will evaluate the left expression first, and then it will evaluate the right expression. When it knows the Boolean value for each, it will then evaluate the whole expression down to one Boolean value. You can think of the computer’s evaluation process for (4 < 5) and (5 < 6) as shown in figure below\n",
    "\n",
    "![](images/000023.jpg)"
   ]
  },
  {
   "cell_type": "markdown",
   "metadata": {},
   "source": [
    "You can also use multiple Boolean operators in an expression, along with the comparison operators."
   ]
  },
  {
   "cell_type": "code",
   "execution_count": 10,
   "metadata": {},
   "outputs": [
    {
     "data": {
      "text/plain": [
       "True"
      ]
     },
     "execution_count": 10,
     "metadata": {},
     "output_type": "execute_result"
    }
   ],
   "source": [
    "2 + 2 == 4 and not 2 + 2 == 5 and 2 * 2 == 2 + 2"
   ]
  },
  {
   "cell_type": "markdown",
   "metadata": {},
   "source": [
    "The Boolean operators have an order of operations just like the math operators do. After any math and comparison operators evaluate, Python evaluates the not operators first, then the and operators, and then the or operators."
   ]
  },
  {
   "cell_type": "markdown",
   "metadata": {},
   "source": [
    "## Elements of Flow Control\n",
    "Flow control statements often start with a part called the condition, and all are followed by a block of code called the clause. Before you learn about Python’s specific flow control statements, I’ll cover what a condition and a block are.\n",
    "\n",
    "### Conditions\n",
    "The Boolean expressions you’ve seen so far could all be considered conditions, which are the same thing as expressions; condition is just a more specific name in the context of flow control statements. Conditions always evaluate down to a Boolean value, True or False. A flow control statement decides what to do based on whether its condition is True or False, and almost every flow control statement uses a condition.\n",
    "\n",
    "### Blocks of Code\n",
    "Lines of Python code can be grouped together in blocks. You can tell when a block begins and ends from the indentation of the lines of code. There are three rules for blocks.\n",
    "\n",
    "- Blocks begin when the indentation increases.\n",
    "\n",
    "- Blocks can contain other blocks.\n",
    "\n",
    "- Blocks end when the indentation decreases to zero or to a containing block’s indentation.\n",
    "\n",
    "Blocks are easier to understand by looking at some indented code, so let’s find the blocks in part of a small game program, shown here:"
   ]
  },
  {
   "cell_type": "markdown",
   "metadata": {},
   "source": [
    "     if name == 'Mary':\n",
    "              ❶     print('Hello Mary')\n",
    "                    if password == 'swordfish':\n",
    "              ❷         print('Access granted.')\n",
    "                     else:\n",
    "              ❸         print('Wrong password.')"
   ]
  },
  {
   "cell_type": "markdown",
   "metadata": {},
   "source": [
    "The first block of code ❶ starts at the line print('Hello Mary') and contains all the lines after it. Inside this block is another block ❷, which has only a single line in it: print('Access Granted.'). The third block ❸ is also one line long: print('Wrong password.')."
   ]
  },
  {
   "cell_type": "markdown",
   "metadata": {},
   "source": [
    "### Program Execution\n",
    "The program execution (or simply, execution) is a term for the current instruction being executed. If you print the source code on paper and put your finger on each line as it is executed, you can think of your finger as the program execution.\n",
    "\n",
    "Not all programs execute by simply going straight down, however. If you use your finger to trace through a program with flow control statements, you’ll likely find yourself jumping around the source code based on conditions, and you’ll probably skip entire clauses."
   ]
  },
  {
   "cell_type": "markdown",
   "metadata": {},
   "source": [
    "## Flow Control Statements\n",
    "Now, let’s explore the most important piece of flow control: the statements themselves. The statements represent the diamonds you saw in the flowchart above, and they are the actual decisions your programs will make.\n",
    "\n",
    "### *if* Statements"
   ]
  },
  {
   "cell_type": "markdown",
   "metadata": {},
   "source": [
    "The most common type of flow control statement is the if statement. An if statement’s clause (that is, the block following the if statement) will execute if the statement’s condition is True. The clause is skipped if the condition is False.\n",
    "\n",
    "In plain English, an if statement could be read as, “If this condition is true, execute the code in the clause.” In Python, an if statement consists of the following:\n",
    "\n",
    "- The if keyword\n",
    "\n",
    "- A condition (that is, an expression that evaluates to True or False)\n",
    "\n",
    "- A colon\n",
    "\n",
    "- Starting on the next line, an indented block of code (called the if clause)\n",
    "\n",
    "For example, let’s say you have some code that checks to see whether someone’s name is Alice. (Pretend name was assigned some value earlier.)\n",
    "\n",
    "    if name == 'Alice':\n",
    "        print('Hi, Alice.')\n",
    "\n",
    "All flow control statements end with a colon and are followed by a new block of code (the clause). This if statement’s clause is the block with print('Hi, Alice.'). The flowchart of this code would look like.\n",
    "\n",
    "![](images/000019.jpg)"
   ]
  },
  {
   "cell_type": "markdown",
   "metadata": {},
   "source": [
    "### *else* Statements\n",
    "\n",
    "An if clause can optionally be followed by an else statement. The else clause is executed only when the if statement’s condition is False. In plain English, an else statement could be read as, “If this condition is true, execute this code. Or else, execute that code.” An else statement doesn’t have a condition, and in code, an else statement always consists of the following:\n",
    "\n",
    "- The else keyword\n",
    "\n",
    "- A colon\n",
    "\n",
    "- Starting on the next line, an indented block of code (called the else clause)\n",
    "\n",
    "Returning to the Alice example, let’s look at some code that uses an else statement to offer a different greeting if the person’s name isn’t Alice.\n",
    "\n",
    "\n",
    "    if name == 'Alice':\n",
    "                  print('Hi, Alice.')\n",
    "              else:\n",
    "                  print('Hello, stranger.')\n",
    "                  \n",
    "![](images/000106.png)"
   ]
  },
  {
   "cell_type": "markdown",
   "metadata": {},
   "source": [
    "### *elif* Statements\n",
    "While only one of the if or else clauses will execute, you may have a case where you want one of many possible clauses to execute. The elif statement is an “else if” statement that always follows an if or another elif statement. It provides another condition that is checked only if all of the previous conditions were False. In code, an elif statement always consists of the following:\n",
    "\n",
    "- The elif keyword\n",
    "\n",
    "- A condition (that is, an expression that evaluates to True or False)\n",
    "\n",
    "- A colon\n",
    "\n",
    "- Starting on the next line, an indented block of code (called the elif clause)\n",
    "\n",
    "Let’s add an elif to the name checker to see this statement in action.\n",
    "\n",
    "\n",
    "    if name == 'Alice':\n",
    "                  print('Hi, Alice.')\n",
    "              elif age < 12:\n",
    "                  print('You are not Alice, kiddo.')\n",
    "\n",
    "This time, you check the person’s age, and the program will tell them something different if they’re younger than 12. You can see the flowchart for this in the figure below.\n",
    "\n",
    "![](images/000107.png)\n",
    "\n",
    "The elif clause executes if age < 12 is True and name == 'Alice' is False. However, if both of the conditions are False, then both of the clauses are skipped. It is not guaranteed that at least one of the clauses will be executed. When there is a chain of elif statements, only one or none of the clauses will be executed. Once one of the statements’ conditions is found to be True, the rest of the elif clauses are automatically skipped. "
   ]
  },
  {
   "cell_type": "markdown",
   "metadata": {},
   "source": [
    "    if name == 'Alice':\n",
    "        print('Hi, Alice.')\n",
    "    elif age < 12:\n",
    "        print('You are not Alice, kiddo.')\n",
    "    elif age > 2000:\n",
    "        print('Unlike you, Alice is not an undead, immortal vampire.')\n",
    "    elif age > 100:\n",
    "        print('You are not Alice, grannie.')\n",
    "        \n",
    "Here I’ve added two more elif statements to make the name checker greet a person with different answers based on age. Figure shows the flowchart for this.    \n",
    "\n",
    "![](images/000088.png)"
   ]
  },
  {
   "cell_type": "markdown",
   "metadata": {},
   "source": [
    "The order of the elif statements does matter, however. Let’s rearrange them to introduce a bug. Remember that the rest of the elif clauses are automatically skipped once a True condition has been found, so if you swap around some of the clauses in code above, you run into a problem. Change the code to look like the following.\n",
    "\n",
    "    if name == 'Alice':\n",
    "           print('Hi, Alice.')\n",
    "       elif age < 12:\n",
    "           print('You are not Alice, kiddo.')\n",
    "    ❶ elif age > 100:\n",
    "           print('You are not Alice, grannie.')\n",
    "       elif age > 2000:\n",
    "           print('Unlike you, Alice is not an undead, immortal vampire.')\n",
    "           \n",
    "Say the age variable contains the value 3000 before this code is executed. You might expect the code to print the string 'Unlike you, Alice is not an undead, immortal vampire.'. However, because the age > 100 condition is True (after all, 3000 is greater than 100) ❶, the string 'You are not Alice, grannie.' is printed, and the rest of the elif statements are automatically skipped. Remember, at most only one of the clauses will be executed, and for elif statements, the order matters!\n",
    "\n",
    "Notice how the diamonds for age > 100 and age > 2000 are swapped.\n",
    "![](images/000089.png)\n"
   ]
  },
  {
   "cell_type": "markdown",
   "metadata": {},
   "source": [
    "Optionally, you can have an else statement after the last elif statement. In that case, it is guaranteed that at least one (and only one) of the clauses will be executed. If the conditions in every if and elif statement are False, then the else clause is executed. For example, \n",
    "\n",
    "    if name == 'Alice':\n",
    "        print('Hi, Alice.')\n",
    "    elif age < 12:\n",
    "        print('You are not Alice, kiddo.')\n",
    "    else:\n",
    "        print('You are neither Alice nor a little kid.')"
   ]
  },
  {
   "cell_type": "markdown",
   "metadata": {},
   "source": [
    "In plain English, this type of flow control structure would be, “If the first condition is true, do this. Else, if the second condition is true, do that. Otherwise, do something else.” When you use all three of these statements together, remember these rules about how to order them to avoid bugs. First, there is always exactly one if statement. Any elif statements you need should follow the if statement. Second, if you want to be sure that at least one clause is executed, close the structure with an else statement."
   ]
  },
  {
   "cell_type": "markdown",
   "metadata": {},
   "source": [
    "## Summary\n",
    "\n",
    "By using expressions that evaluate to True or False (also called conditions), you can write programs that make decisions on what code to execute and what code to skip.\n",
    "\n",
    "hese flow control statements will let you write much more intelligent programs. "
   ]
  },
  {
   "cell_type": "code",
   "execution_count": null,
   "metadata": {},
   "outputs": [],
   "source": []
  }
 ],
 "metadata": {
  "kernelspec": {
   "display_name": "Python 3",
   "language": "python",
   "name": "python3"
  },
  "language_info": {
   "codemirror_mode": {
    "name": "ipython",
    "version": 3
   },
   "file_extension": ".py",
   "mimetype": "text/x-python",
   "name": "python",
   "nbconvert_exporter": "python",
   "pygments_lexer": "ipython3",
   "version": "3.6.8"
  }
 },
 "nbformat": 4,
 "nbformat_minor": 2
}
