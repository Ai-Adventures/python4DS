{
 "cells": [
  {
   "cell_type": "markdown",
   "metadata": {},
   "source": [
    "![](images/ailogo.png)"
   ]
  },
  {
   "cell_type": "markdown",
   "metadata": {},
   "source": [
    "#### Task 1) Write a Python script to add a key to a dictionary. New key to be added 2 and its value should be 30.\n",
    "\n",
    "d =  {0: 10, 1: 20}   \n"
   ]
  },
  {
   "cell_type": "markdown",
   "metadata": {},
   "source": [
    "#### Question 1) What will be the syntax to add a new key into `d`\n",
    "    a) d{2:30}\n",
    "    b) d[2] = 30\n",
    "    c) d{2=30}\n",
    "    d) d{2}=30"
   ]
  },
  {
   "cell_type": "markdown",
   "metadata": {},
   "source": [
    "#### Question 2) Write a Python program to iterate over dictionary `d` given in Task1 using for loop. What did you get in the output ?\n",
    "    \n",
    "    a) A list of keys.\n",
    "    b) A list of values.\n",
    "    c) keys one below the others.\n",
    "    d) values one below the others."
   ]
  },
  {
   "cell_type": "markdown",
   "metadata": {},
   "source": [
    "#### Question 3) The output should be a list of all the keys from  the dictionary d in Task1 .Which one of the following will be best option?\n",
    "    \n",
    "    a) for/while loops.\n",
    "    b) only one loop(while/for). \n",
    "    c) dictionary built in functions/methods.\n",
    "    d) list built in functions/methods."
   ]
  },
  {
   "cell_type": "markdown",
   "metadata": {},
   "source": [
    "#### Task 2) Create a new dictionary called 'prices' using {} format  and put values into the dicionary given below \n",
    "{\"banana\": 4,\n",
    "\"apple\": 2,\n",
    "\"orange\": 1.5,\n",
    "\"pear\": 3}\n",
    "\n"
   ]
  },
  {
   "cell_type": "markdown",
   "metadata": {},
   "source": [
    "#### Question 4) Sort the dictionary created in Task 2  using `sorted()` what data type did you get in the output?    \n",
    "    \n",
    "    a) Sorted List of key value pair.\n",
    "    b) Sorted List of values.\n",
    "    c) Sorted List of keys.\n",
    "    d) Will Throw an error"
   ]
  },
  {
   "cell_type": "markdown",
   "metadata": {},
   "source": [
    "#### Question 6)  Given a list you have to create a dictionary named 'counter' in which key will be the element in the list and value will be the count of that element. \n",
    "\n",
    "Given list is :\n",
    "\n",
    "`bag = ['gold coin', 'dagger', 'gold coin', 'gold coin', 'ruby','gold_coin', 'dagger', 'gold coin', 'gold coin','ruby','gold coin', 'dagger', 'gold coin', 'gold coin', 'ruby','gold coin', 'dagger', 'gold coin', 'gold_coin', 'ruby']`\n",
    "\n",
    "What will be the minimum value in the new dictionary ?\n",
    "\n",
    "    a) 2\n",
    "    b) 3\n",
    "    c) 4\n",
    "    d) 20"
   ]
  },
  {
   "cell_type": "markdown",
   "metadata": {},
   "source": [
    "#### Question 7) Iterate a given list`counts` and Check if a given element already exists in a dictionary  as a key’s value if not delete it from the list `counts`\n",
    "\n",
    "Given :\n",
    "counts = [7, 6, 9, 3, 4, 8, 9, 10]\n",
    "\n",
    "Use Dictionary created in Q6 \n",
    "\n",
    "What will be the updated list's length?\n",
    "    \n",
    "    a) 4\n",
    "    b) 5\n",
    "    c) 6\n",
    "    d) 7"
   ]
  },
  {
   "cell_type": "markdown",
   "metadata": {},
   "source": [
    "#### Question 8) Write a Python program to sort (ascending and descending) a dictionary created in Question 6 by value .\n"
   ]
  },
  {
   "cell_type": "code",
   "execution_count": null,
   "metadata": {},
   "outputs": [],
   "source": []
  }
 ],
 "metadata": {
  "kernelspec": {
   "display_name": "Python 3",
   "language": "python",
   "name": "python3"
  },
  "language_info": {
   "codemirror_mode": {
    "name": "ipython",
    "version": 3
   },
   "file_extension": ".py",
   "mimetype": "text/x-python",
   "name": "python",
   "nbconvert_exporter": "python",
   "pygments_lexer": "ipython3",
   "version": "3.6.9"
  }
 },
 "nbformat": 4,
 "nbformat_minor": 4
}
