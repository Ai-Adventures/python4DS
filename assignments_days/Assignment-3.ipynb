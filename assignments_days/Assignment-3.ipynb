{
 "cells": [
  {
   "cell_type": "markdown",
   "metadata": {},
   "source": [
    "<img src='../images/logo_full.png'/>\n",
    "\n",
    "## <p style=\"text-align: center;\"> Python for Data Science </p>\n",
    "The course is offered by [Ai Adventures](https://www.aiadventures.in). The notebooks are created by [Pranav Uikey](https://twitter.com/Pranav_Uikey_) and [Ankur Singh](https://twitter.com/I_ankursingh). This material is subject to the terms and conditions of the [Creative Commons CC BY-NC-SA 4.0](https://creativecommons.org/licenses/by-nc-sa/4.0/) license. Any use for commercial purpose is strictly prohibited."
   ]
  },
  {
   "cell_type": "markdown",
   "metadata": {},
   "source": [
    "## <center>Assignment-3: List & Dictionary</center>\n",
    "\n",
    "Prior to working on the assignment, you'd better check out the corresponding course material:\n",
    "\n",
    "- [List](https://nbviewer.jupyter.org/github/Ai-Adventures/python4DS/blob/master/List.ipynb),  how to organize data.\n",
    "- [Dictionary](https://nbviewer.jupyter.org/github/Ai-Adventures/python4DS/blob/master/Dictionary.ipynb), some more powerful ways to organize data.\n",
    "\n",
    "We suggest that you first read the articles (assignment questions are based on them), if something is not clear - ask us in the class.\n",
    "\n",
    "**Your task is:**\n",
    "1. Study the material\n",
    "2. Write the code required\n",
    "3. Submit your answers, [webform](https://forms.gle/3hbLPP2nXpbBJFha8)\n",
    "\n",
    "\n",
    "\n",
    "___"
   ]
  },
  {
   "cell_type": "markdown",
   "metadata": {},
   "source": [
    "## Part-1. List"
   ]
  },
  {
   "cell_type": "markdown",
   "metadata": {},
   "source": [
    "### Task-1\n",
    "Create a list which will contain numbers between 0 and 10 (both included) and save that list in a variable named `numbers`."
   ]
  },
  {
   "cell_type": "markdown",
   "metadata": {},
   "source": [
    "##### <span style = 'color:red'>Question 1</span>. Use list created above and generate an output  which will contain list of  even numbers .What will be the length of the generated list?\n",
    "1. 4\n",
    "2. 6\n",
    "3. 5\n",
    "4. 10"
   ]
  },
  {
   "cell_type": "markdown",
   "metadata": {},
   "source": [
    "##### <span style = 'color:red'>Question 2</span>. Does the list generated in Question1 contains 6?\n",
    "1. True\n",
    "2. False"
   ]
  },
  {
   "cell_type": "markdown",
   "metadata": {},
   "source": [
    "##### <span style = 'color:red'>Question 3</span>. What will following code will generate \n",
    "```python \n",
    ">>> print(range(15))\n",
    "```\n",
    "1. list containing numbers between(1,15)\n",
    "2. range(0,15)\n",
    "3. list containing numbers between (0,15)\n",
    "4. None of The Above"
   ]
  },
  {
   "cell_type": "markdown",
   "metadata": {},
   "source": [
    "##### <span style = 'color:red'>Question 4</span>. Write a Python program to generate  a sequence of squares of numbers between 1 and 30 (both included) and use that seqeunce to create a list which will contain first 5 and last 5 numbers from that sequence of squares.How many *odd* numbers do you have in that list?\n",
    "\n",
    "1. 8\n",
    "2. 3\n",
    "3. 5\n",
    "4. 7"
   ]
  },
  {
   "cell_type": "markdown",
   "metadata": {},
   "source": [
    "##### <span style = 'color:red'>Question 5</span>. Write a Python Program to find second largest number in the list. \n",
    "**Use list `numbers = [23, 2,-1,0,76,8,23]`**\n",
    "\n",
    "Is the second largest number a prime number?\n",
    "\n",
    "1. True\n",
    "2. False"
   ]
  },
  {
   "cell_type": "markdown",
   "metadata": {},
   "source": [
    "##### <span style = 'color:red'>Question 6</span>. Use a list given below `names`  and create a new list which will only those names which have *'a'* (python is case-sensitive, *'a'* & *'A'* are different characters) in there name.What will be the length of new created list ?\n",
    "  \n",
    "`names = ['Amir', 'Berry', 'Chales', 'Dao', 'Jay','Mona','Leo']`\n",
    "\n",
    "1. 4\n",
    "2. 5\n",
    "3. 6\n",
    "4. 7\n",
    "    "
   ]
  },
  {
   "cell_type": "markdown",
   "metadata": {},
   "source": [
    "### Task-2\n",
    "Use a list given below  as `names1`, `names2` and `names3` \n",
    "\n",
    "```python \n",
    ">>> names1 = ['Amir', 'Barry', 'Chales', 'Dao']\n",
    ">>> names2 = ['Alice', 'Barry', 'Chales', 'Dao']\n",
    ">>> names3 = ['Amir', 'Bob', 'Chales', 'Dao']\n",
    "```"
   ]
  },
  {
   "cell_type": "markdown",
   "metadata": {},
   "source": [
    "##### <span style = 'color:red'>Question 7</span>. Go through each list (i.e-names1,names2,names3) and check if 'Alice' or 'Bob' is present in the list. \n",
    "\n",
    "If **'Alice'** is present in the list then **increment sum variable by 1** and if **'Bob' is present increment sum by 10**. What will be the **total sum** ?\n",
    "\n",
    "1. 11\n",
    "2. 12\n",
    "3. 21\n",
    "4. 22"
   ]
  },
  {
   "cell_type": "markdown",
   "metadata": {},
   "source": [
    "## Part-2. Dictionaries"
   ]
  },
  {
   "cell_type": "markdown",
   "metadata": {},
   "source": [
    "##### <span style = 'color:red'>Question 8</span>. What will be the syntax to add a new key into `d`\n",
    "```python\n",
    ">>> d =  {0: 10, 1: 20}   \n",
    "```\n",
    "1. d{2:30}\n",
    "2. d[2] = 30\n",
    "3. d{2=30}\n",
    "4. d{2}=30"
   ]
  },
  {
   "cell_type": "markdown",
   "metadata": {},
   "source": [
    "##### <span style = 'color:red'>Question 9</span>. Write a Python program to iterate over dictionary `d` given in <span style = 'color:red'>Question 8</span> (Strictly d having keys (0 & 1) not (0,1 & 2)) using *for* loop. What did you get in the output ?\n",
    "    \n",
    "1. A list of keys.\n",
    "2. A list of values.\n",
    "3. keys one below the others.\n",
    "4. values one below the others."
   ]
  },
  {
   "cell_type": "markdown",
   "metadata": {},
   "source": [
    "### Task-3\n",
    "Create a new dictionary called 'prices' using {} format  and put values into the dictionary given below: \n",
    "\n",
    "\"banana\" ->  4, \"apple\" ->  2, \"orange\" -> 1.5, \"pear\" -> 3\n",
    "\n"
   ]
  },
  {
   "cell_type": "markdown",
   "metadata": {},
   "source": [
    "##### <span style = 'color:red'>Question 10</span>. Sort the dictionary created in Task 3  using `sorted()` what data type did you get in the output?    \n",
    "    \n",
    "1. Sorted List of key value pair.\n",
    "2. Sorted List of values.\n",
    "3. Sorted List of keys.\n",
    "4. Will Throw an error"
   ]
  },
  {
   "cell_type": "markdown",
   "metadata": {},
   "source": [
    "##### <span style = 'color:red'>Question 11</span>.  Given a list you have to create a dictionary named 'counter' in which key will be the element in the list and value will be the count of that element. \n",
    "\n",
    "Given list is :   \n",
    "```python\n",
    ">>> bag = ['gold coin', 'dagger', 'gold coin', 'gold coin', 'ruby','gold_coin',\n",
    "           'dagger', 'gold coin', 'gold coin','ruby','gold coin', 'dagger', 'gold coin', \n",
    "           'gold coin', 'ruby','gold coin', 'dagger', 'gold coin', 'gold_coin', 'ruby']\n",
    "```\n",
    "\n",
    "What will be the minimum value of a key in the new dictionary ?\n",
    "\n",
    "1. 1\n",
    "2. 2\n",
    "3. 3\n",
    "4. 4"
   ]
  }
 ],
 "metadata": {
  "kernelspec": {
   "display_name": "Python 3",
   "language": "python",
   "name": "python3"
  },
  "language_info": {
   "codemirror_mode": {
    "name": "ipython",
    "version": 3
   },
   "file_extension": ".py",
   "mimetype": "text/x-python",
   "name": "python",
   "nbconvert_exporter": "python",
   "pygments_lexer": "ipython3",
   "version": "3.6.7"
  }
 },
 "nbformat": 4,
 "nbformat_minor": 4
}
