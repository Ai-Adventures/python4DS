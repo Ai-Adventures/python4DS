{
 "cells": [
  {
   "cell_type": "markdown",
   "metadata": {},
   "source": [
    "<img src='../images/logo_full.png'/>\n",
    "\n",
    "## <p style=\"text-align: center;\"> Python for Data Science </p>\n",
    "The course is offered by [Ai Adventures](www.aiadventures.in). The notebooks are created by [Pranav Uikey]() and [Ankur Singh](). This material is subject to the terms and conditions of the [Creative Commons CC BY-NC-SA 4.0](https://creativecommons.org/licenses/by-nc-sa/4.0/) license. Any use for commercial purpose is strictly prohibited."
   ]
  },
  {
   "cell_type": "markdown",
   "metadata": {},
   "source": [
    "## <center>Assignment-3: List & Dictionary</center>\n",
    "\n",
    "Prior to working on the assignment, you'd better check out the corresponding course material:\n",
    "\n",
    "- [List](https://nbviewer.jupyter.org/github/Ai-Adventures/python4DS/blob/master/List.ipynb),  how to organize data.\n",
    "- [Dictionary](https://nbviewer.jupyter.org/github/Ai-Adventures/python4DS/blob/master/Dictionary.ipynb), some more powerful ways to organize data.\n",
    "\n",
    "We suggest that you first read the articles (quiz questions are based on them), if something is not clear - ask us in the class.\n",
    "\n",
    "**Your task is:**\n",
    "1. Study the material\n",
    "2. Write the code required\n",
    "3. Submit your answers, [webform]()\n",
    "\n",
    "**Deadline for quize: 7th November 2019, 23:00 (IST)**\n",
    "\n",
    "Solutions will be discussed in the class on **8th November, 2019**. You can get up to **10 credits**, max.\n",
    "___"
   ]
  },
  {
   "cell_type": "markdown",
   "metadata": {},
   "source": [
    "## Part-1. List"
   ]
  },
  {
   "cell_type": "markdown",
   "metadata": {},
   "source": [
    "### Task-1\n",
    "Create a list which will contain numbers between (0,10) and save that list in a variable named `numbers`."
   ]
  },
  {
   "cell_type": "code",
   "execution_count": 1,
   "metadata": {},
   "outputs": [],
   "source": [
    "###  write your code here"
   ]
  },
  {
   "cell_type": "markdown",
   "metadata": {},
   "source": [
    "##### Question 1. Use list created above and generate an output  which will contain list of  even numbers .What will be the length of the generated list?\n",
    "1. 4\n",
    "2. 6\n",
    "3. 5\n",
    "4. 10"
   ]
  },
  {
   "cell_type": "markdown",
   "metadata": {},
   "source": [
    "##### Question 2. Does the list generated in Q1 contains 6?\n",
    "1. True\n",
    "2. False"
   ]
  },
  {
   "cell_type": "markdown",
   "metadata": {},
   "source": [
    "##### Question 3. What will following code will generate \n",
    "```python \n",
    ">>> print(range(15))\n",
    "```\n",
    "1. list containing numbers between(1,15)\n",
    "2. range(0,15)\n",
    "3. list containing numbers between (0,15)\n",
    "4. None of The Above"
   ]
  },
  {
   "cell_type": "markdown",
   "metadata": {},
   "source": [
    "##### Question 4. Write a Python program to remove prime numbers from a list .How many elements in that list are remaining ?\n",
    "**Use list gereated in  Task-1**\n",
    "\n",
    "1. 5\n",
    "2. 6\n",
    "3. 7\n",
    "4. 8"
   ]
  },
  {
   "cell_type": "markdown",
   "metadata": {},
   "source": [
    "##### Question 5. Write a Python program to generate and print a list of first and last 5 elements where the values are square of numbers between 1 and 30 (both included).Which of the following is true?\n",
    "\n",
    "1. Slicing will work here.\n",
    "2. Loops will work here.\n",
    "3. If statements will work here.\n",
    "4. All of the above is True."
   ]
  },
  {
   "cell_type": "markdown",
   "metadata": {},
   "source": [
    "##### Question 6. Write a Python program to remove all word starting from 's' in the list? \n",
    "**Use list seq = ['soup','dog','salad','cat','great']. Which of the folllowing is true?**\n",
    "    \n",
    "1. Loops will work here.\n",
    "2. Slicing will work here.\n",
    "3. If Statements will work here.\n",
    "4. All of the following."
   ]
  },
  {
   "cell_type": "markdown",
   "metadata": {},
   "source": [
    "##### Question 7. Write a Python Program to find second largest number in the list.  What will you use here ?\n",
    "**Use list `numbers = [2,-1,0,76,8,23]`**\n",
    "\n",
    "1. Loops\n",
    "2. if-else statements\n",
    "3. List Methods \n",
    "4. Slicing"
   ]
  },
  {
   "cell_type": "markdown",
   "metadata": {},
   "source": [
    "##### Question 8. Use a list given below `names`  and create a new list which will only those names which have `a` in there name.What will be the length of new created list ?\n",
    "  \n",
    "`names = ['Amir', 'Berry', 'Chales', 'Dao', 'Jay','Mona','Leo']`\n",
    "\n",
    "1. 4\n",
    "2. 5\n",
    "3. 6\n",
    "4. 7\n",
    "    "
   ]
  },
  {
   "cell_type": "markdown",
   "metadata": {},
   "source": [
    "### Task-2\n",
    "Use a list given below  as `names1` and copy it to two more list `names2` and `names3`  respectively. Replace 1st element(0 index) of `names2`  with `Alice` and second element(1 index) with `Bob`.  "
   ]
  },
  {
   "cell_type": "code",
   "execution_count": 1,
   "metadata": {},
   "outputs": [],
   "source": [
    "## your code here"
   ]
  },
  {
   "cell_type": "markdown",
   "metadata": {},
   "source": [
    "##### Question 9. Go through each list (i.e-names1,names2,names3) and check if 'Alice' or 'Bob' is present in the list. If 'Alice' is present in the list then increment sum variable by 1 and if 'Bob' is present increment sum by 10.\n",
    "```python \n",
    ">>> names1 = ['Amir', 'Barry', 'Chales', 'Dao']\n",
    "```\n",
    "1. 11\n",
    "1. 12\n",
    "1. 21\n",
    "1. 22"
   ]
  },
  {
   "cell_type": "markdown",
   "metadata": {},
   "source": [
    "##### Question 10. What will be the index of  'Chales' in names2 ?\n",
    "```python \n",
    ">>> names2 = ['Amir', 'Barry', 'Chales', 'Dao']\n",
    "```\n",
    "1. 1\n",
    "2. 2\n",
    "3. 3\n",
    "4. 4"
   ]
  },
  {
   "cell_type": "markdown",
   "metadata": {},
   "source": [
    "## Part-2. Dictionaries"
   ]
  },
  {
   "cell_type": "markdown",
   "metadata": {},
   "source": [
    "##### Question 11. What will be the syntax to add a new key into `d`\n",
    "```python\n",
    ">>> d =  {0: 10, 1: 20}   \n",
    "```\n",
    "1. d{2:30}\n",
    "2. d[2] = 30\n",
    "3. d{2=30}\n",
    "4. d{2}=30"
   ]
  },
  {
   "cell_type": "markdown",
   "metadata": {},
   "source": [
    "##### Question 12. Write a Python program to iterate over dictionary `d` given in question 11 using *for* loop. What did you get in the output ?\n",
    "    \n",
    "1. A list of keys.\n",
    "2. A list of values.\n",
    "3. keys one below the others.\n",
    "4. values one below the others."
   ]
  },
  {
   "cell_type": "markdown",
   "metadata": {},
   "source": [
    "##### Question 13. The output should be a list of all the keys from  the dictionary `d` in question 11 .Which one of the following will be best option?\n",
    "    \n",
    "1. for/while loops.\n",
    "2. only one loop(while/for). \n",
    "3. dictionary built in functions/methods.\n",
    "4. list built in functions/methods."
   ]
  },
  {
   "cell_type": "markdown",
   "metadata": {},
   "source": [
    "### Task-3\n",
    "Create a new dictionary called 'prices' using {} format  and put values into the dicionary given below: \n",
    "\n",
    "\"banana\" ->  4, \"apple\" ->  2, \"orange\" -> 1.5, \"pear\" -> 3\n",
    "\n"
   ]
  },
  {
   "cell_type": "markdown",
   "metadata": {},
   "source": [
    "##### Question 14. Sort the dictionary created in Task 2  using `sorted()` what data type did you get in the output?    \n",
    "    \n",
    "1. Sorted List of key value pair.\n",
    "2. Sorted List of values.\n",
    "3. Sorted List of keys.\n",
    "4. Will Throw an error"
   ]
  },
  {
   "cell_type": "markdown",
   "metadata": {},
   "source": [
    "##### Question 15.  Given a list you have to create a dictionary named 'counter' in which key will be the element in the list and value will be the count of that element. \n",
    "\n",
    "Given list is :\n",
    "\n",
    "`bag = ['gold coin', 'dagger', 'gold coin', 'gold coin', 'ruby','gold_coin', 'dagger', 'gold coin', 'gold coin','ruby','gold coin', 'dagger', 'gold coin', 'gold coin', 'ruby','gold coin', 'dagger', 'gold coin', 'gold_coin', 'ruby']`\n",
    "\n",
    "What will be the minimum value in the new dictionary ?\n",
    "\n",
    "1. 2\n",
    "2. 3\n",
    "3. 4\n",
    "4. 20"
   ]
  },
  {
   "cell_type": "markdown",
   "metadata": {},
   "source": [
    "##### Question 16. Iterate a given list`counts` and Check if a given element already exists in a dictionary  as a key’s value if not delete it from the list `counts`\n",
    "\n",
    "Given : `counts = [7, 6, 9, 3, 4, 8, 9, 10]`\n",
    "\n",
    "Use Dictionary created in Question 15 \n",
    "\n",
    "What will be the updated list's length?\n",
    "    \n",
    "1. 4\n",
    "2. 5\n",
    "3. 6\n",
    "4. 7"
   ]
  }
 ],
 "metadata": {
  "kernelspec": {
   "display_name": "Python 3",
   "language": "python",
   "name": "python3"
  },
  "language_info": {
   "codemirror_mode": {
    "name": "ipython",
    "version": 3
   },
   "file_extension": ".py",
   "mimetype": "text/x-python",
   "name": "python",
   "nbconvert_exporter": "python",
   "pygments_lexer": "ipython3",
   "version": "3.6.7"
  }
 },
 "nbformat": 4,
 "nbformat_minor": 4
}
