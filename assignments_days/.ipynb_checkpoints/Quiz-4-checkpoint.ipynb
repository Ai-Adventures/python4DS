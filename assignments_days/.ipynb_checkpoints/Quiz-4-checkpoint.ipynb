{
 "cells": [
  {
   "cell_type": "markdown",
   "metadata": {},
   "source": [
    "<img src='../images/logo_full.png'/>\n",
    "\n",
    "## <p style=\"text-align: center;\"> Python for Data Science </p>\n",
    "The course is offered by [Ai Adventures](www.aiadventures.in). The notebooks are created by [Pranav Uikey]() and [Ankur Singh](). This material is subject to the terms and conditions of the [Creative Commons CC BY-NC-SA 4.0](https://creativecommons.org/licenses/by-nc-sa/4.0/) license. Any use for commercial purpose is strictly prohibited."
   ]
  },
  {
   "cell_type": "markdown",
   "metadata": {},
   "source": [
    "## <center>Quiz-5: Functions</center>\n",
    "\n",
    "Prior to working on the Quiz, you'd better check out the corresponding course material:\n",
    "\n",
    "- [Functions](https://nbviewer.jupyter.org/github/Ai-Adventures/python4DS/blob/master/Functions.ipynb),  define your own functions so that you can organize your code into more manageable chunks.\n",
    "\n",
    "We suggest that you first read the articles (quiz questions are based on them), if something is not clear - ask us in the class.\n",
    "\n",
    "**Your task is:**\n",
    "1. Study the material\n",
    "2. Write the code required\n",
    "3. Submit your answers, [webform]()\n",
    "\n",
    "**Deadline for quize: 15th November 2019, 05:00 PM (IST)**\n",
    "\n",
    "Solutions will be discussed in the class on **15th November, 2019**. You can get up to **10 credits**, max.\n",
    "___"
   ]
  },
  {
   "cell_type": "markdown",
   "metadata": {},
   "source": [
    "##### Question 1. Which of the following Enclose the input Parameters or Arguments of a function?\n",
    "1. bracket, `[]`\n",
    "2. parentheses, `()`\n",
    "3. curly braces, `{}`\n",
    "4. quotation marks, `\"\"`"
   ]
  },
  {
   "cell_type": "markdown",
   "metadata": {},
   "source": [
    "##### Question 2. Which of the following keywords marks the beginning of the function block?\n",
    "\n",
    "1. fun\n",
    "2. define\n",
    "3. def\n",
    "4. function "
   ]
  },
  {
   "cell_type": "markdown",
   "metadata": {},
   "source": [
    "##### Question 3. Which of the following function definition does not return any value?\n",
    "\n",
    "1. a function that prints integers from 1 to 100.\n",
    "2. a function that returns a random integer from 1 to 100.\n",
    "3. a function that checks whether the current second is an integer from 1 to 100.\n",
    "4. a function that converts an uppercase letter to lowercase."
   ]
  },
  {
   "cell_type": "markdown",
   "metadata": {},
   "source": [
    "\n",
    "##### Question 4. What is the output of the following code snippet?\n",
    "```python\n",
    ">>>def f(x,y):\n",
    ">>>    x = x + y\n",
    ">>>    y += 1   \n",
    ">>>    print(x,y)\n",
    "\n",
    ">>>f(y=2,x=1)\n",
    "```\n",
    "1. 1 3\n",
    "2. 2 3\n",
    "3. 3 2\n",
    "4. 3 3"
   ]
  },
  {
   "cell_type": "markdown",
   "metadata": {},
   "source": [
    "##### Question 5. What is the output of the following code snippet?\n",
    "```python\n",
    ">>> def func(message, num = 1):\n",
    ">>>      print(message * num)\n",
    " \n",
    ">>> func('Welcome')\n",
    ">>> func('Viewers', 3)\n",
    "```\n",
    "\n",
    "    a) Welcome\n",
    "       Viewers\n",
    "       \n",
    "    b) Welcome\n",
    "       ViewersViewersViewers\n",
    "    \n",
    "    c)  Welcome\n",
    "        Viewers,Viewers,Viewers\n",
    "    \n",
    "    d) Welcome"
   ]
  },
  {
   "cell_type": "markdown",
   "metadata": {},
   "source": [
    "##### Question 6. What is the output of the following code snippet?\n",
    "```python\n",
    ">>> def myfunc(text, num):\n",
    ">>>     while num > 0:\n",
    ">>>         print(text)\n",
    ">>>     num = num - 1\n",
    "\n",
    ">>> myfunc('Hello', 4)\n",
    "```\n",
    "1. HelloHelloHelloHelloHello\n",
    "2. HelloHelloHelloHello\n",
    "3. invalid call\n",
    "4. infinite loop"
   ]
  },
  {
   "cell_type": "markdown",
   "metadata": {},
   "source": [
    "##### Question 7. What is the output of the following code snippet?\n",
    "```python\n",
    ">>> num = 1\n",
    ">>> def func():\n",
    ">>>    num = 3\n",
    ">>>     print(num)\n",
    "\n",
    ">>> func()\n",
    ">>> print(num)\n",
    "```\n",
    "\n",
    "1. 1 3\n",
    "2. 3 1\n",
    "3. The program has a runtime error because something is not defined.\n",
    "4. 1 1"
   ]
  },
  {
   "cell_type": "markdown",
   "metadata": {},
   "source": [
    "##### Question 8. Which of the following items are present in the function definition?\n",
    "1. function name\n",
    "2. function name and parameter list\n",
    "3. parameter list\n",
    "4. return value"
   ]
  },
  {
   "cell_type": "markdown",
   "metadata": {},
   "source": [
    "##### Question 9. What will be the output of the following program?\n",
    "```python\n",
    ">>> def printLine(text):\n",
    ">>>    print(text, 'is awesome.')\n",
    "\n",
    ">>> printLine('Python')\n",
    "```\n",
    "\n",
    "1. Python \n",
    "2. Python is awesome\n",
    "3. text is awesome\n",
    "4. is awesome"
   ]
  },
  {
   "cell_type": "markdown",
   "metadata": {},
   "source": [
    "##### Question 10. If return statement is not used inside the function, the function will return:\n",
    "\n",
    "1. 0 \n",
    "2. None\n",
    "3. an arbritary number\n",
    "4. Error! Functions in Python must have return statement"
   ]
  }
 ],
 "metadata": {
  "kernelspec": {
   "display_name": "Python 3",
   "language": "python",
   "name": "python3"
  },
  "language_info": {
   "codemirror_mode": {
    "name": "ipython",
    "version": 3
   },
   "file_extension": ".py",
   "mimetype": "text/x-python",
   "name": "python",
   "nbconvert_exporter": "python",
   "pygments_lexer": "ipython3",
   "version": "3.6.9"
  }
 },
 "nbformat": 4,
 "nbformat_minor": 4
}
