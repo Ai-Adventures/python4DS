{
 "cells": [
  {
   "cell_type": "markdown",
   "metadata": {},
   "source": [
    "<img src='../images/logo_full.png'/>\n",
    "\n",
    "## <p style=\"text-align: center;\"> Python for Data Science </p>\n",
    "The course is offered by [Ai Adventures](https://aiadventures.in). The notebooks are created by [Pranav Uikey](https://twitter.com/Pranav_Uikey_) and [Ankur Singh](https://twitter.com/I_ankursingh). This material is subject to the terms and conditions of the [Creative Commons CC BY-NC-SA 4.0](https://creativecommons.org/licenses/by-nc-sa/4.0/) license. Any use for commercial purpose is strictly prohibited."
   ]
  },
  {
   "cell_type": "markdown",
   "metadata": {},
   "source": [
    "## <center>Quiz-3: List & Dictionary</center>\n",
    "\n",
    "Prior to working on the Quiz, you'd better check out the corresponding course material:\n",
    "\n",
    "- [List](https://nbviewer.jupyter.org/github/Ai-Adventures/python4DS/blob/master/List.ipynb),  how to organize data.\n",
    "- [Dictionary](https://nbviewer.jupyter.org/github/Ai-Adventures/python4DS/blob/master/Dictionary.ipynb), some more powerful ways to organize data.\n",
    "\n",
    "We suggest that you first read the articles (quiz questions are based on them), if something is not clear - ask us in the class.\n",
    "\n",
    "**Your task is:**\n",
    "1. Study the material\n",
    "2. Write the code required\n",
    "3. Submit your answers, [webform](https://forms.gle/h4MYSe7eMhfdx3ba8)\n",
    "\n",
    "\n",
    "\n",
    "\n",
    "___"
   ]
  },
  {
   "cell_type": "markdown",
   "metadata": {},
   "source": [
    "## Part-1. List"
   ]
  },
  {
   "cell_type": "markdown",
   "metadata": {},
   "source": [
    "For the following three questions, let’s say `spam` contains the list **['a','b','c','d']**"
   ]
  },
  {
   "cell_type": "markdown",
   "metadata": {},
   "source": [
    "##### <span style = 'color:red'>Question 1</span>. What does `spam[int(int('3' * 2) / 11)]` evaluate to?\n",
    "\n",
    "1. d\n",
    "2. a\n",
    "3. c\n",
    "4. b"
   ]
  },
  {
   "cell_type": "markdown",
   "metadata": {},
   "source": [
    "##### <span style = 'color:red'>Question 2</span>.  What does `spam[-1]` evaluate to?\n",
    "1. a\n",
    "2. b\n",
    "3. c\n",
    "4. d"
   ]
  },
  {
   "cell_type": "markdown",
   "metadata": {},
   "source": [
    "##### <span style = 'color:red'>Question 3</span>.  What does `spam[:2]` evaluate to?\n",
    "1. 'b'\n",
    "2. 'c'\n",
    "3. ['a','b']\n",
    "4. 'a','b'"
   ]
  },
  {
   "cell_type": "markdown",
   "metadata": {},
   "source": [
    "##### <span style = 'color:red'>Question 4</span>. What will be the output of `animals[0][1]`?\n",
    "1. ['Dog']\n",
    "2. ['Cat','Dog']\n",
    "3. 'Dog'\n",
    "4. (['Dog'])"
   ]
  },
  {
   "cell_type": "markdown",
   "metadata": {},
   "source": [
    "##### <span style = 'color:red'>Question 5</span>. What will be the output of the following `animals.append('Rabbit')`?\n",
    "1. (['Cat','Dog','Cow'],['Lion','Zebra','Giraffe'],'Rabbit')\n",
    "2. (['Cat','Dog','Cow'],['Lion','Zebra','Giraffe','Rabbit'])\n",
    "3. (['Cat','Dog','Cow','Rabbit'],['Lion','Zebra','Giraffe'])\n",
    "4. None of the above"
   ]
  },
  {
   "cell_type": "markdown",
   "metadata": {},
   "source": [
    "## Part-2. Dictionaries"
   ]
  },
  {
   "cell_type": "markdown",
   "metadata": {},
   "source": [
    "##### <span style = 'color:red'>Question 6</span>. Which of the following are true of Python dictionaries:\n",
    "1. Items are accessed by their position in a dictionary.\n",
    "2. A dictionary can contain any object type except another dictionary.\n",
    "3. Dictionaries are mutable.\n",
    "4. Dictionaries are accessed by key."
   ]
  },
  {
   "cell_type": "markdown",
   "metadata": {},
   "source": [
    "##### <span style = 'color:red'>Question 7</span>. What happens if you try to do `spam['foo'] =10` if `spam = {'foo': 100}`?\n",
    "1. Error: Key Already Present.\n",
    "2. Error: No operation allowed.\n",
    "3. New key and value will get added into spam dictionary.\n",
    "4. Value will get update in spam dictionary."
   ]
  },
  {
   "cell_type": "markdown",
   "metadata": {},
   "source": [
    "##### <span style = 'color:red'>Question 8</span>. What is the main difference between a dictionary and a list?\n",
    "1. Dictionary have indices.\n",
    "2. List is ordered and dictionary is unordered.\n",
    "3. we cannot apply slicing on dictionary.\n",
    "4. All of the Above."
   ]
  },
  {
   "cell_type": "markdown",
   "metadata": {},
   "source": [
    "##### <span style = 'color:red'>Question 9</span>. What will be the output of the following program ?\n",
    "```python\n",
    ">>> foo = {1:'1', 2:'2', 3:'3'}\n",
    ">>> foo = {}\n",
    ">>> print(len(foo))\n",
    "```\n",
    "\n",
    "1. 0\n",
    "2. 2\n",
    "3. 3\n",
    "4. an exception is thrown"
   ]
  },
  {
   "cell_type": "markdown",
   "metadata": {},
   "source": [
    "##### <span style = 'color:red'>Question 10</span>. What will be the output of the following program ?\n",
    "```python\n",
    ">>> numberGames = {}\n",
    ">>> numberGames[(1,2,4)] = 8\n",
    ">>> numberGames[(4,2,1)] = 10\n",
    ">>> numberGames[(1,2)] = 12\n",
    "\n",
    ">>> sum = 0\n",
    "\n",
    ">>> for k in numberGames:\n",
    ">>>     sum += numberGames[k]\n",
    "\n",
    ">>> print(len(numberGames) + sum)\n",
    "```\n",
    "1. 8\n",
    "2. 12\n",
    "3. 27\n",
    "4. 33"
   ]
  }
 ],
 "metadata": {
  "kernelspec": {
   "display_name": "Python 3",
   "language": "python",
   "name": "python3"
  },
  "language_info": {
   "codemirror_mode": {
    "name": "ipython",
    "version": 3
   },
   "file_extension": ".py",
   "mimetype": "text/x-python",
   "name": "python",
   "nbconvert_exporter": "python",
   "pygments_lexer": "ipython3",
   "version": "3.6.7"
  }
 },
 "nbformat": 4,
 "nbformat_minor": 4
}
