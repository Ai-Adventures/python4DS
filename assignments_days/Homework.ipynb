{
 "cells": [
  {
   "cell_type": "markdown",
   "metadata": {},
   "source": [
    "<img src='../images/logo_full.png'/>\n",
    "\n",
    "## <p style=\"text-align: center;\"> Python for Data Science </p>\n",
    "The course is offered by [Ai Adventures](www.aiadventures.in). The notebooks are created by [Pranav Uikey]() and [Ankur Singh](). This material is subject to the terms and conditions of the [Creative Commons CC BY-NC-SA 4.0](https://creativecommons.org/licenses/by-nc-sa/4.0/) license. Any use for commercial purpose is strictly prohibited."
   ]
  },
  {
   "cell_type": "markdown",
   "metadata": {},
   "source": [
    "## <center>Homework</center>\n",
    "- For Homework we have some exicting platform called as [**HackerRank**](https://www.hackerrank.com)\n",
    "- Hackerrank is a good platform for practice your coding skills with no language barrier.\n",
    "\n",
    "**Your task is:**\n",
    "1. Create your account as told in the class.\n",
    "2. You have to solve questions using your python knowledge.\n",
    "3. For solving one question you will get some points known as **Hackos**\n",
    "4. If you get stuck in some question ask us in the class the next day. Go for the next question till then."
   ]
  },
  {
   "cell_type": "markdown",
   "metadata": {},
   "source": [
    "## <center>Scoring System </center>\n",
    "\n",
    "- If you score **125 Hackos** you will get 20 credits.\n",
    "- If you score **100 Hackos** you will get 15 credits.\n",
    "- If you score **75 Hackos** you will get 10 credits.\n",
    "- If you score **50 Hackos** you will get 5 credits.\n",
    "\n",
    "**Note:** **Hackos** will be checked the next day in the class and scores will be added in the credit score sheet."
   ]
  }
 ],
 "metadata": {
  "kernelspec": {
   "display_name": "Python 3",
   "language": "python",
   "name": "python3"
  },
  "language_info": {
   "codemirror_mode": {
    "name": "ipython",
    "version": 3
   },
   "file_extension": ".py",
   "mimetype": "text/x-python",
   "name": "python",
   "nbconvert_exporter": "python",
   "pygments_lexer": "ipython3",
   "version": "3.6.7"
  }
 },
 "nbformat": 4,
 "nbformat_minor": 2
}
