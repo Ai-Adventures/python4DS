{
 "cells": [
  {
   "cell_type": "markdown",
   "metadata": {},
   "source": [
    "<img src='../images/logo_full.png'/>\n",
    "\n",
    "## <p style=\"text-align: center;\"> Python for Data Science </p>\n",
    "The course is offered by [Ai Adventures](www.aiadventures.in). The notebooks are created by [Pranav Uikey]() and [Ankur Singh](). This material is subject to the terms and conditions of the [Creative Commons CC BY-NC-SA 4.0](https://creativecommons.org/licenses/by-nc-sa/4.0/) license. Any use for commercial purpose is strictly prohibited."
   ]
  },
  {
   "cell_type": "markdown",
   "metadata": {},
   "source": [
    "## <center>Homework</center>\n",
    "\n",
    "- For Homework we have some exicting platform called as [**HackerRank**](https://www.hackerrank.com)\n",
    "- Hackerrank is a good platform for practice your coding skills with no language barrier.\n",
    "\n",
    "HackerRank is a great platform for 3 things:\n",
    "\n",
    "1. To build a good profile online\n",
    "2. To practice for Competitive coding (specially for students)\n",
    "3. To Fetch JOB opportunities\n",
    "\n",
    "**Your task is:**\n",
    "\n",
    "1. Create your account as told in the class.\n",
    "2. Under skills select **[Python](https://www.hackerrank.com/domains/python)**.\n",
    "2. You have to solve questions using your python knowledge.\n",
    "3. For solving one question you will get **Stars**\n",
    "4. If you get stuck in some question ask us in the class the next day. You can try other questions till then."
   ]
  },
  {
   "cell_type": "markdown",
   "metadata": {},
   "source": [
    "## <center>Scoring System </center>\n",
    "\n",
    "- If you score **5 Stars** you will get 20 credits.\n",
    "- If you score **4 Stars** you will get 15 credits.\n",
    "- If you score **3 Stars** you will get 10 credits.\n",
    "- If you score **2 Stars** you will get 5 credits.\n",
    "\n",
    "**Note:** you can learn more about the scoring system in hacker rank [here](https://www.hackerrank.com/scoring). Look of *PYTHON - BADGE LEVEL*.\n",
    "\n",
    "**Note:** **Stars** will be checked on **Friday**, in the class and and scores will be added in the rating sheet."
   ]
  }
 ],
 "metadata": {
  "kernelspec": {
   "display_name": "Python 3",
   "language": "python",
   "name": "python3"
  },
  "language_info": {
   "codemirror_mode": {
    "name": "ipython",
    "version": 3
   },
   "file_extension": ".py",
   "mimetype": "text/x-python",
   "name": "python",
   "nbconvert_exporter": "python",
   "pygments_lexer": "ipython3",
   "version": "3.6.9"
  }
 },
 "nbformat": 4,
 "nbformat_minor": 4
}
