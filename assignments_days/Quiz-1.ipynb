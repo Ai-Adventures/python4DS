{
 "cells": [
  {
   "cell_type": "markdown",
   "metadata": {},
   "source": [
    "<img src='../images/logo_full.png'/>\n",
    "\n",
    "## <center> Python for Data Science </center>\n",
    "The course is offered by [Ai Adventures](https://aiadventures.in/). The notebooks are created by [Pranav Uikey](https://twitter.com/Pranav_Uikey_) and [Ankur Singh](https://twitter.com/I_ankursingh). This material is subject to the terms and conditions of the [Creative Commons CC BY-NC-SA 4.0](https://creativecommons.org/licenses/by-nc-sa/4.0/) license. Any use for commercial purpose is strictly prohibited."
   ]
  },
  {
   "cell_type": "markdown",
   "metadata": {},
   "source": [
    "## <center>Quiz-1: Introduction & Expression</center>\n",
    "\n",
    "Prior to working on the quiz, you'd better check out the corresponding course material:\n",
    "\n",
    "- [Introduction](https://nbviewer.jupyter.org/github/Ai-Adventures/python4DS/blob/master/Introduction.ipynb),  why and what is programming?\n",
    "- [Expressions](https://nbviewer.jupyter.org/github/Ai-Adventures/python4DS/blob/master/Expressions.ipynb), the most basic type of Python instruction.\n",
    "\n",
    "We suggest that you first read the articles (quiz questions are based on them), if something is not clear - ask us in the class.\n",
    "\n",
    "**Your task is:**\n",
    "1. Study the material\n",
    "2. Write the code required\n",
    "3. Submit your answers, [webform](https://forms.gle/jj8wc6kR7fdLat9NA)\n",
    "\n",
    "\n",
    "\n",
    "\n",
    "___"
   ]
  },
  {
   "cell_type": "markdown",
   "metadata": {},
   "source": [
    "##### **<span style = 'color:red'>Question 1</span>.** Python got its name from?\n",
    "1. Snake\n",
    "2. TV Series\n",
    "3. Comic Character\n",
    "4. Creator"
   ]
  },
  {
   "cell_type": "markdown",
   "metadata": {},
   "source": [
    "##### **<span style = 'color:red'>Question 2</span>.** Select all Operators?\n",
    "1. `'hello'`\n",
    "\n",
    "2. `*`\n",
    "\n",
    "3. `/`\n",
    "4. `-88.8`\n",
    "5. `5`\n",
    "6. `+`"
   ]
  },
  {
   "cell_type": "markdown",
   "metadata": {},
   "source": [
    "##### **<span style = 'color:red'>Question 3</span>.** Select **Invalid** variable names?\n",
    "1. `_v`\n",
    "\n",
    "2. `100`\n",
    "\n",
    "3. `v100`\n",
    "4. `v_100`\n",
    "5. `v 100`"
   ]
  },
  {
   "cell_type": "markdown",
   "metadata": {},
   "source": [
    "##### **<span style = 'color:red'>Question 4</span>.** which of the following is a variable, & which is a string?\n",
    "1. `'hello'` - string, `spam`- variable\n",
    "\n",
    "2. `'hello'` - Variable, `spam` - String\n",
    "\n",
    "3. `'hello'` - Variable, `spam` - Variable\n",
    "4. `'hello'` - String, `spam` - String"
   ]
  },
  {
   "cell_type": "markdown",
   "metadata": {},
   "source": [
    "##### **<span style = 'color:red'>Question 5</span>.** What does the variable `bacon` contain after the following code runs?\n",
    "```python\n",
    ">>> bacon = 20\n",
    ">>> bacon + 1\n",
    "```\n",
    "1. 21\n",
    "\n",
    "2. 20"
   ]
  },
  {
   "cell_type": "markdown",
   "metadata": {},
   "source": [
    "##### **<span style = 'color:red'>Question 6</span>.** What should the following two expressions evaluate to?\n",
    "```python\n",
    ">>> 'spam' + 'spamspam' # expression 1\n",
    ">>> 'spam' * 3          # expression 2\n",
    "```\n",
    "\n",
    "1. 'spam spamspam' & 'spamspamspam'\n",
    "\n",
    "2. 'spam spamspam' & 'spammm'\n",
    "\n",
    "3. 'spamspamspam' & 'spamspamspam'\n",
    "4. 'spamspamspam' & 'spammm'"
   ]
  },
  {
   "cell_type": "markdown",
   "metadata": {},
   "source": [
    "##### **<span style = 'color:red'>Question 7</span>.** What three functions can be used to get the integer, floating-point number, or string version of a value?\n",
    "\n",
    "1. `integer()`, `float()` & `string()`\n",
    "\n",
    "2. `int()`, `float()` & `string()`\n",
    "\n",
    "3. `integer()`, `double()` & `str()`\n",
    "4. `int()`, `float()` & `str()`"
   ]
  },
  {
   "cell_type": "markdown",
   "metadata": {},
   "source": [
    "##### **<span style = 'color:red'>Question 8</span>.** What does this expression evaluates to?\n",
    "```python\n",
    ">>> 'I have eaten ' + 99 + ' burgers.'\n",
    "```\n",
    "1. IndexError\n",
    "\n",
    "2. TypeError\n",
    "\n",
    "3. I have eaten 99 burgers.\n",
    "4. I have eaten burgers.\n",
    "5. SyntaxError"
   ]
  },
  {
   "cell_type": "markdown",
   "metadata": {},
   "source": [
    "##### **<span style = 'color:red'>Question 9</span>.** What does these expression evaluates to?\n",
    "```python\n",
    ">>> '000.000' == 000.000 # expression 1\n",
    ">>> 0 == 0.0             # expression 2\n",
    "```\n",
    "\n",
    "1. True, False\n",
    "2. False, True\n",
    "3. True, True\n",
    "4. False, False"
   ]
  },
  {
   "cell_type": "markdown",
   "metadata": {},
   "source": [
    "##### **<span style = 'color:red'>Question 10</span>.** What does this expression return?\n",
    "```python\n",
    ">>> len('22.22')\n",
    "```\n",
    "\n",
    "1. 2\n",
    "2. 4\n",
    "3. 5\n",
    "4. 7"
   ]
  }
 ],
 "metadata": {
  "kernelspec": {
   "display_name": "Python 3",
   "language": "python",
   "name": "python3"
  },
  "language_info": {
   "codemirror_mode": {
    "name": "ipython",
    "version": 3
   },
   "file_extension": ".py",
   "mimetype": "text/x-python",
   "name": "python",
   "nbconvert_exporter": "python",
   "pygments_lexer": "ipython3",
   "version": "3.6.7"
  }
 },
 "nbformat": 4,
 "nbformat_minor": 4
}
