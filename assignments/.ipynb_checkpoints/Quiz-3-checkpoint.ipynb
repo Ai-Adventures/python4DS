{
 "cells": [
  {
   "cell_type": "markdown",
   "metadata": {},
   "source": [
    "<img src='../images/logo_full.png'/>\n",
    "\n",
    "## <p style=\"text-align: center;\"> Python for Data Science </p>\n",
    "The course is offered by [Ai Adventures](www.aiadventures.in). The notebooks are created by [Pranav Uikey]() and [Ankur Singh](). This material is subject to the terms and conditions of the [Creative Commons CC BY-NC-SA 4.0](https://creativecommons.org/licenses/by-nc-sa/4.0/) license. Any use for commercial purpose is strictly prohibited."
   ]
  },
  {
   "cell_type": "markdown",
   "metadata": {},
   "source": [
    "## <center>Quiz-3: List & Dictionary</center>\n",
    "\n",
    "Prior to working on the assignment, you'd better check out the corresponding course material:\n",
    "\n",
    "- [List](https://nbviewer.jupyter.org/github/Ai-Adventures/python4DS/blob/master/List.ipynb),  how to organize data.\n",
    "- [Dictionary](https://nbviewer.jupyter.org/github/Ai-Adventures/python4DS/blob/master/Dictionary.ipynb), some more powerful ways to organize data.\n",
    "\n",
    "We suggest that you first read the articles (quiz questions are based on them), if something is not clear - ask us in the class.\n",
    "\n",
    "**Your task is:**\n",
    "1. Study the material\n",
    "2. Write the code required\n",
    "3. Submit your answers, [webform]()\n",
    "\n",
    "**Deadline for quize: 7th November 2019, 23:00 (IST)**\n",
    "\n",
    "Solutions will be discussed in the class on **8th November, 2019**. You can get up to **10 credits**, max."
   ]
  },
  {
   "cell_type": "code",
   "execution_count": null,
   "metadata": {},
   "outputs": [],
   "source": []
  }
 ],
 "metadata": {
  "kernelspec": {
   "display_name": "Python 3",
   "language": "python",
   "name": "python3"
  },
  "language_info": {
   "codemirror_mode": {
    "name": "ipython",
    "version": 3
   },
   "file_extension": ".py",
   "mimetype": "text/x-python",
   "name": "python",
   "nbconvert_exporter": "python",
   "pygments_lexer": "ipython3",
   "version": "3.6.9"
  }
 },
 "nbformat": 4,
 "nbformat_minor": 4
}
