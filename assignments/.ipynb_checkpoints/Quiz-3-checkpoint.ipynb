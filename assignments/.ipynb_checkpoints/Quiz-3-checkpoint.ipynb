{
 "cells": [
  {
   "cell_type": "markdown",
   "metadata": {},
   "source": [
    "<img src='../images/logo_full.png'/>\n",
    "\n",
    "## <p style=\"text-align: center;\"> Python for Data Science </p>\n",
    "The course is offered by [Ai Adventures](www.aiadventures.in). The notebooks are created by [Pranav Uikey]() and [Ankur Singh](). This material is subject to the terms and conditions of the [Creative Commons CC BY-NC-SA 4.0](https://creativecommons.org/licenses/by-nc-sa/4.0/) license. Any use for commercial purpose is strictly prohibited."
   ]
  },
  {
   "cell_type": "markdown",
   "metadata": {},
   "source": [
    "## <center>Quiz-3: List & Dictionary</center>\n",
    "\n",
    "Prior to working on the Quiz, you'd better check out the corresponding course material:\n",
    "\n",
    "- [List](https://nbviewer.jupyter.org/github/Ai-Adventures/python4DS/blob/master/List.ipynb),  how to organize data.\n",
    "- [Dictionary](https://nbviewer.jupyter.org/github/Ai-Adventures/python4DS/blob/master/Dictionary.ipynb), some more powerful ways to organize data.\n",
    "\n",
    "We suggest that you first read the articles (quiz questions are based on them), if something is not clear - ask us in the class.\n",
    "\n",
    "**Your task is:**\n",
    "1. Study the material\n",
    "2. Write the code required\n",
    "3. Submit your answers, [webform]()\n",
    "\n",
    "**Deadline for quize: 7th November 2019, 23:00 (IST)**\n",
    "\n",
    "Solutions will be discussed in the class on **8th November, 2019**. You can get up to **10 credits**, max.\n",
    "___"
   ]
  },
  {
   "cell_type": "markdown",
   "metadata": {},
   "source": [
    "## Part-1. List"
   ]
  },
  {
   "cell_type": "markdown",
   "metadata": {},
   "source": [
    "#### Question 1  How would you assign the value 'hello' as the third value in a list stored in a variable named spam? (spam = [2,4,6,8,10])\n",
    "Write the required code in the cell given below"
   ]
  },
  {
   "cell_type": "code",
   "execution_count": null,
   "metadata": {},
   "outputs": [],
   "source": []
  },
  {
   "cell_type": "markdown",
   "metadata": {},
   "source": [
    "For the following three questions, let’s say spam contains the list **['a','b','c','d']**"
   ]
  },
  {
   "cell_type": "markdown",
   "metadata": {},
   "source": [
    "#### Question 2 What does spam[int('3' * 2) / 11] evaluate to?\n",
    "\n",
    "    a) d\n",
    "    b) a\n",
    "    c) c\n",
    "    d) b"
   ]
  },
  {
   "cell_type": "markdown",
   "metadata": {},
   "source": [
    "#### Question 3  What does spam[-1] evaluate to?\n",
    "    a) a\n",
    "    b) b\n",
    "    c) c\n",
    "    d) d"
   ]
  },
  {
   "cell_type": "markdown",
   "metadata": {},
   "source": [
    "#### Question 4  What does spam[:2] evaluate to?\n",
    "    a) 'b'\n",
    "    b) 'c'\n",
    "    c) ['a','b']\n",
    "    d) 'a','b'"
   ]
  },
  {
   "cell_type": "markdown",
   "metadata": {},
   "source": [
    "For the following three questions, let’s say bacon contains the list [3.14, 'cat', 11, 'cat', True].(i.e - **bacon = [3.14,'cat',11,'cat',True]**)"
   ]
  },
  {
   "cell_type": "markdown",
   "metadata": {},
   "source": [
    "#### Question 5 What does bacon.append(99) will give us as output ?\n",
    "    a) [99,3.14,'cat',11,'cat',True]\n",
    "    b) [3.14,'cat',11,'cat',True,99]\n",
    "    c) [3.14,'cat',11,'cat',99]\n",
    "    d) [3.14,'cat',11,'cat',True]"
   ]
  },
  {
   "cell_type": "markdown",
   "metadata": {},
   "source": [
    "#### Question 6 What does bacon.remove('cat') will give us output?\n",
    "    a) [3.14,'cat',11,True]\n",
    "    b) [3.14,11,True]\n",
    "    c) [3.14,11,'cat',True]\n",
    "    d) [3.14,'cat',11,'cat',True]"
   ]
  },
  {
   "cell_type": "markdown",
   "metadata": {},
   "source": [
    "#### Question 7 What will happen if we concatenate bacon list with itself ?\n",
    "    a) [3.14,3.14,'cat','cat',11,11,'cat','cat','True',True]\n",
    "    b) [3.14,'cat',11,'cat',True,3.14,'cat',11,'cat',True]"
   ]
  },
  {
   "cell_type": "markdown",
   "metadata": {},
   "source": [
    "Use animals = (['Cat','Dog','Cow'],['Lion','Zebra','Giraffe']) for next 1 question.\n",
    "#### Question 8 What will be the output of animals[0][1]\n",
    "    a) ['Dog']\n",
    "    b) ['Cat','Dog']\n",
    "    c) 'Dog'\n",
    "    d) (['Dog'])"
   ]
  },
  {
   "cell_type": "markdown",
   "metadata": {},
   "source": [
    "#### Question 9 What will be the output of the following animals.append('Rabbit')\n",
    "    a) (['Cat','Dog','Cow'],['Lion','Zebra','Giraffe'],'Rabbit')\n",
    "    b) (['Cat','Dog','Cow'],['Lion','Zebra','Giraffe','Rabbit'])\n",
    "    c) (['Cat','Dog','Cow','Rabbit'],['Lion','Zebra','Giraffe'])\n",
    "    d) None of the above"
   ]
  },
  {
   "cell_type": "markdown",
   "metadata": {},
   "source": [
    "## Part-2. Dictionaries"
   ]
  },
  {
   "cell_type": "markdown",
   "metadata": {},
   "source": [
    "#### Question 1) Which of the following are true of Python dictionaries(Multiple Choice):\n",
    "    a) Items are accessed by their position in a dictionary.\n",
    "    b) A dictionary can contain any object type except another dictionary.\n",
    "    c) Dictionaries are mutable.\n",
    "    d) Dictionaries are accessed by key.\n"
   ]
  },
  {
   "cell_type": "markdown",
   "metadata": {},
   "source": [
    "#### Question 2) What happens if you try to do `spam['foo'] =10` if `spam = {'foo': 100}`?\n",
    "    a) Error: Key Already Present.\n",
    "    b) Error: No operation allowed.\n",
    "    c) New key and value will get added into spam dictionary.\n",
    "    d) Value will get update in spam dictionary."
   ]
  },
  {
   "cell_type": "markdown",
   "metadata": {},
   "source": [
    "#### Question 3) What is the main difference between a dictionary and a list?\n",
    "    a) Dictionary have indices.\n",
    "    b) List is ordered and dictionary is unordered.\n",
    "    c) we cannot apply slicing on dictionary.\n",
    "    d) All of the Above."
   ]
  },
  {
   "cell_type": "markdown",
   "metadata": {},
   "source": [
    "#### Question 4) Consider this dictionary d = {'foo': 100, 'bar': 200, 'baz': 300} What is the result of this statement:`d['bar':'baz']`\n",
    "    a) 200 300\n",
    "    b) It raises an exception\n",
    "    c) (200, 300)\n",
    "    d) [200,300]"
   ]
  },
  {
   "cell_type": "markdown",
   "metadata": {},
   "source": [
    "x = [\n",
    "    'a',\n",
    "    'b',\n",
    "    {\n",
    "        'foo': 1,\n",
    "        'bar':\n",
    "        {\n",
    "            'x' : 10,\n",
    "            'y' : 20,\n",
    "            'z' : 30\n",
    "        },\n",
    "        'baz': 3\n",
    "    },\n",
    "    'c',\n",
    "    'd'\n",
    "]"
   ]
  },
  {
   "cell_type": "markdown",
   "metadata": {},
   "source": [
    "#### Question 5) Which of the following could be a valid dictionary key:\n",
    "    a) ('foo', 'bar')\n",
    "    b) dict(foo=1, bar=2)\n",
    "    c) 'foo'\n",
    "    d) ['foo', 'bar']"
   ]
  },
  {
   "cell_type": "markdown",
   "metadata": {},
   "source": [
    "#### Question 6) What will be the output of following program?\n",
    "\n",
    "`confusion = {}`\n",
    "\n",
    "`confusion[1] = 1`\n",
    "\n",
    "`confusion['1'] = 2`\n",
    "\n",
    "`confusion[1] += 1`\n",
    "\n",
    "\n",
    "\n",
    "`sum = 0`\n",
    "\n",
    "for k in confusion:\n",
    "\n",
    "    sum += confusion[k]\n",
    "\n",
    "`print(sum)`\n",
    "\n",
    "    a) 1\n",
    "    b) 2\n",
    "    c) 3\n",
    "    d) 4"
   ]
  },
  {
   "cell_type": "markdown",
   "metadata": {},
   "source": [
    "#### Question 7) What will the output of the following program?\n",
    "`boxes = {}`\n",
    "\n",
    "`jars = {}`\n",
    "\n",
    "`crates = {}`\n",
    "`boxes['cereal'] = 1`\n",
    "\n",
    "`boxes['candy'] = 2`\n",
    "\n",
    "`jars['honey'] = 4`\n",
    "\n",
    "`crates['boxes'] = boxes`\n",
    "\n",
    "`crates['jars'] = jars`\n",
    "\n",
    "`print(len(crates[boxes]))`\n",
    "\n",
    "    a) 1\n",
    "    b) 2\n",
    "    c) 4\n",
    "    d) an exception is thrown"
   ]
  },
  {
   "cell_type": "markdown",
   "metadata": {},
   "source": [
    "#### Question 8) What will be the output of the following program ?\n",
    "\n",
    "`foo = {1:'1', 2:'2', 3:'3'}`\n",
    "\n",
    "`foo = {}`\n",
    "\n",
    "`print(len(foo))`\n",
    "\n",
    "    a) 0\n",
    "    b) 2\n",
    "    c) 3\n",
    "    d) an exception is thrown"
   ]
  },
  {
   "cell_type": "markdown",
   "metadata": {},
   "source": [
    "#### Question ) What will be the output of the following program ?\n",
    "\n",
    "`numberGames = {}`\n",
    "\n",
    "`numberGames[(1,2,4)] = 8`\n",
    "\n",
    "`numberGames[(4,2,1)] = 10`\n",
    "\n",
    "`numberGames[(1,2)] = 12`\n",
    "\n",
    "`sum = 0`\n",
    "\n",
    "\n",
    "`for k in numberGames:\n",
    "    sum += numberGames[k]`\n",
    "\n",
    "`print(len(numberGames) + sum)`\n",
    "\n",
    "    a) 8\n",
    "    b) 12\n",
    "    c) 27\n",
    "    d) 33"
   ]
  },
  {
   "cell_type": "code",
   "execution_count": null,
   "metadata": {},
   "outputs": [],
   "source": []
  }
 ],
 "metadata": {
  "kernelspec": {
   "display_name": "Python 3",
   "language": "python",
   "name": "python3"
  },
  "language_info": {
   "codemirror_mode": {
    "name": "ipython",
    "version": 3
   },
   "file_extension": ".py",
   "mimetype": "text/x-python",
   "name": "python",
   "nbconvert_exporter": "python",
   "pygments_lexer": "ipython3",
   "version": "3.6.9"
  }
 },
 "nbformat": 4,
 "nbformat_minor": 4
}
