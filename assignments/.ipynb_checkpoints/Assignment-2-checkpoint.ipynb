{
 "cells": [
  {
   "cell_type": "markdown",
   "metadata": {},
   "source": [
    "<img src='../images/logo_full.png'/>\n",
    "\n",
    "## <p style=\"text-align: center;\"> Python for Data Science </p>\n",
    "The course is offered by [Ai Adventures](www.aiadventures.in). The notebooks are created by [Pranav Uikey]() and [Ankur Singh](). This material is subject to the terms and conditions of the [Creative Commons CC BY-NC-SA 4.0](https://creativecommons.org/licenses/by-nc-sa/4.0/) license. Any use for commercial purpose is strictly prohibited."
   ]
  },
  {
   "cell_type": "markdown",
   "metadata": {},
   "source": [
    "## <center>Assignment-2: Flow Control</center>\n",
    "\n",
    "Prior to working on the assignment, you'd better check out the corresponding course material:\n",
    "\n",
    "- [Decision Making](https://nbviewer.jupyter.org/github/Ai-Adventures/python4DS/blob/master/Flow%20Control.ipynb), make programs decide which instructions to execute so your code can intelligently respond to different conditions.\n",
    "- [Loops](https://nbviewer.jupyter.org/github/Ai-Adventures/python4DS/blob/master/Loops.ipynb),  run the same piece of code again & again.\n",
    "\n",
    "We suggest that you first read the articles (questions are based on them), if something is not clear - ask us in the class.\n",
    "\n",
    "**Your task is:**\n",
    "1. Study the material\n",
    "2. Write the code required\n",
    "3. Submit your answers, [webform]()\n",
    "\n",
    "**Deadline for quize: 6th November 2019, 23:00 (IST)**\n",
    "\n",
    "Solutions will be discussed in the class on **7th November, 2019**. You can get up to **10 credits**, max.\n",
    "___"
   ]
  },
  {
   "cell_type": "markdown",
   "metadata": {},
   "source": [
    "##### Write code that prints *Hello* if *1* is stored in *spam*, prints *Howdy* if *2* is stored in *spam*, and prints *Greetings!* if anything else is stored in *spam*."
   ]
  },
  {
   "cell_type": "code",
   "execution_count": 1,
   "metadata": {},
   "outputs": [],
   "source": [
    "# your code here"
   ]
  },
  {
   "cell_type": "markdown",
   "metadata": {},
   "source": [
    "##### Write code that prints all the even numbers from 13 to 28 (both numbers included). "
   ]
  },
  {
   "cell_type": "code",
   "execution_count": 2,
   "metadata": {},
   "outputs": [],
   "source": [
    "# your code here"
   ]
  },
  {
   "cell_type": "markdown",
   "metadata": {},
   "source": [
    "##### Write code which prints all the numbers that are either divisible by 5 or 3 between 13 to 28 (both numbers included). "
   ]
  },
  {
   "cell_type": "code",
   "execution_count": 3,
   "metadata": {},
   "outputs": [],
   "source": [
    "# your code here"
   ]
  },
  {
   "cell_type": "markdown",
   "metadata": {},
   "source": [
    "#### Question 1. Count the number of elements you have in common in the above 2 list?\n",
    "\n",
    "1. 2\n",
    "2. 3\n",
    "3. 4\n",
    "4. 5"
   ]
  },
  {
   "cell_type": "markdown",
   "metadata": {},
   "source": [
    "#### Question 1. Write a Python program to get the Fibonacci series between 30 to 100? Count the number of element you get\n",
    "**Note:** The Fibonacci Sequence is the series of numbers :\n",
    "\n",
    "        0, 1, 1, 2, 3, 5, 8, 13, 21, ....\n",
    "        \n",
    "Every next number is found by adding up the two numbers before it.\n",
    "\n",
    "1. 2\n",
    "2. 3\n",
    "3. 4\n",
    "4. 5"
   ]
  }
 ],
 "metadata": {
  "kernelspec": {
   "display_name": "Python 3",
   "language": "python",
   "name": "python3"
  },
  "language_info": {
   "codemirror_mode": {
    "name": "ipython",
    "version": 3
   },
   "file_extension": ".py",
   "mimetype": "text/x-python",
   "name": "python",
   "nbconvert_exporter": "python",
   "pygments_lexer": "ipython3",
   "version": "3.6.9"
  }
 },
 "nbformat": 4,
 "nbformat_minor": 4
}
