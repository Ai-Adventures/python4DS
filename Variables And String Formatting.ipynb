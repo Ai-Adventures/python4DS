{
 "cells": [
  {
   "cell_type": "markdown",
   "metadata": {},
   "source": [
    "![](images/ailogo.png)\n",
    "\n",
    "## <center>[Ai Adventures]( https://www.aiadventures.in) Python BootCamp Course !!</center>"
   ]
  },
  {
   "cell_type": "markdown",
   "metadata": {},
   "source": [
    "**Before Starting directly to python let's start with some interesting facts about Python programming language.**\n",
    "\n",
    "![](images/who-needs-facts1.jpg)"
   ]
  },
  {
   "cell_type": "markdown",
   "metadata": {},
   "source": [
    "#### <center> <u>Fact No 1</u></center>\n",
    "\n",
    "**<center> Python is an open source language.</center>**\n",
    "\n",
    "<center> Despite the massive popularity that enjoys, Python is an open source language. This means that it has all the features of an open source language. It does not have a proprietary license that controls who uses it. As an open source language, members of the Python community are allowed to make their contributions into the Python ecosystem.</center>"
   ]
  },
  {
   "cell_type": "markdown",
   "metadata": {},
   "source": [
    "#### <center> <u>Fact No 2</u></center>\n",
    "\n",
    "**<center> Why it was called Python ??</center>**\n",
    "\n",
    "<center>The language’s name isn’t about snakes, but about the popular British comedy troupe Monty Python (from the 1970s). Guido Van Rossum(The Creator of Python) himself is a big fan of Monty Python’s Flying Circus. Being in a rather irreverent mood, he named the project ‘Python’. Isn’t it an interesting Python fact?</center>\n",
    "\n",
    "<img src = \"images/monty-pythons-flying-circus.jpg\" width = '500px'>"
   ]
  },
  {
   "cell_type": "markdown",
   "metadata": {},
   "source": [
    "#### <center> <u>Fact No 3</u></center>\n",
    "    \n",
    "**<center> Big Companies Using Python</center>**\n",
    "    \n",
    "<center> Many big names use Python for their products/services. Some of these are:</center>\n",
    "    \n",
    "<img src = \"images/top-companies-using-python1.png\" width = 500px>"
   ]
  },
  {
   "cell_type": "markdown",
   "metadata": {},
   "source": [
    "#### <center> <u>Fact 4 </u></center>\n",
    "\n",
    "**<center> Python is for Beginers:</center>**\n",
    "\n",
    "<center>So, for those of you familiar with Java or C++, Python will break the mold you have built for a typical programming language. The screenshot below displays the trends of these programming languages as per Google.</center>\n",
    "\n",
    "<img src =\"images/stats python.png\" width = 500px>"
   ]
  },
  {
   "cell_type": "markdown",
   "metadata": {},
   "source": [
    "#### <center><u>Fact 5</u></center>\n",
    "\n",
    "**<center> Python is more like English</center>**\n",
    "\n",
    "<center>Many people say that Python is easy to read the language. The main reason for this claim is Python is more like English. You can easily understand what every line of code is doing. Everything is straight forward and direct to the point.</center>"
   ]
  },
  {
   "cell_type": "markdown",
   "metadata": {},
   "source": [
    "### Aren't These Facts MindBlowing\n",
    "    \n",
    "### I Think these are enough facts to get you started with python.\n"
   ]
  },
  {
   "cell_type": "markdown",
   "metadata": {},
   "source": [
    "<img src = \"images/applicatons.png\" width = 500px>"
   ]
  },
  {
   "cell_type": "markdown",
   "metadata": {},
   "source": [
    "Enough of the Stats and Facts About Python.Let's Start with Python Programming \n",
    "\n",
    "**We Will Be Covering Basics of Python for the First Day.**"
   ]
  },
  {
   "cell_type": "markdown",
   "metadata": {},
   "source": [
    "### Variables\n",
    "\n",
    "A variable is like a box in the computer’s memory where you can store a\n",
    "single value. If you want to use the result of an evaluated expression later in\n",
    "your program, you can save it inside a variable.\n",
    "\n",
    "<img src = \"images/declare-variable.png\" width = 500px>"
   ]
  },
  {
   "cell_type": "markdown",
   "metadata": {},
   "source": [
    "Python is a loosely typed language,we do not need to declare variables before using them, or declare their type. Every variable in Python is an object.\n",
    "\n",
    "Following Example will explain it clearly.  "
   ]
  },
  {
   "cell_type": "markdown",
   "metadata": {},
   "source": [
    "#### Storing Values in Variables\n",
    "\n",
    "You’ll store values in variables with an assignment statement. An assignment\n",
    "statement consists of a variable name, an equal sign (called the assignment\n",
    "operator), and the value to be stored. If you enter the assignment statement\n",
    "**data1 = 1**, then a variable named **data1** will have the integer value **1** stored in it."
   ]
  },
  {
   "cell_type": "markdown",
   "metadata": {},
   "source": [
    "### Numbers"
   ]
  },
  {
   "cell_type": "markdown",
   "metadata": {},
   "source": [
    "##### Integers\n",
    "\n",
    "The integer (or int) data type indicates\n",
    "values that are whole numbers. For Example (....,-2, -1, 0, 1, 2,.....)"
   ]
  },
  {
   "cell_type": "code",
   "execution_count": 1,
   "metadata": {},
   "outputs": [
    {
     "name": "stdout",
     "output_type": "stream",
     "text": [
      "1\n",
      "1\n",
      "2\n",
      "2\n",
      "0\n",
      "1\n",
      "1.0\n"
     ]
    }
   ],
   "source": [
    "data1 = 1\n",
    "data2 = 1\n",
    "print(data1)\n",
    "print(data2)\n",
    "print(data1+data1)\n",
    "print(data2+data2)\n",
    "print(data1-data2)\n",
    "print(data1*data2)\n",
    "print(data1/data2)"
   ]
  },
  {
   "cell_type": "markdown",
   "metadata": {},
   "source": [
    "### Wow No Semicolons\n",
    "<img src = \"images/semicolon.png\">"
   ]
  },
  {
   "cell_type": "code",
   "execution_count": 2,
   "metadata": {},
   "outputs": [
    {
     "name": "stdout",
     "output_type": "stream",
     "text": [
      "3\n"
     ]
    }
   ],
   "source": [
    "data1 = data1 + 2\n",
    "print(data1)"
   ]
  },
  {
   "cell_type": "markdown",
   "metadata": {},
   "source": [
    "A variable is initialized (or created) the first time a value is stored in it.\n",
    "After that, you can use it in expressions with other variables and values.\n",
    "When **data1** variable is assigned a new value, the old value is forgotten, which\n",
    "is why **data1** evaluated to **3** instead of  **1** at the end of the example. This is\n",
    "called overwriting the variable."
   ]
  },
  {
   "cell_type": "code",
   "execution_count": 3,
   "metadata": {},
   "outputs": [
    {
     "name": "stdout",
     "output_type": "stream",
     "text": [
      "0\n",
      "2\n"
     ]
    }
   ],
   "source": [
    "x = 0\n",
    "print(x)\n",
    "x = 2\n",
    "print(x)"
   ]
  },
  {
   "cell_type": "markdown",
   "metadata": {},
   "source": [
    "##### Possible Variable Names"
   ]
  },
  {
   "cell_type": "markdown",
   "metadata": {},
   "source": [
    "1. It can be only one word.\n",
    "2. It can use only letters, numbers, and the underscore (_) character.\n",
    "3. It can’t begin with a number\n",
    "\n",
    "Variable names are case-sensitive, meaning that data, DATA, Data, and dATA\n",
    "are four different variables. It is a Python convention to start your variables\n",
    "with a lowercase letter."
   ]
  },
  {
   "cell_type": "markdown",
   "metadata": {},
   "source": [
    "##### Floating-Point \n",
    "\n",
    "Numbers with a decimal point, such as\n",
    "3.14, are called floating-point numbers (or floats) For Example (.... ,-2.5, -2.0, -1.5, -1.0, 0.0, 1.0, 1.5, .....)\n",
    "\n",
    "**Note that even though the\n",
    "value 2 is an integer, the value 2.0 would be a floating-point number.**"
   ]
  },
  {
   "cell_type": "code",
   "execution_count": 4,
   "metadata": {},
   "outputs": [
    {
     "name": "stdout",
     "output_type": "stream",
     "text": [
      "2.0\n",
      "-3.5\n",
      "-1.5\n",
      "5.5\n",
      "-7.0\n",
      "-0.5714285714285714\n"
     ]
    }
   ],
   "source": [
    "data2 = 2.0 \n",
    "data3 = -3.5\n",
    "print(data2)\n",
    "print(data3)\n",
    "print(data2+data3)\n",
    "print(data2-data3)\n",
    "print(data2*data3)\n",
    "print(data2/data3)"
   ]
  },
  {
   "cell_type": "markdown",
   "metadata": {},
   "source": [
    "**Q) What do you think data1(int) + data2(float) will give us in the output ?**\n",
    "\n",
    "**<ul>A) 4</ul>**\n",
    "**<ul>B) 4.0</ul>**\n",
    "**<ul>C) Error</ul>**\n",
    "\n",
    "Try the operation in the cell below"
   ]
  },
  {
   "cell_type": "code",
   "execution_count": 5,
   "metadata": {},
   "outputs": [],
   "source": [
    "### Write Your Code Here"
   ]
  },
  {
   "cell_type": "markdown",
   "metadata": {},
   "source": [
    "##### String Values"
   ]
  },
  {
   "cell_type": "markdown",
   "metadata": {},
   "source": [
    "Python programs can also have text values called strings, or strs (pronounced\n",
    "“stirs”). Always surround your string in single quote (') characters\n",
    "(as in 'Hello' or 'Goodbye') so Python knows where the string\n",
    "begins and ends. You can even have a string with no characters in it, '',\n",
    "called a blank string. Strings are explained in greater detail in further topics. \n",
    "\n",
    "For Example ('a', 'aa', 'aaa', 'Hello!', '11cats', '4', '5', '-6.2')"
   ]
  },
  {
   "cell_type": "code",
   "execution_count": 6,
   "metadata": {},
   "outputs": [
    {
     "name": "stdout",
     "output_type": "stream",
     "text": [
      "Hello World \n"
     ]
    }
   ],
   "source": [
    "s = 'Hello World '\n",
    "print(s)"
   ]
  },
  {
   "cell_type": "code",
   "execution_count": 7,
   "metadata": {},
   "outputs": [
    {
     "name": "stdout",
     "output_type": "stream",
     "text": [
      " My Name is .\n"
     ]
    }
   ],
   "source": [
    "s1 = ' My Name is .'#### Complete the sentence with your own name and see the output.\n",
    "print(s1)"
   ]
  },
  {
   "cell_type": "markdown",
   "metadata": {},
   "source": [
    "#### Wanna See Magic with Strings\n",
    "\n",
    "<img src = 'images/magic.jpg' width = 500px>"
   ]
  },
  {
   "cell_type": "markdown",
   "metadata": {},
   "source": [
    "**String Concatenation and Replication**"
   ]
  },
  {
   "cell_type": "markdown",
   "metadata": {},
   "source": [
    "**Concatenation**\n",
    "\n",
    "String Concatenation is simply joining two Strings \n",
    "\n",
    "The meaning of an operator may change based on the data types of the\n",
    "values next to it. For example, **+** is the addition operator when it operates on\n",
    "two integers or floating-point values. However, when **+** is used on two string\n",
    "values, it joins the strings as the string concatenation operator."
   ]
  },
  {
   "cell_type": "code",
   "execution_count": 8,
   "metadata": {},
   "outputs": [
    {
     "name": "stdout",
     "output_type": "stream",
     "text": [
      "Hello World  My Name is .\n"
     ]
    }
   ],
   "source": [
    "print(s+s1)"
   ]
  },
  {
   "cell_type": "markdown",
   "metadata": {},
   "source": [
    "The expression evaluates down to a single, new string value that combines\n",
    "the text of the two strings. However, if you try to use the + operator on\n",
    "a string and an integer value, Python will not know how to handle this, and\n",
    "it will display an error message."
   ]
  },
  {
   "cell_type": "code",
   "execution_count": 9,
   "metadata": {},
   "outputs": [
    {
     "ename": "TypeError",
     "evalue": "must be str, not int",
     "output_type": "error",
     "traceback": [
      "\u001b[0;31m---------------------------------------------------------------------------\u001b[0m",
      "\u001b[0;31mTypeError\u001b[0m                                 Traceback (most recent call last)",
      "\u001b[0;32m<ipython-input-9-75086d10eed7>\u001b[0m in \u001b[0;36m<module>\u001b[0;34m\u001b[0m\n\u001b[0;32m----> 1\u001b[0;31m \u001b[0ms\u001b[0m\u001b[0;34m+\u001b[0m\u001b[0mdata1\u001b[0m\u001b[0;34m\u001b[0m\u001b[0;34m\u001b[0m\u001b[0m\n\u001b[0m",
      "\u001b[0;31mTypeError\u001b[0m: must be str, not int"
     ]
    }
   ],
   "source": [
    "s+data1"
   ]
  },
  {
   "cell_type": "markdown",
   "metadata": {},
   "source": [
    "The error message must be str, not int means\n",
    "that Python thought you cannot concatenate an integer to the string .(i.e- Two different data types)"
   ]
  },
  {
   "cell_type": "markdown",
   "metadata": {},
   "source": [
    "**Replication** \n",
    "\n",
    "Replication is simply how many times we have to replicate the string. \n",
    "\n",
    "The * operator is used for multiplication when it operates on two integer\n",
    "or floating-point values. But when the * operator is used on one string\n",
    "value and one integer value, it becomes the string replication operator."
   ]
  },
  {
   "cell_type": "code",
   "execution_count": null,
   "metadata": {},
   "outputs": [],
   "source": [
    "print(s*2)"
   ]
  },
  {
   "cell_type": "markdown",
   "metadata": {},
   "source": [
    "The * operator can be used with only two numeric values (for multiplication)\n",
    "or one string value and one integer value (for string replication).\n",
    "Otherwise, Python will just display an error message."
   ]
  },
  {
   "cell_type": "code",
   "execution_count": null,
   "metadata": {},
   "outputs": [],
   "source": [
    "print(s*s1)"
   ]
  },
  {
   "cell_type": "markdown",
   "metadata": {},
   "source": [
    "It makes sense that Python wouldn’t understand these expressions: You\n",
    "can’t multiply two words."
   ]
  },
  {
   "cell_type": "markdown",
   "metadata": {},
   "source": [
    "#### String Formatting"
   ]
  },
  {
   "cell_type": "markdown",
   "metadata": {},
   "source": [
    "In Python a string of required formatting can be achieved by different methods.\n",
    "Some of them are :\n",
    "\n",
    "1) Using %\n",
    "\n",
    "2) Using {} or .format()"
   ]
  },
  {
   "cell_type": "markdown",
   "metadata": {},
   "source": [
    "##### Method 1). Using %"
   ]
  },
  {
   "cell_type": "markdown",
   "metadata": {},
   "source": [
    "The formatting using % is similar to that of ‘printf’ in C programming language.\n",
    "\n",
    "%d – integer\n",
    "\n",
    "%f – float\n",
    "\n",
    "%s – string\n",
    "\n",
    "%x – hexadecimal\n",
    "\n",
    "%o – octal"
   ]
  },
  {
   "cell_type": "code",
   "execution_count": null,
   "metadata": {},
   "outputs": [],
   "source": [
    "variable = '15'\n",
    "string = \"Variable as string = %s\" %(variable)\n",
    "print(string)"
   ]
  },
  {
   "cell_type": "code",
   "execution_count": null,
   "metadata": {},
   "outputs": [],
   "source": [
    "variable  = 20\n",
    "string = \"Variable as integer = %d\" %(variable) \n",
    "print(string)\n",
    "\n",
    "variable =20.0\n",
    "print( \"Variable as float = %f\" %(variable))"
   ]
  },
  {
   "cell_type": "code",
   "execution_count": null,
   "metadata": {},
   "outputs": [],
   "source": [
    "variable = 15\n",
    "print(\"Variable as hexadecimal = %x\" %(variable)) \n",
    "print(\"Variable as octal = %o\" %(variable)) "
   ]
  },
  {
   "cell_type": "markdown",
   "metadata": {},
   "source": [
    "##### Method 2 Using {} or .format ()"
   ]
  },
  {
   "cell_type": "code",
   "execution_count": null,
   "metadata": {},
   "outputs": [],
   "source": [
    "planet = 'Earth'\n",
    "diameter = 12743\n",
    "print('The {} is having of diameter of {} meters.'.format(planet,diameter))"
   ]
  },
  {
   "cell_type": "code",
   "execution_count": null,
   "metadata": {},
   "outputs": [],
   "source": [
    "first_name = 'Tom'\n",
    "last_name = 'Sharma'\n",
    "City = 'Pune'\n",
    "print('Hey!! There my name is {} {}, I am from {}.'.format(first_name,last_name,City))"
   ]
  },
  {
   "cell_type": "markdown",
   "metadata": {},
   "source": [
    "One More Method to print two different Sentences/Strings on different lines or give some "
   ]
  },
  {
   "cell_type": "code",
   "execution_count": null,
   "metadata": {},
   "outputs": [],
   "source": [
    "print('Hello World\\n I am Tom')\n",
    "print('Hello\\t World')"
   ]
  },
  {
   "cell_type": "markdown",
   "metadata": {},
   "source": [
    "### <center>Done For The Day</center>\n",
    "<img src= 'images/congo.jpg'>\n",
    "\n",
    "#### Summary"
   ]
  },
  {
   "cell_type": "markdown",
   "metadata": {},
   "source": [
    "<li>We have seen what are variables and how to define it.</li>\n",
    "\n",
    "<li>We have seen few data types:</li>\n",
    "\n",
    "<ul><li>Integers</li>\n",
    "\n",
    "<li>Floats</li>\n",
    "\n",
    "<li>Strings</li></ul>\n",
    "\n",
    "<li>And different types of operations on these data types.</li>\n",
    "\n",
    "<li>We also seen some cool stuff with strings(i.e - string formatting.)</li>"
   ]
  }
 ],
 "metadata": {
  "kernelspec": {
   "display_name": "Python 3",
   "language": "python",
   "name": "python3"
  },
  "language_info": {
   "codemirror_mode": {
    "name": "ipython",
    "version": 3
   },
   "file_extension": ".py",
   "mimetype": "text/x-python",
   "name": "python",
   "nbconvert_exporter": "python",
   "pygments_lexer": "ipython3",
   "version": "3.6.7"
  }
 },
 "nbformat": 4,
 "nbformat_minor": 2
}
