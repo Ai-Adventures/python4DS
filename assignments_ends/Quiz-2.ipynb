{
 "cells": [
  {
   "cell_type": "markdown",
   "metadata": {},
   "source": [
    "<img src='../images/logo_full.png'/>\n",
    "\n",
    "## <p style=\"text-align: center;\"> Python for Data Science </p>\n",
    "The course is offered by [Ai Adventures](https://aiadventures.in). The notebooks are created by [Pranav Uikey](https://twitter.com/Pranav_Uikey_) and [Ankur Singh](https://twitter.com/I_ankursingh). This material is subject to the terms and conditions of the [Creative Commons CC BY-NC-SA 4.0](https://creativecommons.org/licenses/by-nc-sa/4.0/) license. Any use for commercial purpose is strictly prohibited."
   ]
  },
  {
   "cell_type": "markdown",
   "metadata": {},
   "source": [
    "## <center>Quiz-2: Flow Control</center>\n",
    "\n",
    "Prior to working on the quiz, you'd better check out the corresponding course material:\n",
    "\n",
    "- [Decision Making](https://nbviewer.jupyter.org/github/Ai-Adventures/python4DS/blob/master/Flow%20Control.ipynb), make programs decide which instructions to execute so your code can intelligently respond to different conditions.\n",
    "- [Loops](https://nbviewer.jupyter.org/github/Ai-Adventures/python4DS/blob/master/Loops.ipynb),  run the same piece of code again & again.\n",
    "\n",
    "We suggest that you first read the articles (quiz questions are based on them), if something is not clear - ask us in the class.\n",
    "\n",
    "**Your task is:**\n",
    "1. Study the material\n",
    "2. Write the code required\n",
    "3. Submit your answers, [webform](https://forms.gle/yS33gkXcjzGSoTxt8)\n",
    "\n",
    "Solutions will be discussed in the class. You can get up to **10 credits**, max.\n",
    "___"
   ]
  },
  {
   "cell_type": "markdown",
   "metadata": {},
   "source": [
    "## Part-1. Decision Making"
   ]
  },
  {
   "cell_type": "markdown",
   "metadata": {},
   "source": [
    "##### <span style = 'color:red'>Question 1</span>. what do each of the following expression evaluate to?\n",
    "```python\n",
    ">>> (5 > 4) and (3 == 5) # expression  1\n",
    ">>> not (5 > 4)          # expression 2\n",
    ">>> (5 < 4) or (3 == 5)  # expression 3\n",
    ">>> not ((5 > 4) or (3 == 5))           # expression 4 \n",
    ">>> (True and True) and (True == False) # expression 5 \n",
    ">>> (not False) and (not True)           # expression 6\n",
    "```\n",
    "`and` all the outputs from above expression and select\n",
    "\n",
    "1. True\n",
    "2. False"
   ]
  },
  {
   "cell_type": "markdown",
   "metadata": {},
   "source": [
    "##### <span style = 'color:red'>Question 2</span>. Select the correct output?\n",
    "```python\n",
    ">>> spam = 7\n",
    ">>> if spam <= 10:\n",
    ">>>     print('eggs')\n",
    ">>>     if spam > 5:\n",
    ">>>         print('bacon')\n",
    ">>>     else:\n",
    ">>>         print('ham')\n",
    ">>>     print('spam')\n",
    ">>> print('spam')\n",
    "```\n",
    "1. eggs bacon spam spam\n",
    "2. eggs bacon bacon bacon\n",
    "3. bacon ham spam \n",
    "4. ham spam spam"
   ]
  },
  {
   "cell_type": "markdown",
   "metadata": {},
   "source": [
    "##### <span style = 'color:red'>Question 3</span>. The `if...elif...else` executes only one block of code among several blocks.\n",
    "1. True\n",
    "2. False"
   ]
  },
  {
   "cell_type": "markdown",
   "metadata": {},
   "source": [
    "##### <span style = 'color:red'>Question 4</span>. What do this piece of code do?\n",
    "consider any value for `ram`,`sham` and `raju`\n",
    "\n",
    "```python\n",
    ">>> avg = (ram + sham + raju)/3\n",
    ">>> if avg < ram:\n",
    ">>>       print(True)\n",
    ">>> else:\n",
    ">>>       print(False)\n",
    "```\n",
    "\n",
    "1. Prints *True* if *ram* is smaller than average\n",
    "2. Prints *True* if *ram* is greater than average\n",
    "3. Prints *False* if *ram* is greater than average\n",
    "4. Prints *True* every time"
   ]
  },
  {
   "cell_type": "markdown",
   "metadata": {},
   "source": [
    "##### <span style = 'color:red'>Question 5</span>. What do you think will be the shipping cost?\n",
    "```python\n",
    ">>> total = 200\n",
    ">>> country = \"AU\"\n",
    ">>> country = \"IN\"\n",
    ">>> \n",
    ">>> if country == \"IN\":\n",
    ">>>     if total <= 50:\n",
    ">>>         print(\"Shipping Cost is 50\")\n",
    ">>>     elif total <= 100:\n",
    ">>>             print(\"Shipping Cost is 25\")\n",
    ">>>     elif total <= 150:\n",
    ">>>             print(\"Shipping Costs 5\")\n",
    ">>>     else:\n",
    ">>>             print(\"FREE\")\n",
    ">>> \n",
    ">>> if country == \"AU\": \n",
    ">>>     if total <= 50:\n",
    ">>>            print(\"Shipping Cost is 100\")\n",
    ">>>     else:\n",
    ">>>           print(\"FREE\")\n",
    "```\n",
    "\n",
    "1. 100\n",
    "2. 50\n",
    "3. 5\n",
    "4. Free"
   ]
  },
  {
   "cell_type": "markdown",
   "metadata": {},
   "source": [
    "## Part-2. Loops\n",
    "\n",
    "Now since your know both Loops & Decision Making. You should learn to use them together. Combining them will allow you to write more powerful programs"
   ]
  },
  {
   "cell_type": "markdown",
   "metadata": {},
   "source": [
    "##### <span style = 'color:red'>Question 6</span>. How many times will the loop run before it terminates?\n",
    "\n",
    "```python\n",
    ">>> a = 0\n",
    ">>> while a <= 10 :\n",
    ">>>    print(a)\n",
    "```\n",
    "\n",
    "1. 9 times\n",
    "2. 10 times\n",
    "3. 11 times\n",
    "4. Infinite times"
   ]
  },
  {
   "cell_type": "markdown",
   "metadata": {},
   "source": [
    "##### <span style = 'color:red'>Question 7</span>. `range()` function generates a number sequence. \n",
    "\n",
    "What will be the largest numbers in the sequence generated by `range(2, 17, 3)`?\n",
    "\n",
    "1. 13\n",
    "2. 14\n",
    "3. 15\n",
    "4. 17"
   ]
  },
  {
   "cell_type": "markdown",
   "metadata": {},
   "source": [
    "##### <span style = 'color:red'>Question 8</span>. Guess the output?\n",
    "```python\n",
    ">>> for i in range(4):\n",
    ">>>      print(i)\n",
    "```\n",
    "\n",
    "1. numbers from 0-4\n",
    "2. numbers from 0-3\n",
    "3. number 4\n",
    "4. any 4 random numbers"
   ]
  },
  {
   "cell_type": "markdown",
   "metadata": {},
   "source": [
    "##### <span style = 'color:red'>Question 9</span>. How many times will the loop run before it terminates?\n",
    "\n",
    "```python\n",
    ">>> a = 0\n",
    ">>> while a <= 0 :\n",
    ">>>    print(a)\n",
    ">>>    a = a + 1\n",
    "```\n",
    "\n",
    "1. 0 times\n",
    "2. 1 times\n",
    "3. 2 times\n",
    "4. Infinite times"
   ]
  },
  {
   "cell_type": "markdown",
   "metadata": {},
   "source": [
    "##### <span style = 'color:red'>Question 10</span>. According to you, which loop is more powerful?\n",
    "\n",
    "1. `for` loop\n",
    "2. `while` loop\n",
    "3. Both are Equally powerful"
   ]
  }
 ],
 "metadata": {
  "kernelspec": {
   "display_name": "Python 3",
   "language": "python",
   "name": "python3"
  },
  "language_info": {
   "codemirror_mode": {
    "name": "ipython",
    "version": 3
   },
   "file_extension": ".py",
   "mimetype": "text/x-python",
   "name": "python",
   "nbconvert_exporter": "python",
   "pygments_lexer": "ipython3",
   "version": "3.7.4"
  }
 },
 "nbformat": 4,
 "nbformat_minor": 4
}
