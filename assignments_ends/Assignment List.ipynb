{
 "cells": [
  {
   "cell_type": "markdown",
   "metadata": {},
   "source": [
    "![](images/ailogo.png)\n",
    "\n",
    "The course is offered by Ai Adventures. The notebooks are created by Pranav Uikey and Ankur Singh. This material is subject to the terms and conditions of the [Creative Commons CC BY-NC-SA 4.0](https://creativecommons.org/licenses/by-nc-sa/4.0/) license. Any use for commercial purpose is strictly prohibited.\n",
    "\n",
    "Prior to working on the assignment, you'd better check out the corresponding course material:\n",
    "\n",
    "List and its Operations \n",
    "\n",
    "We suggest that you first read the articles (quiz questions are based on them), if something is not clear - ask us in the class.\n",
    "\n",
    "##### Your task is:\n",
    "\n",
    "    1) Study the material\n",
    "\n",
    "    2) Write the code required\n",
    "\n",
    "    3) Submit your answers, webform\n",
    "\n",
    "\n",
    "Deadline for quize: 5th November 2019, 23:00 (IST)\n",
    "\n",
    "Solutions will be discussed in the class on 6th November, 2019. You can get up to 10 credits, max."
   ]
  },
  {
   "cell_type": "markdown",
   "metadata": {},
   "source": [
    "#### Task 1) Create a list which will contain numbers between (0,10) and save that list in a variable named numbers."
   ]
  },
  {
   "cell_type": "code",
   "execution_count": 1,
   "metadata": {},
   "outputs": [],
   "source": [
    "###  write your code here"
   ]
  },
  {
   "cell_type": "markdown",
   "metadata": {},
   "source": [
    "#### Question 1) Use list created above and generate an output  which will contain list of  even numbers .What will be the length of the generated list?\n",
    "    a) 4\n",
    "    b) 6\n",
    "    c) 5\n",
    "    d) 10"
   ]
  },
  {
   "cell_type": "code",
   "execution_count": 4,
   "metadata": {},
   "outputs": [],
   "source": [
    "#### write your code here"
   ]
  },
  {
   "cell_type": "markdown",
   "metadata": {},
   "source": [
    "#### Question 2) Does the list generated in Q1 contains 6?\n",
    "    a) True\n",
    "    b) False"
   ]
  },
  {
   "cell_type": "code",
   "execution_count": 5,
   "metadata": {},
   "outputs": [],
   "source": [
    "#### write your code here"
   ]
  },
  {
   "cell_type": "markdown",
   "metadata": {},
   "source": [
    "#### Question 3)What will following code will generate `print(range(15)))`\n",
    "    a) list containing numbers between(1,15)\n",
    "    b) range(0,15)\n",
    "    c) list containing numbers between (0,15)\n",
    "    d) None of The Above"
   ]
  },
  {
   "cell_type": "code",
   "execution_count": null,
   "metadata": {},
   "outputs": [],
   "source": [
    "#### write your code here"
   ]
  },
  {
   "cell_type": "markdown",
   "metadata": {},
   "source": [
    "#### Question 4) Write a Python program to remove prime numbers from a list .How many elements in that list are remaining ?\n",
    "**Use list gereated in  Task 1**\n",
    "\n",
    "    a) 5\n",
    "    b) 6\n",
    "    c) 7\n",
    "    d) 8"
   ]
  },
  {
   "cell_type": "code",
   "execution_count": 6,
   "metadata": {},
   "outputs": [],
   "source": [
    "#### write your code here"
   ]
  },
  {
   "cell_type": "markdown",
   "metadata": {},
   "source": [
    "#### Question 5) Write a Python program to generate and print a list of first and last 5 elements where the values are square of numbers between 1 and 30 (both included).Which of the following is true?\n",
    "\n",
    "    a) Slicing will work here.\n",
    "    b) Loops will work here.\n",
    "    c) If statements will work here.\n",
    "    d) All of the above is True."
   ]
  },
  {
   "cell_type": "code",
   "execution_count": 7,
   "metadata": {},
   "outputs": [],
   "source": [
    "#### write your code here"
   ]
  },
  {
   "cell_type": "markdown",
   "metadata": {},
   "source": [
    "#### Question 6) Write a Python program to remove all word starting from 's' in the list? \n",
    "**Use list seq = ['soup','dog','salad','cat','great']. Which of the folllowing is true?**\n",
    "    \n",
    "    a) Loops will work here.\n",
    "    b) Slicing will work here.\n",
    "    c) If Statements will work here.\n",
    "    d) All of the following."
   ]
  },
  {
   "cell_type": "code",
   "execution_count": 9,
   "metadata": {},
   "outputs": [],
   "source": [
    "#### Write your code here"
   ]
  },
  {
   "cell_type": "markdown",
   "metadata": {},
   "source": [
    "#### Question 7) Write a Python Program to find second largest number in the list.  What will you use here ?\n",
    "**Use list `numbers = [2,-1,0,76,8,23]`**\n",
    "\n",
    "    a) Loops\n",
    "    b) if-else statements\n",
    "    c) List Methods \n",
    "    d) Slicing"
   ]
  },
  {
   "cell_type": "code",
   "execution_count": 10,
   "metadata": {},
   "outputs": [],
   "source": [
    "#### Write your code here"
   ]
  },
  {
   "cell_type": "markdown",
   "metadata": {},
   "source": [
    "#### Question 8) Use a list given below `names`  and create a new list which will only those names which have `a` in there name.What will be the length of new created list ?\n",
    "  \n",
    "`names = ['Amir', 'Berry', 'Chales', 'Dao', 'Jay','Mona','Leo']`\n",
    "\n",
    "    a) 4\n",
    "    b) 5\n",
    "    c) 6\n",
    "    d) 7\n",
    "    "
   ]
  },
  {
   "cell_type": "markdown",
   "metadata": {},
   "source": [
    "#### Task 2) Use a list given below  as `names1` and copy it to two more list `names2` and `names3`  respectively. Replace 1st element(0 index) of `names2`  with `Alice` and second element(1 index) with `Bob`.  \n",
    "\n",
    "#### Question 9)  What you have to do is go through each list (i.e-names1,names2,names3) and check if 'Alice' or 'Bob' is present in the list if 'Alice' is present in one of the list then increment sum variable by 1 if 'Bob' is present increment sum by 10\n",
    "\n",
    "`names1 = ['Amir', 'Barry', 'Chales', 'Dao']`\n",
    "\n",
    "\n",
    "    a) 11\n",
    "    b) 12\n",
    "    c) 21\n",
    "    d) 22"
   ]
  },
  {
   "cell_type": "markdown",
   "metadata": {},
   "source": [
    "#### Question 10) What will be the index of  'Chales' in names2 ?\n",
    "\n",
    "`names2 = ['Amir', 'Barry', 'Chales', 'Dao']`\n",
    "\n",
    "    a) 1\n",
    "    b) 2\n",
    "    c) 3\n",
    "    d) 4"
   ]
  }
 ],
 "metadata": {
  "kernelspec": {
   "display_name": "Python 3",
   "language": "python",
   "name": "python3"
  },
  "language_info": {
   "codemirror_mode": {
    "name": "ipython",
    "version": 3
   },
   "file_extension": ".py",
   "mimetype": "text/x-python",
   "name": "python",
   "nbconvert_exporter": "python",
   "pygments_lexer": "ipython3",
   "version": "3.6.9"
  }
 },
 "nbformat": 4,
 "nbformat_minor": 4
}
