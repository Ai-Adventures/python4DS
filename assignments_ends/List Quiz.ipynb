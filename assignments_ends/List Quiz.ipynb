{
 "cells": [
  {
   "cell_type": "markdown",
   "metadata": {},
   "source": [
    "![](images/ailogo.png)\n",
    "\n",
    "The course is offered by Ai Adventures. The notebooks are created by Pranav Uikey and Ankur Singh. This material is subject to the terms and conditions of the [Creative Commons CC BY-NC-SA 4.0](https://creativecommons.org/licenses/by-nc-sa/4.0/) license. Any use for commercial purpose is strictly prohibited.\n",
    "\n",
    "Prior to working on the assignment, you'd better check out the corresponding course material:\n",
    "\n",
    "List and its Operations \n",
    "\n",
    "We suggest that you first read the articles (quiz questions are based on them), if something is not clear - ask us in the class.\n",
    "\n",
    "##### Your task is:\n",
    "\n",
    "    1) Study the material\n",
    "\n",
    "    2) Write the code required\n",
    "\n",
    "    3) Submit your answers, webform\n",
    "\n",
    "\n",
    "Deadline for quize: 5th November 2019, 23:00 (IST)\n",
    "\n",
    "Solutions will be discussed in the class on 6th November, 2019. You can get up to 10 credits, max."
   ]
  },
  {
   "cell_type": "markdown",
   "metadata": {},
   "source": [
    "#### Question 1  How would you assign the value 'hello' as the third value in a list stored in a variable named spam? (spam = [2,4,6,8,10])\n",
    "Write the required code in the cell given below"
   ]
  },
  {
   "cell_type": "code",
   "execution_count": null,
   "metadata": {},
   "outputs": [],
   "source": []
  },
  {
   "cell_type": "markdown",
   "metadata": {},
   "source": [
    "For the following three questions, let’s say spam contains the list **['a','b','c','d']**"
   ]
  },
  {
   "cell_type": "markdown",
   "metadata": {},
   "source": [
    "#### Question 2 What does spam[int('3' * 2) / 11] evaluate to?\n",
    "\n",
    "    a) d\n",
    "    b) a\n",
    "    c) c\n",
    "    d) b"
   ]
  },
  {
   "cell_type": "markdown",
   "metadata": {},
   "source": [
    "#### Question 3  What does spam[-1] evaluate to?\n",
    "    a) a\n",
    "    b) b\n",
    "    c) c\n",
    "    d) d"
   ]
  },
  {
   "cell_type": "markdown",
   "metadata": {},
   "source": [
    "#### Question 4  What does spam[:2] evaluate to?\n",
    "    a) 'b'\n",
    "    b) 'c'\n",
    "    c) ['a','b']\n",
    "    d) 'a','b'"
   ]
  },
  {
   "cell_type": "markdown",
   "metadata": {},
   "source": [
    "For the following three questions, let’s say bacon contains the list [3.14, 'cat', 11, 'cat', True].(i.e - **bacon = [3.14,'cat',11,'cat',True]**)"
   ]
  },
  {
   "cell_type": "markdown",
   "metadata": {},
   "source": [
    "#### Question 5 What does bacon.append(99) will give us as output ?\n",
    "    a) [99,3.14,'cat',11,'cat',True]\n",
    "    b) [3.14,'cat',11,'cat',True,99]\n",
    "    c) [3.14,'cat',11,'cat',99]\n",
    "    d) [3.14,'cat',11,'cat',True]"
   ]
  },
  {
   "cell_type": "markdown",
   "metadata": {},
   "source": [
    "#### Question 6 What does bacon.remove('cat') will give us output?\n",
    "    a) [3.14,'cat',11,True]\n",
    "    b) [3.14,11,True]\n",
    "    c) [3.14,11,'cat',True]\n",
    "    d) [3.14,'cat',11,'cat',True]"
   ]
  },
  {
   "cell_type": "markdown",
   "metadata": {},
   "source": [
    "#### Question 7 What will happen if we concatenate bacon list with itself ?\n",
    "    a) [3.14,3.14,'cat','cat',11,11,'cat','cat','True',True]\n",
    "    b) [3.14,'cat',11,'cat',True,3.14,'cat',11,'cat',True]"
   ]
  },
  {
   "cell_type": "markdown",
   "metadata": {},
   "source": [
    "Use animals = (['Cat','Dog','Cow'],['Lion','Zebra','Giraffe']) for next 1 question.\n",
    "#### Question 8 What will be the output of animals[0][1]\n",
    "    a) ['Dog']\n",
    "    b) ['Cat','Dog']\n",
    "    c) 'Dog'\n",
    "    d) (['Dog'])"
   ]
  },
  {
   "cell_type": "markdown",
   "metadata": {},
   "source": [
    "#### Question 9 What will be the output of the following animals.append('Rabbit')\n",
    "    a) (['Cat','Dog','Cow'],['Lion','Zebra','Giraffe'],'Rabbit')\n",
    "    b) (['Cat','Dog','Cow'],['Lion','Zebra','Giraffe','Rabbit'])\n",
    "    c) (['Cat','Dog','Cow','Rabbit'],['Lion','Zebra','Giraffe'])\n",
    "    d) None of the above"
   ]
  },
  {
   "cell_type": "markdown",
   "metadata": {},
   "source": []
  },
  {
   "cell_type": "code",
   "execution_count": null,
   "metadata": {},
   "outputs": [],
   "source": []
  }
 ],
 "metadata": {
  "kernelspec": {
   "display_name": "Python 3",
   "language": "python",
   "name": "python3"
  },
  "language_info": {
   "codemirror_mode": {
    "name": "ipython",
    "version": 3
   },
   "file_extension": ".py",
   "mimetype": "text/x-python",
   "name": "python",
   "nbconvert_exporter": "python",
   "pygments_lexer": "ipython3",
   "version": "3.6.9"
  }
 },
 "nbformat": 4,
 "nbformat_minor": 4
}
