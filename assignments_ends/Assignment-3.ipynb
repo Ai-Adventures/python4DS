{
 "cells": [
  {
   "cell_type": "markdown",
   "metadata": {},
   "source": [
    "<img src='../images/logo_full.png'/>\n",
    "\n",
    "## <p style=\"text-align: center;\"> Python for Data Science </p>\n",
    "The course is offered by [Ai Adventures](www.aiadventures.in). The notebooks are created by [Pranav Uikey]() and [Ankur Singh](). This material is subject to the terms and conditions of the [Creative Commons CC BY-NC-SA 4.0](https://creativecommons.org/licenses/by-nc-sa/4.0/) license. Any use for commercial purpose is strictly prohibited."
   ]
  },
  {
   "cell_type": "markdown",
   "metadata": {},
   "source": [
    "## <center>Assignment-3: List & Dictionary</center>\n",
    "\n",
    "Prior to working on the assignment, you'd better check out the corresponding course material:\n",
    "\n",
    "- [List](https://nbviewer.jupyter.org/github/Ai-Adventures/python4DS/blob/master/List.ipynb),  how to organize data.\n",
    "- [Dictionary](https://nbviewer.jupyter.org/github/Ai-Adventures/python4DS/blob/master/Dictionary.ipynb), some more powerful ways to organize data.\n",
    "\n",
    "We suggest that you first read the articles (quiz questions are based on them), if something is not clear - ask us in the class.\n",
    "\n",
    "**Your task is:**\n",
    "1. Study the material\n",
    "2. Write the code required\n",
    "3. Submit your answers, [webform](https://forms.gle/fZmbDEZAfwUgsQq47)\n",
    "\n",
    "**Deadline for assignment: 17th November 2019, 09:59 AM (IST)**\n",
    "\n",
    "Solutions will be discussed in the class on **17th November, 2019**. You can get up to **10 credits**, max.\n",
    "___"
   ]
  },
  {
   "cell_type": "markdown",
   "metadata": {},
   "source": [
    "## Part-1. List"
   ]
  },
  {
   "cell_type": "markdown",
   "metadata": {},
   "source": [
    "### Task-1\n",
    "Create a list which will contain numbers between (0,10) and save that list in a variable named `numbers`."
   ]
  },
  {
   "cell_type": "code",
   "execution_count": 1,
   "metadata": {},
   "outputs": [],
   "source": [
    "###  write your code here"
   ]
  },
  {
   "cell_type": "markdown",
   "metadata": {},
   "source": [
    "##### <span style = 'color:red'>Question 1</span>. Use list created above and generate an output  which will contain list of  even numbers .What will be the length of the generated list?\n",
    "    a) 4\n",
    "    b) 6\n",
    "    c) 5\n",
    "    d) 10"
   ]
  },
  {
   "cell_type": "markdown",
   "metadata": {},
   "source": [
    "##### <span style = 'color:red'>Question 2</span>. Does the list generated in Question1 contains 6?\n",
    "    a) True\n",
    "    b) False"
   ]
  },
  {
   "cell_type": "markdown",
   "metadata": {},
   "source": [
    "##### <span style = 'color:red'>Question 3</span>. What will following code will generate \n",
    "```python \n",
    ">>> print(range(15))\n",
    "```\n",
    "    a) list containing numbers between(1,15)\n",
    "    b) range(0,15)\n",
    "    c) list containing numbers between (0,15)\n",
    "    d) None of The Above"
   ]
  },
  {
   "cell_type": "markdown",
   "metadata": {},
   "source": [
    "##### <span style = 'color:red'>Question 4</span>. Write a Python program to remove prime numbers from a list .How many elements in that list are remaining ?\n",
    "**Use list gereated in  Task-1**\n",
    "\n",
    "    a) 5\n",
    "    b) 6\n",
    "    c) 7\n",
    "    d) 8"
   ]
  },
  {
   "cell_type": "markdown",
   "metadata": {},
   "source": [
    "##### <span style = 'color:red'>Question 5</span>. Write a Python program to generate and print a list of first 5 and last 5 elements where the values are square of numbers between 1 and 30 (both included).Which of the following is true?\n",
    "\n",
    "    a) Slicing will work here.\n",
    "    b) Loops will work here.\n",
    "    c) If statements will work here.\n",
    "    d) All of the above is True."
   ]
  },
  {
   "cell_type": "markdown",
   "metadata": {},
   "source": [
    "##### <span style = 'color:red'>Question 6</span>. Write a Python program to remove all word starting from 's' in the list? \n",
    "**Use list seq = ['soup','dog','salad','cat','great']. Which of the folllowing is true?**\n",
    "    \n",
    "    a) Loops will work here.\n",
    "    b) Slicing will work here.\n",
    "    c) If Statements will work here.\n",
    "    d) All of the following."
   ]
  },
  {
   "cell_type": "markdown",
   "metadata": {},
   "source": [
    "##### <span style = 'color:red'>Question 7</span>. Write a Python Program to find second largest number in the list.  What will you use here ?\n",
    "**Use list `numbers = [2,-1,0,76,8,23]`**\n",
    "\n",
    "    a) Loops\n",
    "    b) if-else statements\n",
    "    c) List Methods \n",
    "    d) Slicing"
   ]
  },
  {
   "cell_type": "markdown",
   "metadata": {},
   "source": [
    "##### <span style = 'color:red'>Question 8</span>. Use a list given below `names`  and create a new list which will only those names which have `a` in there name.What will be the length of new created list ?\n",
    "  \n",
    "`names = ['Amir', 'Berry', 'Chales', 'Dao', 'Jay','Mona','Leo']`\n",
    "\n",
    "    a) 4\n",
    "    b) 5\n",
    "    c) 6\n",
    "    d) 7\n",
    "    "
   ]
  },
  {
   "cell_type": "markdown",
   "metadata": {},
   "source": [
    "### Task-2\n",
    "Use a list given below  as `names1` and copy it to two more list `names2` and `names3`  respectively. Replace 1st element(0 index) of `names2`  with `Alice` and second element(1 index) with `Bob`.  "
   ]
  },
  {
   "cell_type": "code",
   "execution_count": 1,
   "metadata": {},
   "outputs": [],
   "source": [
    "## your code here"
   ]
  },
  {
   "cell_type": "markdown",
   "metadata": {},
   "source": [
    "##### <span style = 'color:red'>Question 9</span>. Go through each list (i.e-names1,names2,names3) and check if 'Alice' or 'Bob' is present in the list. If 'Alice' is present in the list then increment sum variable by 1 and if 'Bob' is present increment sum by 10. What will be the total sum ?\n",
    "```python \n",
    ">>> names1 = ['Amir', 'Barry', 'Chales', 'Dao']\n",
    "```\n",
    "    a) 11\n",
    "    b) 12\n",
    "    c) 21\n",
    "    d) 22"
   ]
  },
  {
   "cell_type": "markdown",
   "metadata": {},
   "source": [
    "##### <span style = 'color:red'>Question 10</span>. What will be the index of  'Chales' in names2 ?\n",
    "```python \n",
    ">>> names2 = ['Amir', 'Barry', 'Chales', 'Dao']\n",
    "```\n",
    "    a) 1\n",
    "    b) 2\n",
    "    c) 3\n",
    "    d) 4"
   ]
  },
  {
   "cell_type": "markdown",
   "metadata": {},
   "source": [
    "## Part-2. Dictionaries"
   ]
  },
  {
   "cell_type": "markdown",
   "metadata": {},
   "source": [
    "##### <span style = 'color:red'>Question 11</span>. What will be the syntax to add a new key into `d`\n",
    "```python\n",
    ">>> d =  {0: 10, 1: 20}   \n",
    "```\n",
    "    a) d{2:30}\n",
    "    b) d[2] = 30\n",
    "    c) d{2=30}\n",
    "    d) d{2}=30"
   ]
  },
  {
   "cell_type": "markdown",
   "metadata": {},
   "source": [
    "##### <span style = 'color:red'>Question 12</span>. Write a Python program to iterate over dictionary `d` given in <span style = 'color:red'>Question 11</span> using *for* loop. What did you get in the output ?\n",
    "    \n",
    "    a) A list of keys.\n",
    "    b) A list of values.\n",
    "    c) keys one below the others.\n",
    "    d) values one below the others."
   ]
  },
  {
   "cell_type": "markdown",
   "metadata": {},
   "source": [
    "##### <span style = 'color:red'>Question 13</span>. The output should be a list of all the keys from  the dictionary `d` in <span style = 'color:red'>Question 11</span> .Which one of the following will be best option?\n",
    "    \n",
    "    a) for/while loops.\n",
    "    b) only one loop(while/for). \n",
    "    c) dictionary built in functions/methods.\n",
    "    d) list built in functions/methods."
   ]
  },
  {
   "cell_type": "markdown",
   "metadata": {},
   "source": [
    "### Task-3\n",
    "Create a new dictionary called 'prices' using {} format  and put values into the dicionary given below: \n",
    "\n",
    "\"banana\" ->  4, \"apple\" ->  2, \"orange\" -> 1.5, \"pear\" -> 3\n",
    "\n"
   ]
  },
  {
   "cell_type": "markdown",
   "metadata": {},
   "source": [
    "##### <span style = 'color:red'>Question 14</span>. Sort the dictionary created in Task 2  using `sorted()` what data type did you get in the output?    \n",
    "    \n",
    "    a) Sorted List of key value pair.\n",
    "    b) Sorted List of values.\n",
    "    c) Sorted List of keys.\n",
    "    d) Will Throw an error"
   ]
  },
  {
   "cell_type": "markdown",
   "metadata": {},
   "source": [
    "##### <span style = 'color:red'>Question 15</span>.  Given a list you have to create a dictionary named 'counter' in which key will be the element in the list and value will be the count of that element. \n",
    "\n",
    "Given list is :\n",
    "\n",
    "`bag = ['gold coin', 'dagger', 'gold coin', 'gold coin', 'ruby','gold_coin', 'dagger', 'gold coin', 'gold coin','ruby','gold coin', 'dagger', 'gold coin', 'gold coin', 'ruby','gold coin', 'dagger', 'gold coin', 'gold_coin', 'ruby']`\n",
    "\n",
    "What will be the minimum value of a key in the new dictionary ?\n",
    "\n",
    "    a) 2\n",
    "    b) 3\n",
    "    c) 4\n",
    "    d) 20"
   ]
  },
  {
   "cell_type": "markdown",
   "metadata": {},
   "source": [
    "##### <span style = 'color:red'>Question 16</span>. Iterate a given list`counts` and Check if a given element already exists in a dictionary  as a key’s value if not delete it from the list `counts`\n",
    "\n",
    "Given : `counts = [7, 6, 9, 3, 4, 8, 9, 10]`\n",
    "\n",
    "Use Dictionary created in <span style = 'color:red'>Question 15</span> \n",
    "\n",
    "What will be the updated list's length?\n",
    "    \n",
    "    a) 4\n",
    "    b) 5\n",
    "    c) 6\n",
    "    d) 7"
   ]
  }
 ],
 "metadata": {
  "kernelspec": {
   "display_name": "Python 3",
   "language": "python",
   "name": "python3"
  },
  "language_info": {
   "codemirror_mode": {
    "name": "ipython",
    "version": 3
   },
   "file_extension": ".py",
   "mimetype": "text/x-python",
   "name": "python",
   "nbconvert_exporter": "python",
   "pygments_lexer": "ipython3",
   "version": "3.6.7"
  }
 },
 "nbformat": 4,
 "nbformat_minor": 4
}
