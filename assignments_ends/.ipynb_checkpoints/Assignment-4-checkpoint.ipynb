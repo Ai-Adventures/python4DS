{
 "cells": [
  {
   "cell_type": "markdown",
   "metadata": {},
   "source": [
    "<img src='../images/logo_full.png'/>\n",
    "\n",
    "## <p style=\"text-align: center;\"> Python for Data Science </p>\n",
    "The course is offered by [Ai Adventures](www.aiadventures.in). The notebooks are created by [Pranav Uikey]() and [Ankur Singh](). This material is subject to the terms and conditions of the [Creative Commons CC BY-NC-SA 4.0](https://creativecommons.org/licenses/by-nc-sa/4.0/) license. Any use for commercial purpose is strictly prohibited."
   ]
  },
  {
   "cell_type": "markdown",
   "metadata": {},
   "source": [
    "## <center>Assignment-4: Functions</center>\n",
    "\n",
    "Prior to working on the assignment, you'd better check out the corresponding course material:\n",
    "\n",
    "- [Functions](https://nbviewer.jupyter.org/github/Ai-Adventures/python4DS/blob/master/Functions.ipynb),  define your own functions so that you can organize your code into more manageable chunks.\n",
    "\n",
    "We suggest that you first read the articles (quiz questions are based on them), if something is not clear - ask us in the class.\n",
    "\n",
    "**Your task is:**\n",
    "1. Study the material\n",
    "2. Write the code required\n",
    "3. Submit your answers, [webform]()\n",
    "\n",
    "**Deadline for quize: 7th November 2019, 23:00 (IST)**\n",
    "\n",
    "Solutions will be discussed in the class on **8th November, 2019**. You can get up to **10 credits**, max.\n",
    "___"
   ]
  },
  {
   "cell_type": "markdown",
   "metadata": {},
   "source": [
    "##### Question 1. Write a python Function named `counter()` which will find all such numbers which are divisible by 7 between 1 and 100 (both included). How many numbers are there in the list?\n",
    "\n",
    "1. 5\n",
    "2. 14\n",
    "3. 15\n",
    "4. 21"
   ]
  },
  {
   "cell_type": "markdown",
   "metadata": {},
   "source": [
    "##### Question 2. Create a Function  which will return a list of Only even numbers and multiples of 7 between 2000 and 3200 (both included) .How many numbers are there in the list?\n",
    "\n",
    "1. 54\n",
    "2. 80\n",
    "3. 67\n",
    "4. 86"
   ]
  },
  {
   "cell_type": "markdown",
   "metadata": {},
   "source": [
    "### Task-1 \n",
    "Write a function named `collatz()` that has one parameter named number.\n",
    "\n",
    "(a) If number is even, then `collatz()` should print number // 2 and return this value.\n",
    "\n",
    "(b) If number is odd, then `collatz()` should print and return 3 * number + 1.\n",
    "\n",
    "Then write a function that lets the user type in an integer and that keeps calling `collatz()` on that number until the function returns the value 1.\n",
    "(Amazingly enough, this sequence actually works for any integer—sooner or later, using this sequence, you’ll arrive at 1! Even mathematicians aren’t sure why. Your program is exploring what’s called the Collatz sequence, sometimes called “the simplest impossible math problem.”)\n",
    "\n",
    "**Hint:** An integer number is even if `number % 2 == 0`, and it’s odd if `number % 2 == 1`.\n",
    "\n",
    "Sample Output : for `collatz(3)`\n",
    "\n",
    "3\n",
    "10\n",
    "5\n",
    "16\n",
    "8\n",
    "4\n",
    "2\n",
    "1\n",
    "\n",
    "**Note:** Next two question are based on *Task-1*"
   ]
  },
  {
   "cell_type": "markdown",
   "metadata": {},
   "source": [
    "##### Question 3. How many time will the function will run if we pass 10 as parameter.\n",
    "    \n",
    "1. 5\n",
    "2. 6\n",
    "3. 7 \n",
    "4. 8"
   ]
  },
  {
   "cell_type": "markdown",
   "metadata": {},
   "source": [
    "##### Question 4. What are the minimum number of loops required here ? \n",
    "1. 0\n",
    "2. 1\n",
    "3. 2\n",
    "4. 3\n"
   ]
  },
  {
   "cell_type": "markdown",
   "metadata": {},
   "source": [
    "##### Question 5. Write a function named `area()`  which will take one parameter of named `l`.`l` will be a list of radius of 5 circles and generate an output of those 5 circles area. \n",
    "\n",
    "Given list  `l =  [3, 6.5, 10, 7, 5.5]`. \n",
    "\n",
    "What will be the corresponding circle's area ?\n",
    "\n",
    "1. 9, 42.25, 100, 49, 30.25\n",
    "2. 9.42, 20.41, 31.42, 21.98, 17.27\n",
    "3. 18.84, 40.82,62.84,25.12,34.34\n",
    "4. 28.26, 132.66, 314, 153.86, 94.98"
   ]
  },
  {
   "cell_type": "markdown",
   "metadata": {},
   "source": [
    "### Task-2\n",
    "- First, create a function named `cube()` that takes an argument called `number`.\n",
    "\n",
    "    Make that function return the cube of that number (i.e. that number multiplied by itself and multiplied by itself once again).\n",
    "\n",
    "- Create a second function named `by_three()` that takes an argument called `number`.\n",
    "\n",
    "    If that number is divisible by 3,`by_three()` should call `cube(number)` and return its result. Otherwise, `by_three()` should return `False`. -Check if it works.\n",
    "\n",
    "**Note:** Next two question are based on *Task-2*"
   ]
  },
  {
   "cell_type": "markdown",
   "metadata": {},
   "source": [
    "##### Question 6. What will be the output for 32 ?\n",
    "1. 32768\n",
    "2. False"
   ]
  },
  {
   "cell_type": "markdown",
   "metadata": {},
   "source": [
    "##### Question 7. What will be the output for 78?\n",
    "1. 474552\n",
    "2. False"
   ]
  },
  {
   "cell_type": "markdown",
   "metadata": {},
   "source": [
    "##### Question 8. Write a Python function that takes a list and returns a new list with unique elements of the first list.\n",
    "\n",
    "Given List `l = [5,1,2,3,3,3,3,4,4,5,4]`\n",
    "\n",
    "What is the length of the new created list?\n",
    "    \n",
    "1. 4\n",
    "2. 5\n",
    "3. 6\n",
    "4. 7"
   ]
  },
  {
   "cell_type": "markdown",
   "metadata": {},
   "source": [
    "##### Question 9.  addToInventory(inventory, addedItems)\n",
    "Write a function named <b>addToInventory(inventory, addedItems)</b>, where the <b>inventory</b> parameter is a dictionary representing the player’s inventory and the <b>addedItems</b> parameter is a list.<br> \n",
    "\n",
    "The <b>addToInventory()</b> function should return a dictionary that represents the updated inventory\n",
    "\n",
    "<b>Note:</b> that the addedItems list can contain multiples of the same item.<br>\n",
    "\n",
    "```python\n",
    ">>> inv = {'gold coin': 42, 'rope': 1} \n",
    ">>> dragonLoot = ['gold coin', 'dagger', 'gold_coin', 'gold coin', 'ruby']\n",
    "```\n",
    "\n",
    "what will be the total count of **gold coin** in updated dictionary?\n",
    "1. 42\n",
    "2. 3\n",
    "3. 44\n",
    "4. 45"
   ]
  },
  {
   "cell_type": "markdown",
   "metadata": {},
   "source": [
    "##### Question 10. How many unique values are in the list in last question (Question 9)?\n",
    "1. 2\n",
    "2. 3\n",
    "3. 4\n",
    "4. 5"
   ]
  }
 ],
 "metadata": {
  "kernelspec": {
   "display_name": "Python 3",
   "language": "python",
   "name": "python3"
  },
  "language_info": {
   "codemirror_mode": {
    "name": "ipython",
    "version": 3
   },
   "file_extension": ".py",
   "mimetype": "text/x-python",
   "name": "python",
   "nbconvert_exporter": "python",
   "pygments_lexer": "ipython3",
   "version": "3.6.7"
  }
 },
 "nbformat": 4,
 "nbformat_minor": 4
}
