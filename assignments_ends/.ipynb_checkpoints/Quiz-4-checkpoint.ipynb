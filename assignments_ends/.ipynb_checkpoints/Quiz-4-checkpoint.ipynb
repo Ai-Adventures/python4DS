{
 "cells": [
  {
   "cell_type": "markdown",
   "metadata": {},
   "source": [
    "<img src='../images/logo_full.png'/>\n",
    "\n",
    "## <p style=\"text-align: center;\"> Python for Data Science </p>\n",
    "The course is offered by [Ai Adventures](www.aiadventures.in). The notebooks are created by [Pranav Uikey]() and [Ankur Singh](). This material is subject to the terms and conditions of the [Creative Commons CC BY-NC-SA 4.0](https://creativecommons.org/licenses/by-nc-sa/4.0/) license. Any use for commercial purpose is strictly prohibited."
   ]
  },
  {
   "cell_type": "markdown",
   "metadata": {},
   "source": [
    "## <center>Quiz-4: Functions</center>\n",
    "\n",
    "Prior to working on the Quiz, you'd better check out the corresponding course material:\n",
    "\n",
    "- [Functions](https://nbviewer.jupyter.org/github/Ai-Adventures/python4DS/blob/master/Functions.ipynb),  define your own functions so that you can organize your code into more manageable chunks.\n",
    "\n",
    "We suggest that you first read the articles (quiz questions are based on them), if something is not clear - ask us in the class.\n",
    "\n",
    "**Your task is:**\n",
    "1. Study the material\n",
    "2. Write the code required\n",
    "3. Submit your answers, [webform]()\n",
    "\n",
    "**Deadline for quize: 17th November 2019, 05:00 PM (IST)**\n",
    "\n",
    "Solutions will be discussed in the class on **17th November, 2019**. You can get up to **10 credits**, max.\n",
    "___"
   ]
  },
  {
   "cell_type": "markdown",
   "metadata": {},
   "source": [
    "##### Question 1. Which of the following Enclose the input Parameters or Arguments of a function?\n",
    "1. bracket, `[]`\n",
    "2. parentheses, `()`\n",
    "3. curly braces, `{}`\n",
    "4. quotation marks, `\"\"`"
   ]
  },
  {
   "cell_type": "markdown",
   "metadata": {},
   "source": [
    "##### Question 2. Which of the following keywords marks the beginning of the function block?\n",
    "    a) fun\n",
    "    b) define\n",
    "    c) def\n",
    "    d) function "
   ]
  },
  {
   "cell_type": "markdown",
   "metadata": {},
   "source": [
    "##### Question 3. Which Of The Following Function Definition Does Not Return Any Value?\n",
    "    a) a function that prints integers from 1 to 100.\n",
    "    b) a function that returns a random integer from 1 to 100.\n",
    "    c) a function that checks whether the current second is an integer from 1 to 100.\n",
    "    d) a function that converts an uppercase letter to lowercase."
   ]
  },
  {
   "cell_type": "markdown",
   "metadata": {},
   "source": [
    "___\n",
    "##### Question 4. Which of the Following Statements Correctly Represent The Function Body In The Given Code Snippet?\n",
    "```python\n",
    ">>>def f(number):\n",
    ">>>    # Missing function body\n",
    "   \n",
    ">>> print(f(5))\n",
    "```\n",
    "    a) return “number”\n",
    "    b) print(number)\n",
    "    c) print(“number”)\n",
    "    d) return number\n",
    "\n"
   ]
  },
  {
   "cell_type": "markdown",
   "metadata": {},
   "source": [
    "##### Question 5. What Is The Output Of The Following Code Snippet?\n",
    "```python\n",
    ">>> def func(message, num = 1):\n",
    ">>>      print(message * num)\n",
    " \n",
    ">>> func('Welcome')\n",
    ">>> func('Viewers', 3)\n",
    "```\n",
    "\n",
    "    a) Welcome\n",
    "       Viewers\n",
    "       \n",
    "    b) Welcome\n",
    "       ViewersViewersViewers\n",
    "    \n",
    "    c)  Welcome\n",
    "        Viewers,Viewers,Viewers\n",
    "    \n",
    "    d) Welcome"
   ]
  },
  {
   "cell_type": "markdown",
   "metadata": {},
   "source": [
    "##### Question 6) What Is The Output Of The Following Code Snippet?\n",
    "```python\n",
    ">>> def myfunc(text, num):\n",
    ">>>     while num > 0:\n",
    ">>>         print(text)\n",
    ">>>     num = num - 1\n",
    "\n",
    ">>> myfunc('Hello', 4)\n",
    "```\n",
    "    a) HelloHelloHelloHelloHello\n",
    "    b) HelloHelloHelloHello\n",
    "    c) invalid call\n",
    "    d) infinite loop"
   ]
  },
  {
   "cell_type": "markdown",
   "metadata": {},
   "source": [
    "##### Question 7. What Is The Output Of The Following Code Snippet?\n",
    "```python\n",
    ">>> num = 1\n",
    ">>> def func():\n",
    ">>>    num = 3\n",
    ">>>     print(num)\n",
    "\n",
    ">>> func()\n",
    ">>>print(num)\n",
    "```\n",
    "\n",
    "    a) 1 3\n",
    "    b) 3 1\n",
    "    c) The program has a runtime error because x is not defined.\n",
    "    d) 1 1"
   ]
  },
  {
   "cell_type": "markdown",
   "metadata": {},
   "source": [
    "##### Question 8. Which Of The Following Items Are Present In The Function Definition?\n",
    "    a) function name\n",
    "    b) function name and parameter list\n",
    "    c) parameter list\n",
    "    d) return value"
   ]
  },
  {
   "cell_type": "markdown",
   "metadata": {},
   "source": [
    "##### Question 9. What will be the output of the following program?\n",
    "```python\n",
    ">>> def printLine(text):\n",
    ">>>    print(text, 'is awesome.')\n",
    "\n",
    ">>> printLine('Python')\n",
    "```\n",
    "\n",
    "    a) Python \n",
    "    b) Python is awesome\n",
    "    c) text is awesome\n",
    "    d) is awesome"
   ]
  },
  {
   "cell_type": "markdown",
   "metadata": {},
   "source": [
    "##### Question 10. If return statement is not used inside the function, the function will return:\n",
    "\n",
    "    a) 0 \n",
    "    b) None\n",
    "    c) an arbritary number\n",
    "    d) Error! Functions in Python must have return statement"
   ]
  }
 ],
 "metadata": {
  "kernelspec": {
   "display_name": "Python 3",
   "language": "python",
   "name": "python3"
  },
  "language_info": {
   "codemirror_mode": {
    "name": "ipython",
    "version": 3
   },
   "file_extension": ".py",
   "mimetype": "text/x-python",
   "name": "python",
   "nbconvert_exporter": "python",
   "pygments_lexer": "ipython3",
   "version": "3.6.9"
  }
 },
 "nbformat": 4,
 "nbformat_minor": 4
}
