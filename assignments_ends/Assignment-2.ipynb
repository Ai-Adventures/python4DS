{
 "cells": [
  {
   "cell_type": "markdown",
   "metadata": {},
   "source": [
    "<img src='../images/logo_full.png'/>\n",
    "\n",
    "## <p style=\"text-align: center;\"> Python for Data Science </p>\n",
    "The course is offered by [Ai Adventures](https://aiadventures.in). The notebooks are created by [Pranav Uikey](https://twitter.com/Pranav_Uikey_) and [Ankur Singh](https://twitter.com/I_ankursingh). This material is subject to the terms and conditions of the [Creative Commons CC BY-NC-SA 4.0](https://creativecommons.org/licenses/by-nc-sa/4.0/) license. Any use for commercial purpose is strictly prohibited."
   ]
  },
  {
   "cell_type": "markdown",
   "metadata": {},
   "source": [
    "## <center>Assignment-2: Flow Control</center>\n",
    "\n",
    "Prior to working on the assignment, you'd better check out the corresponding course material:\n",
    "\n",
    "- [Decision Making](https://nbviewer.jupyter.org/github/Ai-Adventures/python4DS/blob/master/Flow%20Control.ipynb), make programs decide which instructions to execute so your code can intelligently respond to different conditions.\n",
    "- [Loops](https://nbviewer.jupyter.org/github/Ai-Adventures/python4DS/blob/master/Loops.ipynb),  run the same piece of code again & again.\n",
    "\n",
    "We suggest that you first read the articles (questions are based on them), if something is not clear - ask us in the class.\n",
    "\n",
    "**Your task is:**\n",
    "1. Study the material\n",
    "2. Write the code required\n",
    "3. Submit your answers, [webform](https://forms.gle/eP5A5JHo7tx1Dtxu5)\n",
    "\n",
    "**Deadline for assignement: 24th November 2019, 4:30 PM (IST)**\n",
    "\n",
    "Solutions will be discussed in the class on **24th November, 2019**. You can get up to **10 credits**, max.\n",
    "___"
   ]
  },
  {
   "cell_type": "markdown",
   "metadata": {},
   "source": [
    "## Task-1"
   ]
  },
  {
   "cell_type": "markdown",
   "metadata": {},
   "source": [
    "##### Write code that prints *Hello* if *1* is stored in *spam*, prints *Howdy* if *2* is stored in *spam*, and prints *Greetings!* if anything else is stored in *spam*."
   ]
  },
  {
   "cell_type": "code",
   "execution_count": 1,
   "metadata": {},
   "outputs": [],
   "source": [
    "# your code here"
   ]
  },
  {
   "cell_type": "markdown",
   "metadata": {},
   "source": [
    "##### Write a short program that prints the numbers 1 to 10 using a *for* loop. Then write an equivalent program that prints the numbers 1 to 10 using a *while* loop."
   ]
  },
  {
   "cell_type": "code",
   "execution_count": null,
   "metadata": {},
   "outputs": [],
   "source": [
    "# your code here"
   ]
  },
  {
   "cell_type": "markdown",
   "metadata": {},
   "source": [
    "##### <span style = 'color:red'>Question 1</span>. Write code that prints all the even numbers from 13 to 28 (both numbers included). \n",
    "How many numbers do you get?\n",
    "1. 10\n",
    "2. 9\n",
    "3. 8\n",
    "4. 12"
   ]
  },
  {
   "cell_type": "markdown",
   "metadata": {},
   "source": [
    "##### <span style = 'color:red'>Question 2</span>. Write code which prints all the numbers that are either divisible by 5 or 3 between 13 to 28 (both numbers included). \n",
    "How many **even** numbers do you get?\n",
    "\n",
    "1. 2\n",
    "2. 3\n",
    "3. 4\n",
    "4. 0"
   ]
  },
  {
   "cell_type": "markdown",
   "metadata": {},
   "source": [
    "##### <span style = 'color:red'>Question 3</span>. Write a Python program to check a triangle is  equilateral, isosceles or scalene .\n",
    "\n",
    "\n",
    "What will be the type of triangle if given sides are `a = 10, b = 6, c = 8` ?.\n",
    "\n",
    "1. Isosceles\n",
    "2. Equilateral\n",
    "3. Scalene"
   ]
  },
  {
   "cell_type": "markdown",
   "metadata": {},
   "source": [
    "##### <span style = 'color:red'>Question 4</span>. Is there any difference between `range(10)`, `range(0, 10)`, and `range(0, 10, 1)`. write a *for* loop to answer.\n",
    "1. Yes\n",
    "2. No"
   ]
  },
  {
   "cell_type": "markdown",
   "metadata": {},
   "source": [
    "##### <span style = 'color:red'>Question 5</span>. \"No ticket\", \"Small ticket\", or \"Big Ticket\".\n",
    "You are driving a little too fast, and a police officer stops you. \n",
    "\n",
    "Write a program to print one of 3 possible results: \"No ticket\", \"Small ticket\", or \"Big Ticket\".\n",
    "\n",
    "  - If your speed is 60 or less, the result is \"No Ticket\". \n",
    "  \n",
    "  - If speed is between 61 and 80 inclusive, the result is \"Small Ticket\". \n",
    "  \n",
    "  - If speed is 81 or more, the result is \"Big Ticket\". \n",
    "  \n",
    "  - Unless it is your birthday -- on your birthday, your speed can be 5 higher in all cases.\n",
    "  \n",
    "What does your program think, if your are driving at 75 on your birthday?\n",
    "\n",
    "1. No Ticket\n",
    "2. Small Ticket\n",
    "3. Big Ticket"
   ]
  },
  {
   "cell_type": "markdown",
   "metadata": {},
   "source": [
    "##### <span style = 'color:red'>Question 6</span>. A student will not be allowed to sit in exam if his/her attendence is less than 75%.\n",
    "Take following input from user:\n",
    "\n",
    "Number of classes held\n",
    "\n",
    "Number of classes attended.\n",
    "\n",
    "Calculate percentage of class attended.And check whether that student is allowed to sit in the exam or not.\n",
    "\n",
    "Count the **number of conditions(if-else statement pair)** used in the program for it to work properly.\n",
    "\n",
    "1. 1\n",
    "2. 2\n",
    "3. 3\n",
    "4. 4"
   ]
  },
  {
   "cell_type": "markdown",
   "metadata": {},
   "source": [
    "##### <span style = 'color:red'>Question 7</span>. The Collatz Sequence \n",
    "Write a program that takes one variable named *number*.<br>\n",
    "<b>(a)</b> If number is even, then it should print number // 2 and update this value.<br> \n",
    "<b>(b)</b> If number is odd, then it should print and update the value to 3 * number + 1.<br> \n",
    "Then write a while that keeps doing this on the number <b>until the `number == 1`</b>.<br> \n",
    "(Amazingly enough, this sequence actually works for any integer—sooner or later, using this sequence, you’ll arrive at 1! Even mathematicians aren’t sure why. Your program is exploring what’s called the Collatz sequence, sometimes called “the simplest impossible math problem.”)<br>  \n",
    "\n",
    "<b>Hint:</b> An integer number is even if `number % 2 == 0`, and it’s odd if  `number % 2 == 1`.\n",
    "\n",
    "<b>Sample Output :</b> `number = 3`\n",
    "<br>3<br> 10<br> 5<br> 16<br> 8<br> 4<br> 2<br> 1\n",
    "\n",
    "How many numbers do you get if `number = 7`? Include both 7 & 1 while counting.\n",
    "1. 5\n",
    "2. 15\n",
    "3. 17\n",
    "4. 12"
   ]
  },
  {
   "cell_type": "markdown",
   "metadata": {},
   "source": [
    "##### <span style = 'color:red'>Question 8</span>. Write a Python program to get the Fibonacci series.  \n",
    "The Fibonacci Sequence is the series of numbers as below, where **every next number is found by adding up the two numbers before it.**\n",
    "\n",
    "        0, 1, 1, 2, 3, 5, 8, 13, 21, .... \n",
    "        \n",
    "Count the number of element you get **between 30 to 100.**\n",
    "\n",
    "1. 2\n",
    "2. 3\n",
    "3. 4\n",
    "4. 5"
   ]
  }
 ],
 "metadata": {
  "kernelspec": {
   "display_name": "Python 3",
   "language": "python",
   "name": "python3"
  },
  "language_info": {
   "codemirror_mode": {
    "name": "ipython",
    "version": 3
   },
   "file_extension": ".py",
   "mimetype": "text/x-python",
   "name": "python",
   "nbconvert_exporter": "python",
   "pygments_lexer": "ipython3",
   "version": "3.6.7"
  }
 },
 "nbformat": 4,
 "nbformat_minor": 4
}
