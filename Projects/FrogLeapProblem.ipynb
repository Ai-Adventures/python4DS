{
 "cells": [
  {
   "cell_type": "markdown",
   "metadata": {},
   "source": [
    "## Problem statement ##\n",
    "Create famous 'Frog leap' puzzle game. Try completing the game before starting to get an idea about its working.\n",
    "[Demonstration](http://arcade.modemhelp.net/play-4863.html).<br>\n",
    "\n",
    "### Rules ###\n",
    "1. The left set of frogs can only move right, the right set of frogs can only move left.\n",
    "2. Frogs can move forward one space, or move two spaces by jumping over another frog from opposite side.\n",
    "3. The puzzle is solved when the two sets of frogs have switched positions.\n",
    "<br>\n",
    "\n"
   ]
  },
  {
   "cell_type": "markdown",
   "metadata": {},
   "source": [
    "## Steps to solve the problem:\n",
    "### Step1:-\n",
    "- Display green and brown frogs on the left and right sides initially.\n",
    "\n",
    "Initial Display :-  \n",
    "```\n",
    "[ 0 ,  1 ,  2 ,  3 ,  4 ,  5 ,  6 ]\n",
    "['G', 'G', 'G', '-', 'B', 'B', 'B']\n",
    "```\n",
    "<br>\n",
    "Here 'G' represents Green frogs on the left side and 'B' represents brown frogs on the right side. The '-' defines the position of empty leaf.\n",
    "(You can change display according to your imagination or convinience)\n",
    "\n",
    "### Step2:-\n",
    "Accept positions of the frog that you want to move.<br>\n",
    "Example: If we enter position 2 then the game will look like this:-\n",
    "```\n",
    "[ 0 ,  1 ,  2 ,  3 ,  4 ,  5 ,  6 ]\n",
    "['G', 'G', '-', 'G', 'B', 'B', 'B']\n",
    "```\n",
    "\n",
    "### Step3:- ###\n",
    "Define Invalid moves and add conditional 'if' statements accordingly \n",
    "#### Rules\n",
    "1. Entered position should be between 0 to 6. It can be a character 'q' to quit the game.\n",
    "2. Entered position cannot be the position of empty leaf.\n",
    "3. If the selected frog position cannot perform the contrains given in rule 2 then the move is invalid.\n",
    "\n",
    "### Step4:-\n",
    "Make the appropriate move by changing the game display."
   ]
  },
  {
   "cell_type": "markdown",
   "metadata": {},
   "source": [
    "## Lesson 1\n",
    "First create a list `positions` which contains the characters 'G','B' and '-' in the same sequence as given in the initial display state."
   ]
  },
  {
   "cell_type": "code",
   "execution_count": null,
   "metadata": {},
   "outputs": [],
   "source": [
    "### Your code ###"
   ]
  },
  {
   "cell_type": "markdown",
   "metadata": {},
   "source": [
    "Now print this string ```[ 0 ,  1 ,  2 ,  3 ,  4 ,  5 ,  6 ]``` and after that print the list `positions`"
   ]
  },
  {
   "cell_type": "code",
   "execution_count": null,
   "metadata": {},
   "outputs": [],
   "source": [
    "### Your code ###"
   ]
  },
  {
   "cell_type": "markdown",
   "metadata": {},
   "source": [
    "Take position number as input."
   ]
  },
  {
   "cell_type": "code",
   "execution_count": null,
   "metadata": {},
   "outputs": [],
   "source": [
    "### Your code ###"
   ]
  },
  {
   "cell_type": "markdown",
   "metadata": {},
   "source": [
    "Now the taken input is in string format. So first check if the input is 'q' character. If input is 'q' then the person is quiting the game so print 'You Lose'."
   ]
  },
  {
   "cell_type": "code",
   "execution_count": null,
   "metadata": {},
   "outputs": [],
   "source": [
    "### Your code ###"
   ]
  },
  {
   "cell_type": "markdown",
   "metadata": {},
   "source": [
    "Next if input character is not 'q' then it has to be some integer. so convert input to integer format."
   ]
  },
  {
   "cell_type": "code",
   "execution_count": null,
   "metadata": {},
   "outputs": [],
   "source": [
    "### Your code ###"
   ]
  },
  {
   "cell_type": "markdown",
   "metadata": {},
   "source": [
    "## Lesson 2\n",
    "Now we have to check validity of the selected positions or move.<br>\n",
    "If the entered number isn't between form 0 to 6 both included, then print 'Invalid move'."
   ]
  },
  {
   "cell_type": "code",
   "execution_count": null,
   "metadata": {},
   "outputs": [],
   "source": [
    "### Your code ###"
   ]
  },
  {
   "cell_type": "markdown",
   "metadata": {},
   "source": [
    "A frog should be present on the selected position to make a move. If leaf is selected then it doesn't make sense. Therefore, if entered postition is same as the postition of empty leaf then the move is invalid. "
   ]
  },
  {
   "cell_type": "code",
   "execution_count": null,
   "metadata": {},
   "outputs": [],
   "source": [
    "### Your code ###"
   ]
  },
  {
   "cell_type": "markdown",
   "metadata": {},
   "source": [
    "```\n",
    "    Check if the selected frog is 'G':\n",
    "  \n",
    "        (Inside if when it's 'G'. As 'G' is selected frog can move to right only.)\n",
    "        \n",
    "        condition1:\n",
    "        If selected position +1 is less than or equal to 6 and curent position +1 contains '-' then\n",
    "        it's a valid move. So write 'pass' statement to continue if statement without doign anything.\n",
    "        \n",
    "        condition2:\n",
    "        Else if selected position +2 is less than or equal to 6 and if selected positions +2 contains '-'\n",
    "        and if selected position +1 contains 'B' then it's a valid movie. So write 'pass' statement\n",
    "        to continue if statement without doign anything.\n",
    "        \n",
    "        condition3:\n",
    "        Else remainig all are invalid, so print Invalid\n",
    "        \n",
    "```"
   ]
  },
  {
   "cell_type": "code",
   "execution_count": null,
   "metadata": {},
   "outputs": [],
   "source": [
    "### Your code ###"
   ]
  },
  {
   "cell_type": "markdown",
   "metadata": {},
   "source": [
    "```\n",
    "    Check if the selected frog is 'B':\n",
    "    \n",
    "        (Inside if when it's 'B'. As 'B' is selected frog can move to left only.)\n",
    "        \n",
    "        condition1:\n",
    "        If selected position -1 is more than or equal to 0 and curent position -1 contains '-' then\n",
    "        it's a valid move. So write 'pass' statement to continue if statement without doign anything.\n",
    "        \n",
    "        condition2:\n",
    "        Else if selected position -2 is more than or equal to 0 and if selected positions -2 contains '-'\n",
    "        and if selected position -1 contains 'G' then it's a valid movie. So write 'pass' statement \n",
    "        to continue if statement without doign anything.\n",
    "        \n",
    "        condition3:\n",
    "        Else remainig all are invalid,, so print Invalid\n",
    "        \n",
    "```"
   ]
  },
  {
   "cell_type": "code",
   "execution_count": null,
   "metadata": {},
   "outputs": [],
   "source": [
    "### Your code ###"
   ]
  },
  {
   "cell_type": "markdown",
   "metadata": {},
   "source": [
    "### Lesson 3\n",
    "Now we have to make appropriate move.<br>\n",
    "```\n",
    "       Check if the selected frog is 'G':\n",
    "           (Inside if when it's 'G')\n",
    "           condition1:\n",
    "           If selected position +1 is empty leaf select it as positions2 by assigning it to some variable.\n",
    "           \n",
    "           condition2:\n",
    "           If selected position +2 is empty leaf select it as positions2 by assigning it to some variable.\n",
    "           \n",
    "```"
   ]
  },
  {
   "cell_type": "code",
   "execution_count": null,
   "metadata": {},
   "outputs": [],
   "source": [
    "### Your code ###"
   ]
  },
  {
   "cell_type": "markdown",
   "metadata": {},
   "source": [
    "```\n",
    "       Check if the selected frog is 'B':\n",
    "           (Inside if when it's 'B')\n",
    "           condition1:\n",
    "           If selected position -1 is empty leaf select it as positions2 by assigning it to some variable.\n",
    "           \n",
    "           condition2:\n",
    "           If selected position -2 is empty leaf select it as positions2 by assigning it to some variable.\n",
    "           \n",
    "```\n",
    "<br>\n",
    "(You can assign these values while writing invalid moves but the code will look complecated so we are assigning position in different 'if' statement.)"
   ]
  },
  {
   "cell_type": "code",
   "execution_count": null,
   "metadata": {},
   "outputs": [],
   "source": [
    "### Your code ###"
   ]
  },
  {
   "cell_type": "markdown",
   "metadata": {},
   "source": [
    "Swap the element at selected positions and calculated position2 in the list.<br> So basically we are moving the frog to next valid position by swapping elelments of array."
   ]
  },
  {
   "cell_type": "code",
   "execution_count": null,
   "metadata": {},
   "outputs": [],
   "source": [
    "### Your code ###"
   ]
  },
  {
   "cell_type": "markdown",
   "metadata": {},
   "source": [
    "Now print the display of the game again to see the change.<br>\n",
    "If we enter position 2 then the output will look like this:-\n",
    "```\n",
    "[ 0 ,  1 ,  2 ,  3 ,  4 ,  5 ,  6 ]\n",
    "['G', 'G', '-', 'G', 'B', 'B', 'B']\n",
    "```"
   ]
  },
  {
   "cell_type": "code",
   "execution_count": null,
   "metadata": {},
   "outputs": [],
   "source": [
    "### Your code ###"
   ]
  },
  {
   "cell_type": "markdown",
   "metadata": {},
   "source": [
    "Check for winning condition by comparing the elements of list. If player has won the game print 'You Win'"
   ]
  },
  {
   "cell_type": "code",
   "execution_count": null,
   "metadata": {},
   "outputs": [],
   "source": [
    "### Your code ###"
   ]
  },
  {
   "cell_type": "markdown",
   "metadata": {},
   "source": [
    "Now the game should keep running until the player quits, so place all conditional statements inside an infinite loop.<br>\n",
    "1. We have to 'break' the loop if the player presses 'q' and quits.\n",
    "2. If the move made by player is 'Invalid' then we have to 'continue' without executing remaining part of the selected iteration.\n",
    "3. If player wins the game we have to break the loop."
   ]
  },
  {
   "cell_type": "markdown",
   "metadata": {},
   "source": [
    "```\n",
    "Infinite loop:\n",
    "    (inside loop)\n",
    "    1.taking inputs\n",
    "    2.Chek all conditions invalid and quite\n",
    "    3.Make the appropriate move by calculating position2.\n",
    "    4.Display game\n",
    "    4.Check winning condition\n",
    "```"
   ]
  },
  {
   "cell_type": "code",
   "execution_count": null,
   "metadata": {},
   "outputs": [],
   "source": [
    "### Your code ###"
   ]
  },
  {
   "cell_type": "markdown",
   "metadata": {},
   "source": [
    "## To avoid printing the output too many times, clear the screen after every iteration\n",
    "1. Copy the following at the top of your code: <br>\n",
    "`from IPython.display import clear_output`\n",
    "2. We have to clear screen before displayinh new state in the game Add following function right before displaying output:<br>\n",
    "`clear_output()`\n",
    "\n",
    "#### Algorithm with `clear_output()`"
   ]
  },
  {
   "cell_type": "markdown",
   "metadata": {},
   "source": [
    "```\n",
    "Infinite loop:\n",
    "    (inside loop)\n",
    "    1.taking inputs\n",
    "    2.Chek all conditions invalid and quite\n",
    "    3.Make the appropriate move by calculating position2.\n",
    "    clear_output()\n",
    "    4.Display game\n",
    "    4.Check winning condition\n",
    "```"
   ]
  },
  {
   "cell_type": "code",
   "execution_count": null,
   "metadata": {},
   "outputs": [],
   "source": [
    "### Your code ###"
   ]
  },
  {
   "cell_type": "markdown",
   "metadata": {},
   "source": [
    "#### The game is now functionally complete.\n",
    "Keeping everything inside the main loop is bad practice. Sometimes, it also introduces redundancy in the code. So let's create functions.<br>\n",
    "Create 2 functions `is_invalid()` and `make_a_move()` pass selected position to both functions. Define these functions right after variable declaration.\n",
    "\n",
    "- `is_invalid()`\n",
    "    1. Pass the selected position to this function.\n",
    "    2. Copy all conditions for validating a move in this function.\n",
    "    3. Remove all print statements from the conditions in the function.\n",
    "    4. In place of all `pass` statements we will return `False`\n",
    "    5. In place of all `continue` statements we will return `True`\n"
   ]
  },
  {
   "cell_type": "code",
   "execution_count": null,
   "metadata": {},
   "outputs": [],
   "source": [
    "### Your code ###"
   ]
  },
  {
   "cell_type": "markdown",
   "metadata": {},
   "source": [
    "- `make_a_move()`\n",
    "    1. Pass the selected position to this function.\n",
    "    2. Copy the code snippet that calculates position2 and also swaps the selected position with position2."
   ]
  },
  {
   "cell_type": "code",
   "execution_count": null,
   "metadata": {},
   "outputs": [],
   "source": [
    "### Your code ###"
   ]
  },
  {
   "cell_type": "markdown",
   "metadata": {},
   "source": [
    "Inside the while loop we have removed validing conditions and also make a move calculation. Insted of that write the following condition.<br>\n",
    "```\n",
    "If value returned by i_invalid() if 'True'\n",
    "    then print 'invalid move'\n",
    "else\n",
    "    call make_a_move() function\n",
    "```\n",
    "\n",
    "Write the whole code by making given changes."
   ]
  },
  {
   "cell_type": "code",
   "execution_count": null,
   "metadata": {},
   "outputs": [],
   "source": [
    "### Your code ###"
   ]
  },
  {
   "cell_type": "markdown",
   "metadata": {},
   "source": [
    "### Now the game is complete.\n",
    "If you want to make it look more stylish then replace with emoji.<br>\n",
    "Replace:<br>\n",
    "'G' = '🐸' = '\\U0001F438'<br>\n",
    "'B' = '🐬' = '\\U0001F42C'<br>\n",
    "'-' = '🍁' = '\\U0001F341'"
   ]
  },
  {
   "cell_type": "code",
   "execution_count": null,
   "metadata": {},
   "outputs": [],
   "source": [
    "### Your code ###"
   ]
  }
 ],
 "metadata": {
  "kernelspec": {
   "display_name": "Python 3",
   "language": "python",
   "name": "python3"
  },
  "language_info": {
   "codemirror_mode": {
    "name": "ipython",
    "version": 3
   },
   "file_extension": ".py",
   "mimetype": "text/x-python",
   "name": "python",
   "nbconvert_exporter": "python",
   "pygments_lexer": "ipython3",
   "version": "3.7.3"
  }
 },
 "nbformat": 4,
 "nbformat_minor": 2
}
