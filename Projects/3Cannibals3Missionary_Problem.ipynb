{
 "cells": [
  {
   "cell_type": "markdown",
   "metadata": {},
   "source": [
    "## Problem statement ##\n",
    "Create famous 3 missionaries 3 cannibals crossing the river game. Rules are as follows.<br>\n",
    "[Demonstration](https://www.plastelina.net/game2.html).\n",
    "\n",
    "### Rules ###\n",
    "1. Number of missionaries on either side should never be less than number of cannibals\n",
    "2. Only one or 2 people can travel through boat at a time.\n",
    "3. You win the game when all missionaries and cannibals on the right go to the left side\n",
    "\n"
   ]
  },
  {
   "cell_type": "markdown",
   "metadata": {},
   "source": [
    "## Steps to solve the problem: ##\n",
    "### Step1:- ###\n",
    "- Display number of cannibals(C) and missionaries(M) on the left and right.\n",
    "- Display boat(B) on the appropriate side starting from the right.\n",
    "\n",
    "Initial Display :-  \n",
    "M = 0 C = 0  |-----B|  M = 3 C = 3\n",
    "<br>\n",
    "(You can change display according to your imagination or convinience)\n",
    "\n",
    "### Step2:- ###\n",
    "Accept number of missionaries and then number of cannibals.\n",
    "Example: Initially if 1 missionaries and 1 cannibals goes from right to left the game display will look like this\n",
    "\n",
    "M = 1 C = 1  |B-----|  M = 2 C = 2\n",
    " \n",
    "(Keep the side of the boat in mind)\n",
    "\n",
    "Don't forget to add and subtract number of missonary on both sides accordingly\n",
    "\n",
    "### Step3:- ###\n",
    "Define Invalid moves and add conditional 'if' statements accordingly \n",
    "#### Rules\n",
    "1. Number of people in a Boat should be 1 or 2\n",
    "2. Number of chosen missionaries or cannibals should not be greater than number of available missionaries or cannibals on the given side.\n",
    "   In above step one should not be able subtract 2 missionaries from left as only 1 is available.\n",
    "3. An additional condition for you to figure out!"
   ]
  },
  {
   "cell_type": "markdown",
   "metadata": {},
   "source": [
    "## Lesson 1"
   ]
  },
  {
   "cell_type": "markdown",
   "metadata": {},
   "source": [
    "Defining variables initially:\n",
    "1. Define variable boat_side as 'Right' initially.\n",
    "2. Create numeric variables for number of missionaries and cannibals\n",
    "   on the right and left side. So there are 3 missionaries and cannibals on right side and 0 on the left side.\n",
    "3. So total number of variables is 5.<br>\n",
    "Example:\n",
    "`boat_side, missionaries_on_right, cannibals_on_right, missionaries_on_left, cannibals_on_left`\n"
   ]
  },
  {
   "cell_type": "code",
   "execution_count": null,
   "metadata": {},
   "outputs": [],
   "source": [
    "#### Your code ####"
   ]
  },
  {
   "cell_type": "markdown",
   "metadata": {},
   "source": [
    "Printing in a stylish manner like this<br>\n",
    "\n",
    "M = 0 C = 0  |-----B|  M = 3 C = 3<br>\n",
    "\n",
    "Make sure to not hardcode all values."
   ]
  },
  {
   "cell_type": "code",
   "execution_count": 3,
   "metadata": {},
   "outputs": [],
   "source": [
    "#### Your code ####"
   ]
  },
  {
   "cell_type": "markdown",
   "metadata": {},
   "source": [
    "## Lesson 2"
   ]
  },
  {
   "cell_type": "markdown",
   "metadata": {},
   "source": [
    "Take input from user for deciding number of missionaries and cannibals.<br>\n",
    "Store inputs in 2 variables: `missionaries, cannibals`"
   ]
  },
  {
   "cell_type": "code",
   "execution_count": null,
   "metadata": {},
   "outputs": [],
   "source": [
    "### Your code ###"
   ]
  },
  {
   "cell_type": "markdown",
   "metadata": {},
   "source": [
    "Maximum number of people one the boat should be 1 or 2 only.<br>\n",
    "Else print \"Invalid move\""
   ]
  },
  {
   "cell_type": "code",
   "execution_count": null,
   "metadata": {},
   "outputs": [],
   "source": [
    "### Your code ###"
   ]
  },
  {
   "cell_type": "markdown",
   "metadata": {},
   "source": [
    "Add if else statement to check the value of 'boat_side' variable"
   ]
  },
  {
   "cell_type": "code",
   "execution_count": null,
   "metadata": {},
   "outputs": [],
   "source": [
    "### Your code ###"
   ]
  },
  {
   "cell_type": "markdown",
   "metadata": {},
   "source": [
    "#### Inside the scope of if statement for right side\n",
    "Now check if count for missionaries or cannibals on the right\n",
    "        side are less than the number that you entered for\n",
    "        adding to boat if not print \"Invalid move\"."
   ]
  },
  {
   "cell_type": "code",
   "execution_count": null,
   "metadata": {},
   "outputs": [],
   "source": [
    "### Your code ###"
   ]
  },
  {
   "cell_type": "markdown",
   "metadata": {},
   "source": [
    " Now when boad is on the right side after adding\n",
    "    missionaries and cannibles in th boat they will \n",
    "    be reduced from the right side"
   ]
  },
  {
   "cell_type": "code",
   "execution_count": null,
   "metadata": {},
   "outputs": [],
   "source": [
    "### Your code ###"
   ]
  },
  {
   "cell_type": "markdown",
   "metadata": {},
   "source": [
    "Similarly on the left side count for number of\n",
    "        missionaries and cannibals will increase."
   ]
  },
  {
   "cell_type": "code",
   "execution_count": null,
   "metadata": {},
   "outputs": [],
   "source": [
    "### Your code ###"
   ]
  },
  {
   "cell_type": "markdown",
   "metadata": {},
   "source": [
    "Display your game board in the same format as above like<br>\n",
    "M = 1 C = 1  |B-----|  M = 2 C = 2<br>\n",
    "Check the side of the Boat!!"
   ]
  },
  {
   "cell_type": "code",
   "execution_count": null,
   "metadata": {},
   "outputs": [],
   "source": [
    "### Your code ###"
   ]
  },
  {
   "cell_type": "markdown",
   "metadata": {},
   "source": [
    "#### Inside the scope of if statement for left side\n",
    "Now check if count for missionaries or cannibals on the left\n",
    "        side are less than the number that you entered for\n",
    "        adding to boat if not print \"Invalid move\"."
   ]
  },
  {
   "cell_type": "code",
   "execution_count": null,
   "metadata": {},
   "outputs": [],
   "source": [
    "### Your code ###"
   ]
  },
  {
   "cell_type": "markdown",
   "metadata": {},
   "source": [
    " Now when boad is on the left side after adding\n",
    "    missionaries and cannibles in th boat they will \n",
    "    be reduced from the left side"
   ]
  },
  {
   "cell_type": "code",
   "execution_count": null,
   "metadata": {},
   "outputs": [],
   "source": [
    "### Your code ###"
   ]
  },
  {
   "cell_type": "markdown",
   "metadata": {},
   "source": [
    "Similarly on the right side count for number of\n",
    "        missionaries and cannibals will increase."
   ]
  },
  {
   "cell_type": "code",
   "execution_count": null,
   "metadata": {},
   "outputs": [],
   "source": [
    "### Your code ###"
   ]
  },
  {
   "cell_type": "markdown",
   "metadata": {},
   "source": [
    "Display your game board in the same format as above like<br>\n",
    "M = 0 C = 0  |-----B|  M = 3 C = 3<br>\n",
    "Check the side of the Boat!!"
   ]
  },
  {
   "cell_type": "code",
   "execution_count": null,
   "metadata": {},
   "outputs": [],
   "source": [
    "### Your code ###"
   ]
  },
  {
   "cell_type": "markdown",
   "metadata": {},
   "source": [
    "### Flow of the combined code\n",
    "Add your code in the flow gicen below"
   ]
  },
  {
   "cell_type": "markdown",
   "metadata": {},
   "source": [
    "if boat_side == \"Right\":\n",
    "    Inside the scope of if statement for right side\n",
    "    \n",
    "``` \n",
    "    Now check if count for missionaries or cannibals on the right\n",
    "    side are less than the number that you entered for\n",
    "    adding to boat if not print \"Invalid move\".\n",
    "        \n",
    "```   \n",
    "        \n",
    "``` \n",
    "    Now when boad is on the right side after adding\n",
    "    missionaries and cannibles in th boat they will \n",
    "    be reduced from the right side\n",
    "    \n",
    "```     \n",
    "    \n",
    "``` \n",
    "    Similarly on the left side count for number of\n",
    "    missionaries and cannibals will increase.\n",
    "        \n",
    "```\n",
    "    \n",
    "    \n",
    "```\n",
    "    Display your game board in the same format as above like\n",
    "    \n",
    "        M = 0 C = 0  |-----B|  M = 3 C = 3\n",
    "\n",
    "    Check the side of the Boat!!\n",
    "\n",
    "```\n",
    "\n",
    "\n",
    "```\n",
    "    Now we are done for the right side so lets change value of its variable\n",
    "\n",
    "```\n",
    "\n",
    "elif boat_side == \"Left\":\n",
    "    Inside the scope of if statement for left side    \n",
    "``` \n",
    "    Now check if count for missionaries or cannibals on the right\n",
    "    side are less than the number that you entered for\n",
    "    adding to boat if not print \"Invalid move\".\n",
    "    \n",
    "```\n",
    "       \n",
    "``` \n",
    "    Now when boad is on the left side after adding\n",
    "    missionaries and cannibles in th boat they will \n",
    "    be reduced from the left side.\n",
    "\n",
    "```    \n",
    "   \n",
    "``` \n",
    "    Similarly on the right side count for number of\n",
    "    missionaries and cannibals will increase.\n",
    "```\n",
    "    \n",
    "    \n",
    "``` \n",
    "    Display your game board in the same format as above like\n",
    "    \n",
    "    M = 0 C = 0  |-----B|  M = 3 C = 3\n",
    "\n",
    "    Check the side of the Boat!!\n",
    "```\n",
    "   \n",
    "    \n",
    "``` \n",
    "    Now we are done for the right side so lets change value of its variable\n",
    "```"
   ]
  },
  {
   "cell_type": "markdown",
   "metadata": {},
   "source": [
    "\n",
    "Now add conditions to check if the game is over:\n",
    "1. If number of missionaries is less that number of cannibals on right side and\n",
    "   number of missionaries are greater than zero.\n",
    "2. If number of missionaries is less that number of cannibals on left side and \n",
    "   number of missionaries are greater than zero.\n",
    "3. If over print 'YOU LOSE'\n"
   ]
  },
  {
   "cell_type": "code",
   "execution_count": null,
   "metadata": {},
   "outputs": [],
   "source": [
    "### Your code ###"
   ]
  },
  {
   "cell_type": "markdown",
   "metadata": {},
   "source": [
    "Add conditions to check if you have won the game:\n",
    "1. Number of missionaries and cannibals on the left side should be equal to 3.\n",
    "2. If condition matches print 'YOU WIN'."
   ]
  },
  {
   "cell_type": "code",
   "execution_count": null,
   "metadata": {},
   "outputs": [],
   "source": [
    "### Your code ###"
   ]
  },
  {
   "cell_type": "markdown",
   "metadata": {},
   "source": [
    "## Lesson 3"
   ]
  },
  {
   "cell_type": "markdown",
   "metadata": {},
   "source": [
    "The game must go on until you win or lose so lets put all conditions inside the infinite loop\n",
    "1. Now for all conditions make appropriate changes.\n",
    "2. If a move is invalid then without making any changes in the board you have to 'continue'.\n",
    "   So make changes in all the conditions.\n",
    "3. Now, if you Win or Lose the game 'break' the loop and get out of it.\n",
    "4. After getting out of the loop print \"Game Over\"."
   ]
  },
  {
   "cell_type": "code",
   "execution_count": null,
   "metadata": {},
   "outputs": [],
   "source": [
    "### Your code ###"
   ]
  },
  {
   "cell_type": "markdown",
   "metadata": {},
   "source": [
    "## To avoid printing the output too many times, clear the screen after every iteration\n",
    "1. Copy the following at the top of your code: <br>\n",
    "`from IPython.display import clear_output`\n",
    "2. Now after taking input we want to clear the whole screen. Therefore add following function right before displaying output:<br>\n",
    "`clear_output()`\n",
    "\n",
    "#### Algorithm with `clear_output()`"
   ]
  },
  {
   "cell_type": "markdown",
   "metadata": {},
   "source": [
    "Variable declaration\n",
    "\n",
    "Initial display\n",
    "\n",
    "```\n",
    "    While loop:\n",
    "        taking inputs for inmber of missionaries and cannibals\n",
    "        \n",
    "        if right:\n",
    "            all conditions and operations\n",
    "            ## Here add the function as ##\n",
    "            clear_output()\n",
    "            display output\n",
    "        else:\n",
    "            all conditions and operations\n",
    "            ## Here add the function as ##\n",
    "            clear_output()\n",
    "            display output\n",
    "        \n",
    "```"
   ]
  },
  {
   "cell_type": "markdown",
   "metadata": {},
   "source": [
    "## The game is now functionally complete. Let's make it pretty!\n",
    "\n",
    "1. Use the power of unicodes and use emojis\n",
    "2. Use for loops\n",
    "3. Hint: Just like before add everything in a string and just print the string \n",
    "\n",
    "#### The output should look like this after making all changes\n",
    "|🌊🌊🌊🌊🌊🚢|💂💂💂👹👹👹\n",
    "<br>\n",
    "After the first move, if we input 1 missionary and 1 cannibal the output will be:\n",
    "💂👹|🌊🌊🌊🌊🌊🚢|💂💂👹👹\n",
    "\n",
    "##### Unicodes\n",
    "💂 = '\\U0001f482'\n",
    "👹 = '\\U0001f479'\n",
    "🌊 = '\\U0001f30a'\n",
    "🚢 = '\\U0001f6A2'"
   ]
  },
  {
   "cell_type": "code",
   "execution_count": 1,
   "metadata": {},
   "outputs": [],
   "source": [
    "# Print in extra stylish manner\n",
    "# Initialize an empty string\n",
    "user_interface = ''\n",
    "\n",
    "# Add missionaries to the string based on their count on the left side using a 'for' loop\n",
    "### Your code ###\n",
    "    \n",
    "# Add cannibals to the string based on their count on the left side using a 'for' loop\n",
    "### Your code ###\n",
    "\n",
    "\n",
    "\n",
    "# Add waves emoji to the string\n",
    "### Your code ###\n",
    "\n",
    "#Add boat to the string\n",
    "### Your code ###\n",
    "\n",
    "# Add missionaries to the string based on their count on the right side using a 'for' loop\n",
    "### Your code ###\n",
    "\n",
    "# Add cannibals to the string based on their count on the right side using a 'for' loop\n",
    "### Your code ###\n",
    "\n",
    "#Print your string or the complete user interface\n",
    "### Your code ###"
   ]
  },
  {
   "cell_type": "markdown",
   "metadata": {},
   "source": [
    "#### Complete code after lesson 3"
   ]
  },
  {
   "cell_type": "code",
   "execution_count": 4,
   "metadata": {},
   "outputs": [],
   "source": [
    "### Your code ###"
   ]
  },
  {
   "cell_type": "markdown",
   "metadata": {},
   "source": [
    "## Lesson 4"
   ]
  },
  {
   "cell_type": "markdown",
   "metadata": {},
   "source": [
    "## The game is complete but still the code contains some repetitions\n",
    "#### Use functions to remove the repetitions"
   ]
  },
  {
   "cell_type": "markdown",
   "metadata": {},
   "source": [
    "### Function definition\n",
    "Create a function `display`.\n",
    "Copy the current display logic in the function.\n",
    "\n",
    "\n",
    "### Inside function definition\n",
    "1. Code to display people on the left.\n",
    "2. Check the side of the boat and accordingly change its display position in the code (use if else).\n",
    "3. Code to display people on the right side."
   ]
  },
  {
   "cell_type": "code",
   "execution_count": 3,
   "metadata": {},
   "outputs": [],
   "source": [
    "### Your Code ###"
   ]
  },
  {
   "cell_type": "code",
   "execution_count": null,
   "metadata": {},
   "outputs": [],
   "source": []
  }
 ],
 "metadata": {
  "kernelspec": {
   "display_name": "Python 3",
   "language": "python",
   "name": "python3"
  },
  "language_info": {
   "codemirror_mode": {
    "name": "ipython",
    "version": 3
   },
   "file_extension": ".py",
   "mimetype": "text/x-python",
   "name": "python",
   "nbconvert_exporter": "python",
   "pygments_lexer": "ipython3",
   "version": "3.7.3"
  }
 },
 "nbformat": 4,
 "nbformat_minor": 2
}
